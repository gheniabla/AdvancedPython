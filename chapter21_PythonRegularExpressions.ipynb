{
  "cells": [
    {
      "cell_type": "markdown",
      "id": "319f9871",
      "metadata": {
        "id": "319f9871"
      },
      "source": [
        "# Chapter21 - Python Regular Expressions\n",
        "Regular expressions (regex) provide a powerful way to search and manipulate strings. Python's built-in `re` module allows for efficient searching, splitting, and replacement of text using regex patterns. This notebook introduces regular expressions in Python, covering basic patterns, special characters, and useful functions within the `re` module."
      ]
    },
    {
      "cell_type": "markdown",
      "id": "28598577",
      "metadata": {
        "id": "28598577"
      },
      "source": [
        "##  21.1 Basic Patterns: Matching Literal Strings\n",
        "In regular expressions, the simplest form is matching literal strings. For example, searching for the word 'Python' in a string."
      ]
    },
    {
      "cell_type": "code",
      "execution_count": null,
      "id": "d53b1adb",
      "metadata": {
        "id": "d53b1adb",
        "outputId": "e91bcbd8-78f4-4b46-c81f-a2d937f50e2f",
        "colab": {
          "base_uri": "https://localhost:8080/"
        }
      },
      "outputs": [
        {
          "output_type": "stream",
          "name": "stdout",
          "text": [
            "Found: Python\n"
          ]
        }
      ],
      "source": [
        "import re\n",
        "text = \"Python is an amazing programming language.\"\n",
        "match = re.search(\"Python\", text)\n",
        "if match:\n",
        "    print(\"Found:\", match.group())\n",
        "else:\n",
        "    print(\"Not found.\")"
      ]
    },
    {
      "cell_type": "markdown",
      "id": "84b37057",
      "metadata": {
        "id": "84b37057"
      },
      "source": [
        "## 21.2 Special Characters in Regular Expressions\n",
        "Special characters are symbols that control how the search is performed. Here are a few:\n",
        "- `.` (Dot): Matches any character except newline.\n",
        "- `^`: Matches the start of a string.\n",
        "- `$`: Matches the end of a string.\n",
        "- `[abc]`: Matches a or b or c.\n",
        "- `[a-zA-Z0-9]`: Matches any letter from (a to z) or (A to Z) or (0 to 9).\n",
        "- `+`: Checks if the preceding character appears one or more times starting from that position.\n",
        "- `*`: Checks if the preceding character appears zero or more times starting from that position.\n",
        "- `?`: Checks if the preceding character appears exactly zero or one time starting from that position."
      ]
    },
    {
      "cell_type": "code",
      "source": [
        "import re\n",
        "\n",
        "# Text for searching\n",
        "text = \"cat mat bat rat\"\n",
        "\n",
        "# Pattern to match any three-letter word ending with 'at'\n",
        "pattern = \".at\"\n",
        "\n",
        "# Finding all matches\n",
        "matches = re.findall(pattern, text)\n",
        "\n",
        "# Printing the matches\n",
        "print(\"Matches:\", matches)\n"
      ],
      "metadata": {
        "id": "UIyb-tWKPF5U",
        "outputId": "37806e7c-e685-4ecf-b126-ff1358491b52",
        "colab": {
          "base_uri": "https://localhost:8080/"
        }
      },
      "id": "UIyb-tWKPF5U",
      "execution_count": null,
      "outputs": [
        {
          "output_type": "stream",
          "name": "stdout",
          "text": [
            "Matches: ['cat', 'mat', 'bat', 'rat']\n"
          ]
        }
      ]
    },
    {
      "cell_type": "markdown",
      "source": [
        "In the above example, the pattern .at is used to find all three-letter words in the string \"cat mat bat rat\" that end with 'at'. The dot . matches any character except a newline, so it will match 'c', 'm', 'b', and 'r' in this case, making the full matches 'cat', 'mat', 'bat', and 'rat'."
      ],
      "metadata": {
        "id": "8COPqWXjPa5o"
      },
      "id": "8COPqWXjPa5o"
    },
    {
      "cell_type": "code",
      "source": [
        "import re\n",
        "\n",
        "# Text for searching\n",
        "text = \"Python is fun. Python is easy.\"\n",
        "\n",
        "# Pattern to match 'Python' at the start of the string\n",
        "pattern = \"^Python\"\n",
        "\n",
        "# Checking if the pattern matches\n",
        "match = re.search(pattern, text)\n",
        "\n",
        "# Printing the result\n",
        "if match:\n",
        "    print(\"Match found at the start of the string.\")\n",
        "else:\n",
        "    print(\"No match found at the start of the string.\")\n"
      ],
      "metadata": {
        "id": "z4O2lI6lPhkL",
        "outputId": "1bc22a8e-2f8a-463f-dd05-740dc38b0aee",
        "colab": {
          "base_uri": "https://localhost:8080/"
        }
      },
      "id": "z4O2lI6lPhkL",
      "execution_count": null,
      "outputs": [
        {
          "output_type": "stream",
          "name": "stdout",
          "text": [
            "Match found at the start of the string.\n"
          ]
        }
      ]
    },
    {
      "cell_type": "markdown",
      "source": [
        "In the above example, the pattern ^Python is used to check if the string \"Python is fun. Python is easy.\" starts with 'Python'. The caret ^ asserts the position at the start of the string. Since the string indeed starts with 'Python', the output is \"Match found at the start of the string.\"\n"
      ],
      "metadata": {
        "id": "uB9PoI3mQQG5"
      },
      "id": "uB9PoI3mQQG5"
    },
    {
      "cell_type": "code",
      "source": [
        "import re\n",
        "\n",
        "# Text for searching\n",
        "text = \"Python is fun. Python is easy.\"\n",
        "\n",
        "# Pattern to match 'Python' at the start of the string\n",
        "pattern = \"^fun\"\n",
        "\n",
        "# Checking if the pattern matches\n",
        "match = re.search(pattern, text)\n",
        "\n",
        "# Printing the result\n",
        "if match:\n",
        "    print(\"Match found at the start of the string.\")\n",
        "else:\n",
        "    print(\"No match found at the start of the string.\")\n"
      ],
      "metadata": {
        "id": "X3Ach08yQ2ox",
        "outputId": "d7b78d57-2e2d-41ff-ea46-e915b0fcd3ef",
        "colab": {
          "base_uri": "https://localhost:8080/"
        }
      },
      "id": "X3Ach08yQ2ox",
      "execution_count": null,
      "outputs": [
        {
          "output_type": "stream",
          "name": "stdout",
          "text": [
            "No match found at the start of the string.\n"
          ]
        }
      ]
    },
    {
      "cell_type": "markdown",
      "source": [
        "In the above example, the pattern ^fun is used to check if the string \"Python  is fun. Python is easy.\" starts with 'fun'. The caret ^ asserts the position at the start of the string. Since the string doesn't start with 'fun', the result is \"No match found at the start of the string.\""
      ],
      "metadata": {
        "id": "tEHghFx9Q_VI"
      },
      "id": "tEHghFx9Q_VI"
    },
    {
      "cell_type": "code",
      "source": [
        "import re\n",
        "\n",
        "# Text for searching\n",
        "text = \"The end of the story\"\n",
        "\n",
        "# Pattern to match 'story' at the end of the string\n",
        "pattern = \"story$\"\n",
        "\n",
        "# Checking if the pattern matches\n",
        "match = re.search(pattern, text)\n",
        "\n",
        "# Printing the result\n",
        "if match:\n",
        "    print(\"Match found at the end of the string.\")\n",
        "else:\n",
        "    print(\"No match found at the end of the string.\")\n"
      ],
      "metadata": {
        "id": "ahMF5SQ3SCuw",
        "colab": {
          "base_uri": "https://localhost:8080/"
        },
        "outputId": "699b54b7-1030-4aae-93fb-cca9c2247552"
      },
      "id": "ahMF5SQ3SCuw",
      "execution_count": null,
      "outputs": [
        {
          "output_type": "stream",
          "name": "stdout",
          "text": [
            "Match found at the end of the string.\n"
          ]
        }
      ]
    },
    {
      "cell_type": "markdown",
      "source": [
        "In the above example, the pattern \"story\\$\" is used to check if the string \"The end of the story\" ends with 'story'. The dollar sign $ asserts the position at the end of the string. Since the string does indeed end with 'story', the output of the code is \"Match found at the end of the string.\""
      ],
      "metadata": {
        "id": "FewKoxlkSE2W"
      },
      "id": "FewKoxlkSE2W"
    },
    {
      "cell_type": "code",
      "source": [
        "re.search(r'[0-6]', 'Number: 5').group()"
      ],
      "metadata": {
        "id": "c1p7JuwP6yOn",
        "outputId": "f5d09229-4bf5-4018-ee99-83eb422fac30",
        "colab": {
          "base_uri": "https://localhost:8080/",
          "height": 36
        }
      },
      "id": "c1p7JuwP6yOn",
      "execution_count": null,
      "outputs": [
        {
          "output_type": "execute_result",
          "data": {
            "text/plain": [
              "'5'"
            ],
            "application/vnd.google.colaboratory.intrinsic+json": {
              "type": "string"
            }
          },
          "metadata": {},
          "execution_count": 48
        }
      ]
    },
    {
      "cell_type": "code",
      "source": [
        "## Matches any character except 5\n",
        "re.search(r'Number: [^5]', 'Number: 0').group()\n",
        "\n",
        "## This will not match and hence a NONE value will be returned\n",
        "#re.search(r'Number: [^5]', 'Number: 5').group()"
      ],
      "metadata": {
        "id": "KOt1Kbqg60vV",
        "outputId": "d0c3191c-3da2-4dce-9990-bb89b4896460",
        "colab": {
          "base_uri": "https://localhost:8080/",
          "height": 36
        }
      },
      "id": "KOt1Kbqg60vV",
      "execution_count": null,
      "outputs": [
        {
          "output_type": "execute_result",
          "data": {
            "text/plain": [
              "'Number: 0'"
            ],
            "application/vnd.google.colaboratory.intrinsic+json": {
              "type": "string"
            }
          },
          "metadata": {},
          "execution_count": 49
        }
      ]
    },
    {
      "cell_type": "code",
      "source": [
        "re.search(r'Co+kie', 'Cooookie').group()"
      ],
      "metadata": {
        "id": "ceO9xZu_7wb8",
        "outputId": "eb3aa14c-efd5-482a-daab-fae17496c4c7",
        "colab": {
          "base_uri": "https://localhost:8080/",
          "height": 36
        }
      },
      "id": "ceO9xZu_7wb8",
      "execution_count": null,
      "outputs": [
        {
          "output_type": "execute_result",
          "data": {
            "text/plain": [
              "'Cooookie'"
            ],
            "application/vnd.google.colaboratory.intrinsic+json": {
              "type": "string"
            }
          },
          "metadata": {},
          "execution_count": 50
        }
      ]
    },
    {
      "cell_type": "code",
      "source": [
        "# Checks for any occurrence of a or o or both in the given sequence\n",
        "re.search(r'Ca*o*kie', 'Cookie').group()"
      ],
      "metadata": {
        "id": "QaldUIb970wS",
        "outputId": "8c6e0000-7f84-4839-d275-8d987a2d1435",
        "colab": {
          "base_uri": "https://localhost:8080/",
          "height": 36
        }
      },
      "id": "QaldUIb970wS",
      "execution_count": null,
      "outputs": [
        {
          "output_type": "execute_result",
          "data": {
            "text/plain": [
              "'Cookie'"
            ],
            "application/vnd.google.colaboratory.intrinsic+json": {
              "type": "string"
            }
          },
          "metadata": {},
          "execution_count": 51
        }
      ]
    },
    {
      "cell_type": "code",
      "source": [
        "# Checks for any occurrence of a or o or both in the given sequence\n",
        "re.search(r'Ca*o*kie', 'Cookie').group()"
      ],
      "metadata": {
        "id": "sOE1Cn7Z8HNe",
        "outputId": "885fa25d-ed96-4c9f-83e0-14c5df8da11f",
        "colab": {
          "base_uri": "https://localhost:8080/",
          "height": 36
        }
      },
      "id": "sOE1Cn7Z8HNe",
      "execution_count": null,
      "outputs": [
        {
          "output_type": "execute_result",
          "data": {
            "text/plain": [
              "'Cookie'"
            ],
            "application/vnd.google.colaboratory.intrinsic+json": {
              "type": "string"
            }
          },
          "metadata": {},
          "execution_count": 52
        }
      ]
    },
    {
      "cell_type": "code",
      "source": [
        "# Checks for exactly zero or one occurrence of a or o or both in the given sequence\n",
        "re.search(r'Colou?r', 'Color').group()"
      ],
      "metadata": {
        "id": "NOol6FXL8UlA",
        "outputId": "6608567a-1edb-497e-9937-04e415b2fd17",
        "colab": {
          "base_uri": "https://localhost:8080/",
          "height": 36
        }
      },
      "id": "NOol6FXL8UlA",
      "execution_count": null,
      "outputs": [
        {
          "output_type": "execute_result",
          "data": {
            "text/plain": [
              "'Color'"
            ],
            "application/vnd.google.colaboratory.intrinsic+json": {
              "type": "string"
            }
          },
          "metadata": {},
          "execution_count": 53
        }
      ]
    },
    {
      "cell_type": "markdown",
      "source": [
        "\n",
        "- `{x}`: Repeat exactly x number of times.\n",
        "- `{x,}`: Repeat at least x times or more.\n",
        "- `{x, y}`: Repeat at least x times but no more than y times."
      ],
      "metadata": {
        "id": "HmUSUK6k8mcH"
      },
      "id": "HmUSUK6k8mcH"
    },
    {
      "cell_type": "code",
      "source": [
        "re.search(r'\\d{9,10}', '0987654321').group()"
      ],
      "metadata": {
        "id": "8t4FREdI85Ub",
        "outputId": "8c664bfe-8e0d-423a-a8e2-faf3e3574325",
        "colab": {
          "base_uri": "https://localhost:8080/",
          "height": 36
        }
      },
      "id": "8t4FREdI85Ub",
      "execution_count": null,
      "outputs": [
        {
          "output_type": "execute_result",
          "data": {
            "text/plain": [
              "'0987654321'"
            ],
            "application/vnd.google.colaboratory.intrinsic+json": {
              "type": "string"
            }
          },
          "metadata": {},
          "execution_count": 54
        }
      ]
    },
    {
      "cell_type": "markdown",
      "id": "09ddc540",
      "metadata": {
        "id": "09ddc540"
      },
      "source": [
        "## Functions in the `re` Module\n",
        "The `re` module offers a set of functions to perform queries on an input string. Here are some commonly used ones:\n",
        "- `re.search()`: Returns a Match object if there is a match anywhere in the string.\n",
        "- `re.match()`: Returns a Match object if the string starts with the pattern.\n",
        "- `re.findall()`: Returns a list of all non-overlapping matches in the string.\n",
        "- `re.sub()`: Replaces one or many matches with a string."
      ]
    },
    {
      "cell_type": "markdown",
      "source": [
        "In the folliwng example:\n",
        "\n",
        "re.search('fun', text) searches for the substring 'fun' anywhere in the text. Since 'fun' is found, it prints a message indicating its presence.\n",
        "re.match('Python', text) checks if the text starts with 'Python'. As the text does start with 'Python', it prints a confirmation message.\n",
        "re.findall('Python', text) finds all non-overlapping occurrences of 'Python' in the text. It finds three occurrences and prints the count.\n",
        "re.sub('Python', 'Programming', text) replaces all occurrences of 'Python' with 'Programming' in the text and prints the modified text: \"Programming is fun. Programming is easy. Programming is powerful.\""
      ],
      "metadata": {
        "id": "6IPIr9PlTjtr"
      },
      "id": "6IPIr9PlTjtr"
    },
    {
      "cell_type": "code",
      "execution_count": null,
      "id": "1fcb25c5",
      "metadata": {
        "id": "1fcb25c5",
        "outputId": "845bef76-3559-4254-a2d0-0139cb928ccd",
        "colab": {
          "base_uri": "https://localhost:8080/"
        }
      },
      "outputs": [
        {
          "output_type": "stream",
          "name": "stdout",
          "text": [
            "re.search(): Found \"fun\" in the text\n",
            "re.match(): Text starts with \"Python\"\n",
            "re.findall(): Found occurrences of \"Python\": 3\n",
            "re.sub(): Replaced \"Python\" with \"Programming\": Programming is fun. Programming is easy. Programming is powerful.\n"
          ]
        }
      ],
      "source": [
        "import re\n",
        "\n",
        "# Sample text\n",
        "text = 'Python is fun. Python is easy. Python is powerful.'\n",
        "\n",
        "# re.search() example\n",
        "search_result = re.search('fun', text)\n",
        "if search_result:\n",
        "    print('re.search(): Found \"fun\" in the text')\n",
        "else:\n",
        "    print('re.search(): \"fun\" not found')\n",
        "\n",
        "# re.match() example\n",
        "match_result = re.match('Python', text)\n",
        "if match_result:\n",
        "    print('re.match(): Text starts with \"Python\"')\n",
        "else:\n",
        "    print('re.match(): Text does not start with \"Python\"')\n",
        "\n",
        "# re.findall() example\n",
        "findall_result = re.findall('Python', text)\n",
        "print('re.findall(): Found occurrences of \"Python\":', len(findall_result))\n",
        "\n",
        "# re.sub() example\n",
        "sub_result = re.sub('Python', 'Programming', text)\n",
        "print('re.sub(): Replaced \"Python\" with \"Programming\":', sub_result)\n"
      ]
    },
    {
      "cell_type": "markdown",
      "id": "fb9fccaa",
      "metadata": {
        "id": "fb9fccaa"
      },
      "source": [
        "## 21. 4 Practical Example\n",
        "\n",
        "You will work with the first part of a free e-book titled \"The Idiot\", written by Fyodor Dostoyevsky from the Project Gutenberg. The novel is about Prince (Knyaz) Lev Nikolayevich Myshkin, a guileless man whose good, kind, simple nature mistakenly leads many to believe he lacks intelligence and insight. The title is an ironic reference to this young man.\n",
        "\n",
        "You shall be writing some regular expressions to parse through the text and complete some exercises.\n"
      ]
    },
    {
      "cell_type": "code",
      "source": [
        "import re\n",
        "import requests\n",
        "the_idiot_url = 'https://www.gutenberg.org/files/2638/2638-0.txt'\n",
        "\n",
        "def get_book(url):\n",
        "    # Sends a http request to get the text from project Gutenberg\n",
        "    raw = requests.get(url).text\n",
        "    # Discards the content before PART I from the beginning of the book\n",
        "    start = re.search(r\"I\\.\", raw ).end()\n",
        "    # Discards the text starting Part II of the book\n",
        "    stop = re.search(r\"II\\.\", raw).start()\n",
        "    # Keeps the relevant text\n",
        "    text = raw[start:stop]\n",
        "    return text\n",
        "\n",
        "def preprocess(sentence):\n",
        "    return re.sub('[^A-Za-z0-9.]+' , ' ', sentence).lower()\n",
        "\n",
        "book = get_book(the_idiot_url)\n",
        "processed_book = preprocess(book)\n",
        "print(processed_book)"
      ],
      "metadata": {
        "id": "KEAyWcra9d0j",
        "outputId": "09447499-ba0d-42ea-c27f-5e3222178fbf",
        "colab": {
          "base_uri": "https://localhost:8080/"
        }
      },
      "id": "KEAyWcra9d0j",
      "execution_count": null,
      "outputs": [
        {
          "output_type": "stream",
          "name": "stdout",
          "text": [
            " towards the end of november during a thaw at nine o clock one morning a train on the warsaw and petersburg railway was approaching the latter city at full speed. the morning was so damp and misty that it was only with great difficulty that the day succeeded in breaking and it was impossible to distinguish anything more than a few yards away from the carriage windows. some of the passengers by this particular train were returning from abroad but the third class carriages were the best filled chiefly with insignificant persons of various occupations and degrees picked up at the different stations nearer town. all of them seemed weary and most of them had sleepy eyes and a shivering expression while their complexions generally appeared to have taken on the colour of the fog outside. when day dawned two passengers in one of the third class carriages found themselves opposite each other. both were young fellows both were rather poorly dressed both had remarkable faces and both were evidently anxious to start a conversation. if they had but known why at this particular moment they were both remarkable persons they would undoubtedly have wondered at the strange chance which had set them down opposite to one another in a third class carriage of the warsaw railway company. one of them was a young fellow of about twenty seven not tall with black curling hair and small grey fiery eyes. his nose was broad and flat and he had high cheek bones his thin lips were constantly compressed into an impudent ironical it might almost be called a malicious smile but his forehead was high and well formed and atoned for a good deal of the ugliness of the lower part of his face. a special feature of this physiognomy was its death like pallor which gave to the whole man an indescribably emaciated appearance in spite of his hard look and at the same time a sort of passionate and suffering expression which did not harmonize with his impudent sarcastic smile and keen self satisfied bearing. he wore a large fur or rather astrachan overcoat which had kept him warm all night while his neighbour had been obliged to bear the full severity of a russian november night entirely unprepared. his wide sleeveless mantle with a large cape to it the sort of cloak one sees upon travellers during the winter months in switzerland or north italy was by no means adapted to the long cold journey through russia from eydkuhnen to st. petersburg. the wearer of this cloak was a young fellow also of about twenty six or twenty seven years of age slightly above the middle height very fair with a thin pointed and very light coloured beard his eyes were large and blue and had an intent look about them yet that heavy expression which some people affirm to be a peculiarity as well as evidence of an epileptic subject. his face was decidedly a pleasant one for all that refined but quite colourless except for the circumstance that at this moment it was blue with cold. he held a bundle made up of an old faded silk handkerchief that apparently contained all his travelling wardrobe and wore thick shoes and gaiters his whole appearance being very un russian. his black haired neighbour inspected these peculiarities having nothing better to do and at length remarked with that rude enjoyment of the discomforts of others which the common classes so often show cold very said his neighbour readily and this is a thaw too. fancy if it had been a hard frost i never thought it would be so cold in the old country. i ve grown quite out of the way of it. what been abroad i suppose yes straight from switzerland. wheugh my goodness the black haired young fellow whistled and then laughed. the conversation proceeded. the readiness of the fair haired young man in the cloak to answer all his opposite neighbour s questions was surprising. he seemed to have no suspicion of any impertinence or inappropriateness in the fact of such questions being put to him. replying to them he made known to the inquirer that he certainly had been long absent from russia more than four years that he had been sent abroad for his health that he had suffered from some strange nervous malady a kind of epilepsy with convulsive spasms. his interlocutor burst out laughing several times at his answers and more than ever when to the question whether he had been cured the patient replied no they did not cure me. hey that s it you stumped up your money for nothing and we believe in those fellows here remarked the black haired individual sarcastically. gospel truth sir gospel truth exclaimed another passenger a shabbily dressed man of about forty who looked like a clerk and possessed a red nose and a very blotchy face. gospel truth all they do is to get hold of our good russian money free gratis and for nothing. oh but you re quite wrong in my particular instance said the swiss patient quietly. of course i can t argue the matter because i know only my own case but my doctor gave me money and he had very little to pay my journey back besides having kept me at his own expense while there for nearly two years. why was there no one else to pay for you asked the black haired one. no mr. pavlicheff who had been supporting me there died a couple of years ago. i wrote to mrs. general epanchin at the time she is a distant relative of mine but she did not answer my letter. and so eventually i came back. and where have you come to that is where am i going to stay i i really don t quite know yet i both the listeners laughed again. i suppose your whole set up is in that bundle then asked the first. i bet anything it is exclaimed the red nosed passenger with extreme satisfaction and that he has precious little in the luggage van though of course poverty is no crime we must remember that it appeared that it was indeed as they had surmised. the young fellow hastened to admit the fact with wonderful readiness. your bundle has some importance however continued the clerk when they had laughed their fill it was observable that the subject of their mirth joined in the laughter when he saw them laughing for though i dare say it is not stuffed full of friedrichs d or and louis d or judge from your costume and gaiters still if you can add to your possessions such a valuable property as a relation like mrs. general epanchin then your bundle becomes a significant object at once. that is of course if you really are a relative of mrs. epanchin s and have not made a little error through well absence of mind which is very common to human beings or say through a too luxuriant fancy oh you are right again said the fair haired traveller for i really am almost wrong when i say she and i are related. she is hardly a relation at all so little in fact that i was not in the least surprised to have no answer to my letter. i expected as much. h m you spent your postage for nothing then. h m you are candid however and that is commendable. h m mrs. epanchin oh yes a most eminent person. i know her. as for mr. pavlicheff who supported you in switzerland i know him too at least if it was nicolai andreevitch of that name a fine fellow he was and had a property of four thousand souls in his day. yes nicolai andreevitch that was his name and the young fellow looked earnestly and with curiosity at the all knowing gentleman with the red nose. this sort of character is met with pretty frequently in a certain class. they are people who know everyone that is they know where a man is employed what his salary is whom he knows whom he married what money his wife had who are his cousins and second cousins etc. etc. these men generally have about a hundred pounds a year to live on and they spend their whole time and talents in the amassing of this style of knowledge which they reduce or raise to the standard of a science. during the latter part of the conversation the black haired young man had become very impatient. he stared out of the window and fidgeted and evidently longed for the end of the journey. he was very absent he would appear to listen and heard nothing and he would laugh of a sudden evidently with no idea of what he was laughing about. excuse me said the red nosed man to the young fellow with the bundle rather suddenly whom have i the honour to be talking to prince lef nicolaievitch muishkin replied the latter with perfect readiness. prince muishkin lef nicolaievitch h m i don t know i m sure i may say i have never heard of such a person said the clerk thoughtfully. at least the name i admit is historical. karamsin must mention the family name of course in his history but as an individual one never hears of any prince muishkin nowadays. of course not replied the prince there are none except myself. i believe i am the last and only one. as to my forefathers they have always been a poor lot my own father was a sublieutenant in the army. i don t know how mrs. epanchin comes into the muishkin family but she is descended from the princess muishkin and she too is the last of her line. and did you learn science and all that with your professor over there asked the black haired passenger. oh yes i did learn a little but i ve never learned anything whatever said the other. oh but i learned very little you know added the prince as though excusing himself. they could not teach me very much on account of my illness. do you know the rogojins asked his questioner abruptly. no i don t not at all i hardly know anyone in russia. why is that your name yes i am rogojin parfen rogojin. parfen rogojin dear me then don t you belong to those very rogojins perhaps began the clerk with a very perceptible increase of civility in his tone. yes those very ones interrupted rogojin impatiently and with scant courtesy. i may remark that he had not once taken any notice of the blotchy faced passenger and had hitherto addressed all his remarks direct to the prince. dear me is it possible observed the clerk while his face assumed an expression of great deference and servility if not of absolute alarm what a son of that very semen rogojin hereditary honourable citizen who died a month or so ago and left two million and a half of roubles and how do you know that he left two million and a half of roubles asked rogojin disdainfully and not deigning so much as to look at the other. however it s true enough that my father died a month ago and that here am i returning from pskoff a month after with hardly a boot to my foot. they ve treated me like a dog i ve been ill of fever at pskoff the whole time and not a line nor farthing of money have i received from my mother or my confounded brother and now you ll have a million roubles at least goodness gracious me exclaimed the clerk rubbing his hands. five weeks since i was just like yourself continued rogojin addressing the prince with nothing but a bundle and the clothes i wore. i ran away from my father and came to pskoff to my aunt s house where i caved in at once with fever and he went and died while i was away. all honour to my respected father s memory but he uncommonly nearly killed me all the same. give you my word prince if i hadn t cut and run then when i did he d have murdered me like a dog. i suppose you angered him somehow asked the prince looking at the millionaire with considerable curiosity. but though there may have been something remarkable in the fact that this man was heir to millions of roubles there was something about him which surprised and interested the prince more than that. rogojin too seemed to have taken up the conversation with unusual alacrity it appeared that he was still in a considerable state of excitement if not absolutely feverish and was in real need of someone to talk to for the mere sake of talking as safety valve to his agitation. as for his red nosed neighbour the latter since the information as to the identity of rogojin hung over him seemed to be living on the honey of his words and in the breath of his nostrils catching at every syllable as though it were a pearl of great price. oh yes i angered him i certainly did anger him replied rogojin. but what puts me out so is my brother. of course my mother couldn t do anything she s too old and whatever brother senka says is law for her but why couldn t he let me know he sent a telegram they say. what s the good of a telegram it frightened my aunt so that she sent it back to the office unopened and there it s been ever since it s only thanks to konief that i heard at all he wrote me all about it. he says my brother cut off the gold tassels from my father s coffin at night because they re worth a lot of money says he. why i can get him sent off to siberia for that alone if i like it s sacrilege. here you scarecrow he added addressing the clerk at his side is it sacrilege or not by law sacrilege certainly certainly sacrilege said the latter. and it s siberia for sacrilege isn t it undoubtedly so siberia of course they will think that i m still ill continued rogojin to the prince but i sloped off quietly seedy as i was took the train and came away. aha brother senka you ll have to open your gates and let me in my boy i know he told tales about me to my father i know that well enough but i certainly did rile my father about nastasia philipovna that s very sure and that was my own doing. nastasia philipovna said the clerk as though trying to think out something. come you know nothing about her said rogojin impatiently. and supposing i do know something observed the other triumphantly. bosh there are plenty of nastasia philipovnas. and what an impertinent beast you are he added angrily. i thought some creature like you would hang on to me as soon as i got hold of my money. oh but i do know as it happens said the clerk in an aggravating manner. lebedeff knows all about her. you are pleased to reproach me your excellency but what if i prove that i am right after all nastasia philipovna s family name is barashkoff i know you see and she is a very well known lady indeed and comes of a good family too. she is connected with one totski afanasy ivanovitch a man of considerable property a director of companies and so on and a great friend of general epanchin who is interested in the same matters as he is. my eyes said rogojin really surprised at last. the devil take the fellow how does he know that why he knows everything lebedeff knows everything i was a month or two with lihachof after his father died your excellency and while he was knocking about he s in the debtor s prison now i was with him and he couldn t do a thing without lebedeff and i got to know nastasia philipovna and several people at that time. nastasia philipovna why you don t mean to say that she and lihachof cried rogojin turning quite pale. no no no no no nothing of the sort i assure you said lebedeff hastily. oh dear no not for the world totski s the only man with any chance there. oh no he takes her to his box at the opera at the french theatre of an evening and the officers and people all look at her and say by jove there s the famous nastasia philipovna but no one ever gets any further than that for there is nothing more to say. yes it s quite true said rogojin frowning gloomily so zaleshoff told me. i was walking about the nefsky one fine day prince in my father s old coat when she suddenly came out of a shop and stepped into her carriage. i swear i was all of a blaze at once. then i met zaleshoff looking like a hair dresser s assistant got up as fine as i don t know who while i looked like a tinker. don t flatter yourself my boy said he she s not for such as you she s a princess she is and her name is nastasia philipovna barashkoff and she lives with totski who wishes to get rid of her because he s growing rather old fifty five or so and wants to marry a certain beauty the loveliest woman in all petersburg. and then he told me that i could see nastasia philipovna at the opera house that evening if i liked and described which was her box. well i d like to see my father allowing any of us to go to the theatre he d sooner have killed us any day. however i went for an hour or so and saw nastasia philipovna and i never slept a wink all night after. next morning my father happened to give me two government loan bonds to sell worth nearly five thousand roubles each. sell them said he and then take seven thousand five hundred roubles to the office give them to the cashier and bring me back the rest of the ten thousand without looking in anywhere on the way look sharp i shall be waiting for you. well i sold the bonds but i didn t take the seven thousand roubles to the office i went straight to the english shop and chose a pair of earrings with a diamond the size of a nut in each. they cost four hundred roubles more than i had so i gave my name and they trusted me. with the earrings i went at once to zaleshoff s. come on i said come on to nastasia philipovna s and off we went without more ado. i tell you i hadn t a notion of what was about me or before me or below my feet all the way i saw nothing whatever. we went straight into her drawing room and then she came out to us. i didn t say right out who i was but zaleshoff said from parfen rogojin in memory of his first meeting with you yesterday be so kind as to accept these she opened the parcel looked at the earrings and laughed. thank your friend mr. rogojin for his kind attention says she and bowed and went off. why didn t i die there on the spot the worst of it all was though that the beast zaleshoff got all the credit of it i was short and abominably dressed and stood and stared in her face and never said a word because i was shy like an ass and there was he all in the fashion pomaded and dressed out with a smart tie on bowing and scraping and i bet anything she took him for me all the while look here now i said when we came out none of your interference here after this do you understand he laughed and how are you going to settle up with your father says he. i thought i might as well jump into the neva at once without going home first but it struck me that i wouldn t after all and i went home feeling like one of the damned. my goodness shivered the clerk. and his father he added for the prince s instruction and his father would have given a man a ticket to the other world for ten roubles any day not to speak of ten thousand the prince observed rogojin with great curiosity he seemed paler than ever at this moment. what do you know about it cried the latter. well my father learned the whole story at once and zaleshoff blabbed it all over the town besides. so he took me upstairs and locked me up and swore at me for an hour. this is only a foretaste says he wait a bit till night comes and i ll come back and talk to you again. well what do you think the old fellow went straight off to nastasia philipovna touched the floor with his forehead and began blubbering and beseeching her on his knees to give him back the diamonds. so after awhile she brought the box and flew out at him. there she says take your earrings you wretched old miser although they are ten times dearer than their value to me now that i know what it must have cost parfen to get them give parfen my compliments she says and thank him very much well i meanwhile had borrowed twenty five roubles from a friend and off i went to pskoff to my aunt s. the old woman there lectured me so that i left the house and went on a drinking tour round the public houses of the place. i was in a high fever when i got to pskoff and by nightfall i was lying delirious in the streets somewhere or other oho we ll make nastasia philipovna sing another song now giggled lebedeff rubbing his hands with glee. hey my boy we ll get her some proper earrings now we ll get her such earrings that look here cried rogojin seizing him fiercely by the arm look here if you so much as name nastasia philipovna again i ll tan your hide as sure as you sit there aha do by all means if you tan my hide you won t turn me away from your society. you ll bind me to you with your lash for ever. ha ha here we are at the station though. sure enough the train was just steaming in as he spoke. though rogojin had declared that he left pskoff secretly a large collection of friends had assembled to greet him and did so with profuse waving of hats and shouting. why there s zaleshoff here too he muttered gazing at the scene with a sort of triumphant but unpleasant smile. then he suddenly turned to the prince prince i don t know why i have taken a fancy to you perhaps because i met you just when i did. but no it can t be that for i met this fellow nodding at lebedeff too and i have not taken a fancy to him by any means. come to see me prince we ll take off those gaiters of yours and dress you up in a smart fur coat the best we can buy. you shall have a dress coat best quality white waistcoat anything you like and your pocket shall be full of money. come and you shall go with me to nastasia philipovna s. now then will you come or no accept accept prince lef nicolaievitch said lebedef solemnly don t let it slip accept quick prince muishkin rose and stretched out his hand courteously while he replied with some cordiality i will come with the greatest pleasure and thank you very much for taking a fancy to me. i dare say i may even come today if i have time for i tell you frankly that i like you very much too. i liked you especially when you told us about the diamond earrings but i liked you before that as well though you have such a dark clouded sort of face. thanks very much for the offer of clothes and a fur coat i certainly shall require both clothes and coat very soon. as for money i have hardly a copeck about me at this moment. you shall have lots of money by the evening i shall have plenty so come along that s true enough he ll have lots before evening put in lebedeff. but look here are you a great hand with the ladies let s know that first asked rogojin. oh no oh no said the prince i couldn t you know my illness i hardly ever saw a soul. h m well here you fellow you can come along with me now if you like cried rogojin to lebedeff and so they all left the carriage. lebedeff had his desire. he went off with the noisy group of rogojin s friends towards the voznesensky while the prince s route lay towards the litaynaya. it was damp and wet. the prince asked his way of passers by and finding that he was a couple of miles or so from his destination he determined to take a droshky. \n"
          ]
        }
      ]
    },
    {
      "cell_type": "markdown",
      "source": [
        "Exercise: Find the number of the pronoun \"the\" in the corpus. Hint: Use the len() function."
      ],
      "metadata": {
        "id": "NtRngs6J-mfF"
      },
      "id": "NtRngs6J-mfF"
    },
    {
      "cell_type": "code",
      "source": [
        "len(re.findall(r\"the\", processed_book))"
      ],
      "metadata": {
        "id": "B8LeyErn-nVq",
        "outputId": "0bb22957-48c6-4617-a094-9681746c0759",
        "colab": {
          "base_uri": "https://localhost:8080/"
        }
      },
      "id": "B8LeyErn-nVq",
      "execution_count": null,
      "outputs": [
        {
          "output_type": "execute_result",
          "data": {
            "text/plain": [
              "301"
            ]
          },
          "metadata": {},
          "execution_count": 57
        }
      ]
    },
    {
      "cell_type": "markdown",
      "source": [
        "Find the number of questions asked:"
      ],
      "metadata": {
        "id": "PgJe53cEjIm8"
      },
      "id": "PgJe53cEjIm8"
    },
    {
      "cell_type": "code",
      "source": [
        "len(re.findall(r'\\?', book))"
      ],
      "metadata": {
        "id": "Z3qG-aoyB644",
        "outputId": "7337179e-4881-443f-fd4c-13273f3cefdd",
        "colab": {
          "base_uri": "https://localhost:8080/"
        }
      },
      "id": "Z3qG-aoyB644",
      "execution_count": null,
      "outputs": [
        {
          "output_type": "execute_result",
          "data": {
            "text/plain": [
              "38"
            ]
          },
          "metadata": {},
          "execution_count": 58
        }
      ]
    },
    {
      "cell_type": "markdown",
      "id": "019fa0a9",
      "metadata": {
        "id": "019fa0a9"
      },
      "source": [
        "## 21.5 Conclusion\n",
        "Regular expressions are a powerful tool for text processing. Mastery of regex can help you perform complex text manipulations efficiently. Remember to use them judiciously, as complex patterns can become difficult to read and maintain."
      ]
    }
  ],
  "metadata": {
    "colab": {
      "provenance": []
    },
    "language_info": {
      "name": "python"
    },
    "kernelspec": {
      "name": "python3",
      "display_name": "Python 3"
    }
  },
  "nbformat": 4,
  "nbformat_minor": 5
}