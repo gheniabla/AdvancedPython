{
 "cells": [
  {
   "cell_type": "markdown",
   "id": "0ccba4b5-c2d1-4c3e-bd69-11315b9300a5",
   "metadata": {},
   "source": [
    "# Chapter 23 Iterables, Iterators, Generators, Closures and Decorators\n",
    "\n",
    "In Python, iterables, iterators, generators, closures, and decorators are core concepts that enable efficient and expressive programming. This chapter breaks each concept down with explanations and examples.\n",
    "\n",
    "## Chapter 23.1 Iterables\n",
    "\n",
    "Iterables are containers that can store multiple values and are capable of returning them one by one. Iterables can store any number of values. In Python, the values can either be the same type or different types. Python has several types of iterables. For example, strings, lists, tuples, dictionaries, sets, files and range objects, etc. If an object is iterable, its elements can be retrieved with a for loop.\n"
   ]
  },
  {
   "cell_type": "code",
   "execution_count": 9,
   "id": "ac1717a3-3f1e-473e-a5d9-e5c2bcc268fb",
   "metadata": {},
   "outputs": [
    {
     "name": "stdout",
     "output_type": "stream",
     "text": [
      "Monday\n",
      "Tuesday\n",
      "Wednesday\n",
      "Thursday\n",
      "Friday\n",
      "Saturday\n",
      "Sunday\n"
     ]
    }
   ],
   "source": [
    "days= [\"Monday\", \"Tuesday\", \"Wednesday\", \"Thursday\", \"Friday\", \"Saturday\", \"Sunday\"]\n",
    "for day in days:\n",
    "    print(day)"
   ]
  },
  {
   "cell_type": "markdown",
   "id": "29c8237a-de61-4a10-aea7-3731d917df28",
   "metadata": {},
   "source": [
    "An iterable is an object that implements the __iter__() method ( dunder or magic method that is defined by built-in classes in Python) or has an associated __getitem__() method that allows sequential access to its elements. Usually, the dir() function is used to show magic methods those inherited by a class.\n"
   ]
  },
  {
   "cell_type": "code",
   "execution_count": 10,
   "id": "6b8c8947-cd98-44b2-90b3-2e32387e5d69",
   "metadata": {},
   "outputs": [
    {
     "name": "stdout",
     "output_type": "stream",
     "text": [
      "['__add__', '__class__', '__class_getitem__', '__contains__', '__delattr__', '__delitem__', '__dir__', '__doc__', '__eq__', '__format__', '__ge__', '__getattribute__', '__getitem__', '__getstate__', '__gt__', '__hash__', '__iadd__', '__imul__', '__init__', '__init_subclass__', '__iter__', '__le__', '__len__', '__lt__', '__mul__', '__ne__', '__new__', '__reduce__', '__reduce_ex__', '__repr__', '__reversed__', '__rmul__', '__setattr__', '__setitem__', '__sizeof__', '__str__', '__subclasshook__', 'append', 'clear', 'copy', 'count', 'extend', 'index', 'insert', 'pop', 'remove', 'reverse', 'sort']\n"
     ]
    }
   ],
   "source": [
    "print(dir(days))"
   ]
  },
  {
   "cell_type": "markdown",
   "id": "1e4245fb-9187-44b4-946a-bc602002c691",
   "metadata": {},
   "source": [
    "The output explains the \"__iter__\" dunder method is included in the list object. That is why the for loop can iterate all elements that contaned in the list object. If an object is not iterable, then it can not be iterted.  "
   ]
  },
  {
   "cell_type": "markdown",
   "id": "861c6e20-f2ed-4199-aea6-3e93651f9641",
   "metadata": {},
   "source": [
    "## Chapter 23.2 Iterators\n",
    "An iterator in Python is an object that allows traversal through a sequence of elements one at a time. It keeps track of its state (the current position) and provides the next element upon request. Iterators enable memory-efficient processing of data.\n",
    "\n",
    "### Key Characteristics of an Iterator\n",
    "1. Implements dunder methods such as __iter__() and __next__(). The __iter__() methods used to return the iterator object itself while the __next__() method is used to return the next element and raises the StopIteration exceptions when no elemetns are left.\n",
    "2. Unlike iterabels, an iterator remembers the last position of an iteration\n",
    "3. Once an element is accessed, it cannot be revisited unless recreated.\n",
    "\n",
    "An iterable object can be converted to with using the iter() function\n"
   ]
  },
  {
   "cell_type": "code",
   "execution_count": 11,
   "id": "20bd1f85-0182-4ed8-8126-b1e838cece96",
   "metadata": {},
   "outputs": [
    {
     "name": "stdout",
     "output_type": "stream",
     "text": [
      "['__class__', '__delattr__', '__dir__', '__doc__', '__eq__', '__format__', '__ge__', '__getattribute__', '__getstate__', '__gt__', '__hash__', '__init__', '__init_subclass__', '__iter__', '__le__', '__length_hint__', '__lt__', '__ne__', '__new__', '__next__', '__reduce__', '__reduce_ex__', '__repr__', '__setattr__', '__setstate__', '__sizeof__', '__str__', '__subclasshook__']\n"
     ]
    }
   ],
   "source": [
    "numbers = [3,5,7] # this is a list (iterable)\n",
    "myIterator= numbers.__iter__() # convert the list to iterator\n",
    "print(dir(myIterator))"
   ]
  },
  {
   "cell_type": "markdown",
   "id": "487638a2-2dd1-415d-af50-915df95bf513",
   "metadata": {},
   "source": [
    "The output shows both the __iter__() and __next__() methods have been implemented. Even, we didn't implement the __next__() method explictily, when an iterable object is converted into an iterator using the __iter__() function, the __next__() function is implemented automatically."
   ]
  },
  {
   "cell_type": "markdown",
   "id": "8034e399-6a49-41af-bf23-97dcaf4ccb3e",
   "metadata": {},
   "source": [
    "After an itrable object is converted to an interator, its elments can be accessed with using the __next__() function"
   ]
  },
  {
   "cell_type": "code",
   "execution_count": 12,
   "id": "6d9aff94-7c57-48f3-99ab-6947f7eb9661",
   "metadata": {},
   "outputs": [
    {
     "name": "stdout",
     "output_type": "stream",
     "text": [
      "3\n"
     ]
    }
   ],
   "source": [
    "print(myIterator.__next__())"
   ]
  },
  {
   "cell_type": "code",
   "execution_count": 13,
   "id": "7dc7ea88-0a4f-440d-b33e-54971a164e4a",
   "metadata": {},
   "outputs": [
    {
     "name": "stdout",
     "output_type": "stream",
     "text": [
      "5\n",
      "7\n"
     ]
    }
   ],
   "source": [
    "print(myIterator.__next__())\n",
    "print(myIterator.__next__())"
   ]
  },
  {
   "cell_type": "markdown",
   "id": "a4de285c-d7dc-4298-b2cc-967fd9245dcf",
   "metadata": {},
   "source": [
    "If we try to access one more element, we will get the \"StopIterattion\"exception"
   ]
  },
  {
   "cell_type": "code",
   "execution_count": 14,
   "id": "2404db2c-882d-4c3e-82c8-10dbdf4a03d6",
   "metadata": {},
   "outputs": [
    {
     "ename": "StopIteration",
     "evalue": "",
     "output_type": "error",
     "traceback": [
      "\u001b[0;31m---------------------------------------------------------------------------\u001b[0m",
      "\u001b[0;31mStopIteration\u001b[0m                             Traceback (most recent call last)",
      "Cell \u001b[0;32mIn[14], line 1\u001b[0m\n\u001b[0;32m----> 1\u001b[0m \u001b[38;5;28mprint\u001b[39m(\u001b[43mmyIterator\u001b[49m\u001b[38;5;241;43m.\u001b[39;49m\u001b[38;5;21;43m__next__\u001b[39;49m\u001b[43m(\u001b[49m\u001b[43m)\u001b[49m)\n",
      "\u001b[0;31mStopIteration\u001b[0m: "
     ]
    }
   ],
   "source": [
    "print(myIterator.__next__())"
   ]
  },
  {
   "cell_type": "markdown",
   "id": "61683faf-20bd-4c10-8812-68fcdb2e9de2",
   "metadata": {},
   "source": [
    "Without creating an iterator, the __next__()function cannot be executed "
   ]
  },
  {
   "cell_type": "code",
   "execution_count": 15,
   "id": "4c04aa7f-f741-4d28-903d-d3d5863782c3",
   "metadata": {},
   "outputs": [
    {
     "ename": "AttributeError",
     "evalue": "'tuple' object has no attribute '__next__'",
     "output_type": "error",
     "traceback": [
      "\u001b[0;31m---------------------------------------------------------------------------\u001b[0m",
      "\u001b[0;31mAttributeError\u001b[0m                            Traceback (most recent call last)",
      "Cell \u001b[0;32mIn[15], line 2\u001b[0m\n\u001b[1;32m      1\u001b[0m yourNumbers\u001b[38;5;241m=\u001b[39m(\u001b[38;5;241m1\u001b[39m,\u001b[38;5;241m2\u001b[39m,\u001b[38;5;241m3\u001b[39m,\u001b[38;5;241m4\u001b[39m) \u001b[38;5;66;03m# tuple is iterable, but not an iterator\u001b[39;00m\n\u001b[0;32m----> 2\u001b[0m \u001b[38;5;28mprint\u001b[39m(\u001b[43myourNumbers\u001b[49m\u001b[38;5;241;43m.\u001b[39;49m\u001b[38;5;21;43m__next__\u001b[39;49m())\n",
      "\u001b[0;31mAttributeError\u001b[0m: 'tuple' object has no attribute '__next__'"
     ]
    }
   ],
   "source": [
    "yourNumbers=(1,2,3,4) # tuple is iterable, but not an iterator\n",
    "print(yourNumbers.__next__())"
   ]
  },
  {
   "cell_type": "markdown",
   "id": "c7ef6dc8-e7c7-4e47-9a8e-c686ebd412cc",
   "metadata": {},
   "source": [
    "As a result, we get the AttributeError exception"
   ]
  },
  {
   "cell_type": "code",
   "execution_count": 16,
   "id": "cf7f1a69-c647-4d0d-ba38-85597d9e7bc4",
   "metadata": {},
   "outputs": [
    {
     "name": "stdout",
     "output_type": "stream",
     "text": [
      "1\n",
      "2\n",
      "3\n"
     ]
    }
   ],
   "source": [
    "yourIterator= iter(yourNumbers) # we can use \"iter()\" function in the same meaning of __iter__()\n",
    "print(next(yourIterator)) # we can use the \"next\" function in the same meaning of __next__()\n",
    "print(next(yourIterator))\n",
    "print(next(yourIterator))"
   ]
  },
  {
   "cell_type": "code",
   "execution_count": 17,
   "id": "ebc2ce36-2e01-4b87-9cb1-cc283a969364",
   "metadata": {},
   "outputs": [
    {
     "name": "stdout",
     "output_type": "stream",
     "text": [
      "4\n"
     ]
    },
    {
     "ename": "StopIteration",
     "evalue": "",
     "output_type": "error",
     "traceback": [
      "\u001b[0;31m---------------------------------------------------------------------------\u001b[0m",
      "\u001b[0;31mStopIteration\u001b[0m                             Traceback (most recent call last)",
      "Cell \u001b[0;32mIn[17], line 2\u001b[0m\n\u001b[1;32m      1\u001b[0m \u001b[38;5;28mprint\u001b[39m(\u001b[38;5;28mnext\u001b[39m(yourIterator))\n\u001b[0;32m----> 2\u001b[0m \u001b[38;5;28mprint\u001b[39m(\u001b[38;5;28;43mnext\u001b[39;49m\u001b[43m(\u001b[49m\u001b[43myourIterator\u001b[49m\u001b[43m)\u001b[49m)\n",
      "\u001b[0;31mStopIteration\u001b[0m: "
     ]
    }
   ],
   "source": [
    "print(next(yourIterator))\n",
    "print(next(yourIterator))\n"
   ]
  },
  {
   "cell_type": "markdown",
   "id": "d3aace5f-ee16-4e9b-a014-3d0502601612",
   "metadata": {},
   "source": [
    "### How does the for loop iterate a list?\n",
    "In previous example, the tuple can not be iterated its elements without converting it to an iterator. But an tuple can be iterated with a for loop. The reason is, the for loop is a special structure and the \"in\" keyword in the structure converts an iteratable objects to an itertor object.\n",
    "\n",
    "### Define a custom iterable class\n"
   ]
  },
  {
   "cell_type": "code",
   "execution_count": 18,
   "id": "ff3b3b4a-3b8d-4b38-b877-d9c3927a5022",
   "metadata": {},
   "outputs": [
    {
     "name": "stdout",
     "output_type": "stream",
     "text": [
      "1\n",
      "2\n",
      "3\n",
      "4\n"
     ]
    }
   ],
   "source": [
    "class MyRange:\n",
    "    def __init__(self, start, end):\n",
    "        self.start = start\n",
    "        self.end = end\n",
    "        self.current=start\n",
    "\n",
    "    def __iter__(self):\n",
    "        self.current = self.start\n",
    "        return self\n",
    "\n",
    "    def __next__(self):\n",
    "        if self.current >= self.end:\n",
    "            raise StopIteration\n",
    "        value = self.current\n",
    "        self.current += 1\n",
    "        return value\n",
    "\n",
    "# Using the custom iterable\n",
    "for num in MyRange(1, 5):\n",
    "    print(num)\n"
   ]
  },
  {
   "cell_type": "markdown",
   "id": "4c6486c7-90a4-4c28-a61f-25ee12590ea0",
   "metadata": {},
   "source": [
    "Because the MyRange class implements both the __iter__() and the __next__() methods, it can be used as an iterator."
   ]
  },
  {
   "cell_type": "code",
   "execution_count": 19,
   "id": "eec821f8-5ad4-4463-be12-d2e2cd4637c4",
   "metadata": {},
   "outputs": [
    {
     "name": "stdout",
     "output_type": "stream",
     "text": [
      "1\n"
     ]
    }
   ],
   "source": [
    "myIterator = MyRange(1,4)\n",
    "print(next(myIterator))"
   ]
  },
  {
   "cell_type": "code",
   "execution_count": 20,
   "id": "b8f8fd8e-2e89-4311-82c8-7caa7fadb32b",
   "metadata": {},
   "outputs": [
    {
     "name": "stdout",
     "output_type": "stream",
     "text": [
      "2\n",
      "3\n"
     ]
    }
   ],
   "source": [
    "print(next(myIterator))\n",
    "print(next(myIterator))"
   ]
  },
  {
   "cell_type": "code",
   "execution_count": 21,
   "id": "f9e9389b-543d-413c-9fcf-080efcb71c1e",
   "metadata": {},
   "outputs": [
    {
     "ename": "StopIteration",
     "evalue": "",
     "output_type": "error",
     "traceback": [
      "\u001b[0;31m---------------------------------------------------------------------------\u001b[0m",
      "\u001b[0;31mStopIteration\u001b[0m                             Traceback (most recent call last)",
      "Cell \u001b[0;32mIn[21], line 2\u001b[0m\n\u001b[1;32m      1\u001b[0m \u001b[38;5;66;03m#this line give error. Because there are no numbers in the range\u001b[39;00m\n\u001b[0;32m----> 2\u001b[0m \u001b[38;5;28mprint\u001b[39m(\u001b[38;5;28;43mnext\u001b[39;49m\u001b[43m(\u001b[49m\u001b[43mmyIterator\u001b[49m\u001b[43m)\u001b[49m)\n",
      "Cell \u001b[0;32mIn[18], line 13\u001b[0m, in \u001b[0;36mMyRange.__next__\u001b[0;34m(self)\u001b[0m\n\u001b[1;32m     11\u001b[0m \u001b[38;5;28;01mdef\u001b[39;00m\u001b[38;5;250m \u001b[39m\u001b[38;5;21m__next__\u001b[39m(\u001b[38;5;28mself\u001b[39m):\n\u001b[1;32m     12\u001b[0m     \u001b[38;5;28;01mif\u001b[39;00m \u001b[38;5;28mself\u001b[39m\u001b[38;5;241m.\u001b[39mcurrent \u001b[38;5;241m>\u001b[39m\u001b[38;5;241m=\u001b[39m \u001b[38;5;28mself\u001b[39m\u001b[38;5;241m.\u001b[39mend:\n\u001b[0;32m---> 13\u001b[0m         \u001b[38;5;28;01mraise\u001b[39;00m \u001b[38;5;167;01mStopIteration\u001b[39;00m\n\u001b[1;32m     14\u001b[0m     value \u001b[38;5;241m=\u001b[39m \u001b[38;5;28mself\u001b[39m\u001b[38;5;241m.\u001b[39mcurrent\n\u001b[1;32m     15\u001b[0m     \u001b[38;5;28mself\u001b[39m\u001b[38;5;241m.\u001b[39mcurrent \u001b[38;5;241m+\u001b[39m\u001b[38;5;241m=\u001b[39m \u001b[38;5;241m1\u001b[39m\n",
      "\u001b[0;31mStopIteration\u001b[0m: "
     ]
    }
   ],
   "source": [
    "#this line give error. Because there are no numbers in the range\n",
    "print(next(myIterator))"
   ]
  },
  {
   "cell_type": "markdown",
   "id": "e9546320-9c56-4f98-8b11-6ce59a53fdcd",
   "metadata": {},
   "source": [
    "In order to convert an object to an interator, it must be an iterable object. There are some methods to do this such as define a custum function or use libray etc. Let us define a custom function and check some data types if there are iterable or not"
   ]
  },
  {
   "cell_type": "code",
   "execution_count": 22,
   "id": "726f3c41-0c58-4de2-a2a0-7b686218d35a",
   "metadata": {},
   "outputs": [
    {
     "name": "stdout",
     "output_type": "stream",
     "text": [
      "True\n",
      "True\n",
      "True\n",
      "False\n",
      "True\n",
      "False\n"
     ]
    }
   ],
   "source": [
    "def is_itreable(object):\n",
    "    try:\n",
    "        iter(object)\n",
    "        return True\n",
    "    except TypeError:\n",
    "        return False\n",
    "    \n",
    "test_data= [[1,2,3,4],\"This is a test\", (3,5,7),123,{\"name\":\"Ali\"}, 34.7]\n",
    "for data in test_data:\n",
    "    print(is_itreable(data))"
   ]
  },
  {
   "cell_type": "markdown",
   "id": "5a32fbb9-470a-4cc1-b81f-886a07b217b8",
   "metadata": {},
   "source": [
    "We can write the custom function with usung the Iterable library more efficiently"
   ]
  },
  {
   "cell_type": "code",
   "execution_count": 23,
   "id": "ffd45b63-62ef-4efe-983b-9f0787a10816",
   "metadata": {},
   "outputs": [
    {
     "name": "stdout",
     "output_type": "stream",
     "text": [
      "True\n",
      "True\n",
      "True\n",
      "False\n",
      "True\n",
      "False\n"
     ]
    }
   ],
   "source": [
    "from collections.abc import Iterable\n",
    "def is_iteable(object):\n",
    "    return (object, Iterable)\n",
    "\n",
    "for data in test_data:\n",
    "    print(is_itreable(data))"
   ]
  },
  {
   "cell_type": "markdown",
   "id": "a1d1dcd3-f382-4d92-a4d2-e9f5234dbb4a",
   "metadata": {},
   "source": [
    "As a result, we get the same result. Except integer and float numbers, rest of the data in the list are iterable."
   ]
  },
  {
   "cell_type": "markdown",
   "id": "0501ea43-241c-431f-a017-a621f73c52ef",
   "metadata": {},
   "source": [
    "## Chapter 23.3 Generators\n",
    "It is another way of creating iterators in a simple way where it uses the keyword “yield” instead of returning it in a defined function. Generators are implemented using a function. Just as iterators, generators also follow lazy evaluation. Here, the yield function returns the data without affecting or exiting the function. It will return a sequence of data in an iterable format where we need to iterate over the sequence to use the data as they won’t store the entire sequence in the memory.\n",
    "\n",
    "### Key Features of Generators\n",
    "1. Memory Efficient: Generates values on demand, avoiding memory overload.\n",
    "2. Stateful: Remembers its last execution position.\n",
    "3. Lazy Execution: Produces values only when needed.\n",
    "4. Automatic Iterators: No need to implement __iter__() and __next__() manually.\n"
   ]
  },
  {
   "cell_type": "code",
   "execution_count": 24,
   "id": "1f301c5c-a8b4-43ea-ae06-eab544fbbceb",
   "metadata": {},
   "outputs": [
    {
     "name": "stdout",
     "output_type": "stream",
     "text": [
      "['__class__', '__del__', '__delattr__', '__dir__', '__doc__', '__eq__', '__format__', '__ge__', '__getattribute__', '__getstate__', '__gt__', '__hash__', '__init__', '__init_subclass__', '__iter__', '__le__', '__lt__', '__name__', '__ne__', '__new__', '__next__', '__qualname__', '__reduce__', '__reduce_ex__', '__repr__', '__setattr__', '__sizeof__', '__str__', '__subclasshook__', 'close', 'gi_code', 'gi_frame', 'gi_running', 'gi_suspended', 'gi_yieldfrom', 'send', 'throw']\n"
     ]
    }
   ],
   "source": [
    "def gen_numbers(data):\n",
    "    for num in range(1,data):\n",
    "        yield num\n",
    "number = gen_numbers(4)\n",
    "print(dir(number))"
   ]
  },
  {
   "cell_type": "markdown",
   "id": "7fbf6444-fdf6-4550-b954-5c1f6147179b",
   "metadata": {},
   "source": [
    "As a result, the number object has the __iter__() and __next__() methods. Therefore, the number object is an iterator."
   ]
  },
  {
   "cell_type": "code",
   "execution_count": 26,
   "id": "fe04f98e-8cd6-4ae2-8647-510bf059140b",
   "metadata": {},
   "outputs": [
    {
     "name": "stdout",
     "output_type": "stream",
     "text": [
      "1\n",
      "2\n",
      "3\n"
     ]
    }
   ],
   "source": [
    "print(next(number))\n",
    "print(next(number))\n",
    "print(next(number))"
   ]
  },
  {
   "cell_type": "code",
   "execution_count": 28,
   "id": "16ead430-b4e1-4ef0-8f72-d65379b29fc6",
   "metadata": {},
   "outputs": [
    {
     "ename": "StopIteration",
     "evalue": "",
     "output_type": "error",
     "traceback": [
      "\u001b[0;31m---------------------------------------------------------------------------\u001b[0m",
      "\u001b[0;31mStopIteration\u001b[0m                             Traceback (most recent call last)",
      "Cell \u001b[0;32mIn[28], line 2\u001b[0m\n\u001b[1;32m      1\u001b[0m \u001b[38;5;66;03m# This linve gives an error. Because there are not any next numbers...\u001b[39;00m\n\u001b[0;32m----> 2\u001b[0m \u001b[38;5;28mprint\u001b[39m(\u001b[38;5;28;43mnext\u001b[39;49m\u001b[43m(\u001b[49m\u001b[43mnumber\u001b[49m\u001b[43m)\u001b[49m)\n",
      "\u001b[0;31mStopIteration\u001b[0m: "
     ]
    }
   ],
   "source": [
    "# This linve gives an error. Because there are not any next numbers...\n",
    "print(next(number))"
   ]
  },
  {
   "cell_type": "markdown",
   "id": "1d5f2859-2be8-44fc-ae41-20fa256d95b7",
   "metadata": {},
   "source": [
    "Because, an generator is an iterator, we can access its elements with a loop"
   ]
  },
  {
   "cell_type": "code",
   "execution_count": 30,
   "id": "e1987165-ad48-4cb6-b09b-42f9d2d02989",
   "metadata": {},
   "outputs": [
    {
     "name": "stdout",
     "output_type": "stream",
     "text": [
      "1\n",
      "2\n",
      "3\n",
      "4\n",
      "5\n",
      "6\n",
      "7\n",
      "8\n",
      "9\n"
     ]
    }
   ],
   "source": [
    "for i in gen_numbers(10):\n",
    "    print(i)"
   ]
  },
  {
   "cell_type": "markdown",
   "id": "880e4c7e-682c-4078-af84-ed06b1199da8",
   "metadata": {},
   "source": [
    "### Difference Among Iterator, Iterable, and Generator in Python\n",
    "\n",
    "\n",
    "\n",
    "\n",
    "|Feature|Iterable|Iterator|Generator|\n",
    "|------|------|------|---|\n",
    "|Definition     | An object that contains multiple elements and can be looped over.|An object that produces one element at a time from an iterable.|A special type of iterator that yields values lazily using yield.|\n",
    "|Required Methods    |Must implement __iter__() which returns an iterator.     |Must implement both __iter__() and __next__().   |Uses yield inside a function instead of implementing __iter__() and __next__().|\n",
    "|Creation    |Lists, tuples, dictionaries, sets, and strings are iterable objects. |Created by calling iter(iterable). |Created using a function with yield.|\n",
    "|State Retention    |Does not retain iteration state.     |Retains the current position in the sequence.    |Automatically retains state between yield calls.|\n",
    "|Memory Usage    |Stores all elements in memory.\t     |Retrieves elements one by one but still requires storage of the iterable.|More memory-efficient as it generates values on demand.|\n",
    "|How to Access Elements?    |Using loops (e.g., for loops) or by converting into an iterator with iter().\t    |Using next(iterator).\t|Using next(generator).|\n",
    "|Stop Condition    |Not applicable.\t   |Raises StopIteration when no more elements are available.|Stops automatically when function execution completes.\n",
    "|\n",
    "|Examples    |[1, 2, 3], \"hello\", {1, 2, 3}    |iter([1, 2, 3])\t    |def my_gen(): yield 1; yield 2\n",
    "|\n",
    "|Can Be Iterated Multiple Times?   |Yes, can create new iterators every time.    |No, can only be iterated once unless recreated.    |No, can only be iterated once unless recreated.|"
   ]
  },
  {
   "cell_type": "markdown",
   "id": "d4963790-07de-41ed-8afc-d69ea181dc04",
   "metadata": {},
   "source": [
    "### Exercise\n",
    "1. Write an iterator and generator that prints all uppercase letters between A and Z\n",
    "2. Write an iterator and generator that prints all even numbers between m and n (m) "
   ]
  }
 ],
 "metadata": {
  "kernelspec": {
   "display_name": "Python 3 (ipykernel)",
   "language": "python",
   "name": "python3"
  },
  "language_info": {
   "codemirror_mode": {
    "name": "ipython",
    "version": 3
   },
   "file_extension": ".py",
   "mimetype": "text/x-python",
   "name": "python",
   "nbconvert_exporter": "python",
   "pygments_lexer": "ipython3",
   "version": "3.12.3"
  }
 },
 "nbformat": 4,
 "nbformat_minor": 5
}
