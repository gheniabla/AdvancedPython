{
 "cells": [
  {
   "cell_type": "markdown",
   "id": "0ccba4b5-c2d1-4c3e-bd69-11315b9300a5",
   "metadata": {},
   "source": [
    "# Chapter 23 Iterables, Iterators, Generators, Closures and Decorators\n",
    "\n",
    "In Python, iterables, iterators, generators, closures, and decorators are core concepts that enable efficient and expressive programming. This chapter breaks each concept down with explanations and examples.\n",
    "\n",
    "## Chapter 23.1 Iterables\n",
    "\n",
    "Iterables are containers that can store multiple values and are capable of returning them one by one. Iterables can store any number of values. In Python, the values can either be the same type or different types. Python has several types of iterables. For example, strings, lists, tuples, dictionaries, sets, files and range objects, etc. If an object is iterable, its elements can be retrieved with a for loop.\n"
   ]
  },
  {
   "cell_type": "code",
   "execution_count": 9,
   "id": "ac1717a3-3f1e-473e-a5d9-e5c2bcc268fb",
   "metadata": {},
   "outputs": [
    {
     "name": "stdout",
     "output_type": "stream",
     "text": [
      "Monday\n",
      "Tuesday\n",
      "Wednesday\n",
      "Thursday\n",
      "Friday\n",
      "Saturday\n",
      "Sunday\n"
     ]
    }
   ],
   "source": [
    "days= [\"Monday\", \"Tuesday\", \"Wednesday\", \"Thursday\", \"Friday\", \"Saturday\", \"Sunday\"]\n",
    "for day in days:\n",
    "    print(day)"
   ]
  },
  {
   "cell_type": "markdown",
   "id": "29c8237a-de61-4a10-aea7-3731d917df28",
   "metadata": {},
   "source": [
    "An iterable is an object that implements the __iter__() method ( dunder or magic method that is defined by built-in classes in Python) or has an associated __getitem__() method that allows sequential access to its elements. Usually, the dir() function is used to show magic methods those inherited by a class.\n"
   ]
  },
  {
   "cell_type": "code",
   "execution_count": 10,
   "id": "6b8c8947-cd98-44b2-90b3-2e32387e5d69",
   "metadata": {},
   "outputs": [
    {
     "name": "stdout",
     "output_type": "stream",
     "text": [
      "['__add__', '__class__', '__class_getitem__', '__contains__', '__delattr__', '__delitem__', '__dir__', '__doc__', '__eq__', '__format__', '__ge__', '__getattribute__', '__getitem__', '__getstate__', '__gt__', '__hash__', '__iadd__', '__imul__', '__init__', '__init_subclass__', '__iter__', '__le__', '__len__', '__lt__', '__mul__', '__ne__', '__new__', '__reduce__', '__reduce_ex__', '__repr__', '__reversed__', '__rmul__', '__setattr__', '__setitem__', '__sizeof__', '__str__', '__subclasshook__', 'append', 'clear', 'copy', 'count', 'extend', 'index', 'insert', 'pop', 'remove', 'reverse', 'sort']\n"
     ]
    }
   ],
   "source": [
    "print(dir(days))"
   ]
  },
  {
   "cell_type": "markdown",
   "id": "1e4245fb-9187-44b4-946a-bc602002c691",
   "metadata": {},
   "source": [
    "The output explains the \"__iter__\" dunder method is included in the list object. That is why the for loop can iterate all elements that contaned in the list object. If an object is not iterable, then it can not be iterted.  "
   ]
  },
  {
   "cell_type": "markdown",
   "id": "861c6e20-f2ed-4199-aea6-3e93651f9641",
   "metadata": {},
   "source": [
    "## Chapter 23.2 Iterators\n",
    "An iterator in Python is an object that allows traversal through a sequence of elements one at a time. It keeps track of its state (the current position) and provides the next element upon request. Iterators enable memory-efficient processing of data.\n",
    "\n",
    "### Key Characteristics of an Iterator\n",
    "1. Implements dunder methods such as __iter__() and __next__(). The __iter__() methods used to return the iterator object itself while the __next__() method is used to return the next element and raises the StopIteration exceptions when no elemetns are left.\n",
    "2. Unlike iterabels, an iterator remembers the last position of an iteration\n",
    "3. Once an element is accessed, it cannot be revisited unless recreated.\n",
    "\n",
    "An iterable object can be converted to with using the iter() function\n"
   ]
  },
  {
   "cell_type": "code",
   "execution_count": 11,
   "id": "20bd1f85-0182-4ed8-8126-b1e838cece96",
   "metadata": {},
   "outputs": [
    {
     "name": "stdout",
     "output_type": "stream",
     "text": [
      "['__class__', '__delattr__', '__dir__', '__doc__', '__eq__', '__format__', '__ge__', '__getattribute__', '__getstate__', '__gt__', '__hash__', '__init__', '__init_subclass__', '__iter__', '__le__', '__length_hint__', '__lt__', '__ne__', '__new__', '__next__', '__reduce__', '__reduce_ex__', '__repr__', '__setattr__', '__setstate__', '__sizeof__', '__str__', '__subclasshook__']\n"
     ]
    }
   ],
   "source": [
    "numbers = [3,5,7] # this is a list (iterable)\n",
    "myIterator= numbers.__iter__() # convert the list to iterator\n",
    "print(dir(myIterator))"
   ]
  },
  {
   "cell_type": "markdown",
   "id": "487638a2-2dd1-415d-af50-915df95bf513",
   "metadata": {},
   "source": [
    "The output shows both the __iter__() and __next__() methods have been implemented. Even, we didn't implement the __next__() method explictily, when an iterable object is converted into an iterator using the __iter__() function, the __next__() function is implemented automatically."
   ]
  },
  {
   "cell_type": "markdown",
   "id": "8034e399-6a49-41af-bf23-97dcaf4ccb3e",
   "metadata": {},
   "source": [
    "After an itrable object is converted to an interator, its elments can be accessed with using the __next__() function"
   ]
  },
  {
   "cell_type": "code",
   "execution_count": 12,
   "id": "6d9aff94-7c57-48f3-99ab-6947f7eb9661",
   "metadata": {},
   "outputs": [
    {
     "name": "stdout",
     "output_type": "stream",
     "text": [
      "3\n"
     ]
    }
   ],
   "source": [
    "print(myIterator.__next__())"
   ]
  },
  {
   "cell_type": "code",
   "execution_count": 13,
   "id": "7dc7ea88-0a4f-440d-b33e-54971a164e4a",
   "metadata": {},
   "outputs": [
    {
     "name": "stdout",
     "output_type": "stream",
     "text": [
      "5\n",
      "7\n"
     ]
    }
   ],
   "source": [
    "print(myIterator.__next__())\n",
    "print(myIterator.__next__())"
   ]
  },
  {
   "cell_type": "markdown",
   "id": "a4de285c-d7dc-4298-b2cc-967fd9245dcf",
   "metadata": {},
   "source": [
    "If we try to access one more element, we will get the \"StopIterattion\"exception"
   ]
  },
  {
   "cell_type": "code",
   "execution_count": 14,
   "id": "2404db2c-882d-4c3e-82c8-10dbdf4a03d6",
   "metadata": {},
   "outputs": [
    {
     "ename": "StopIteration",
     "evalue": "",
     "output_type": "error",
     "traceback": [
      "\u001b[0;31m---------------------------------------------------------------------------\u001b[0m",
      "\u001b[0;31mStopIteration\u001b[0m                             Traceback (most recent call last)",
      "Cell \u001b[0;32mIn[14], line 1\u001b[0m\n\u001b[0;32m----> 1\u001b[0m \u001b[38;5;28mprint\u001b[39m(\u001b[43mmyIterator\u001b[49m\u001b[38;5;241;43m.\u001b[39;49m\u001b[38;5;21;43m__next__\u001b[39;49m\u001b[43m(\u001b[49m\u001b[43m)\u001b[49m)\n",
      "\u001b[0;31mStopIteration\u001b[0m: "
     ]
    }
   ],
   "source": [
    "print(myIterator.__next__())"
   ]
  },
  {
   "cell_type": "markdown",
   "id": "61683faf-20bd-4c10-8812-68fcdb2e9de2",
   "metadata": {},
   "source": [
    "Without creating an iterator, the __next__()function cannot be executed "
   ]
  },
  {
   "cell_type": "code",
   "execution_count": 15,
   "id": "4c04aa7f-f741-4d28-903d-d3d5863782c3",
   "metadata": {},
   "outputs": [
    {
     "ename": "AttributeError",
     "evalue": "'tuple' object has no attribute '__next__'",
     "output_type": "error",
     "traceback": [
      "\u001b[0;31m---------------------------------------------------------------------------\u001b[0m",
      "\u001b[0;31mAttributeError\u001b[0m                            Traceback (most recent call last)",
      "Cell \u001b[0;32mIn[15], line 2\u001b[0m\n\u001b[1;32m      1\u001b[0m yourNumbers\u001b[38;5;241m=\u001b[39m(\u001b[38;5;241m1\u001b[39m,\u001b[38;5;241m2\u001b[39m,\u001b[38;5;241m3\u001b[39m,\u001b[38;5;241m4\u001b[39m) \u001b[38;5;66;03m# tuple is iterable, but not an iterator\u001b[39;00m\n\u001b[0;32m----> 2\u001b[0m \u001b[38;5;28mprint\u001b[39m(\u001b[43myourNumbers\u001b[49m\u001b[38;5;241;43m.\u001b[39;49m\u001b[38;5;21;43m__next__\u001b[39;49m())\n",
      "\u001b[0;31mAttributeError\u001b[0m: 'tuple' object has no attribute '__next__'"
     ]
    }
   ],
   "source": [
    "yourNumbers=(1,2,3,4) # tuple is iterable, but not an iterator\n",
    "print(yourNumbers.__next__())"
   ]
  },
  {
   "cell_type": "markdown",
   "id": "c7ef6dc8-e7c7-4e47-9a8e-c686ebd412cc",
   "metadata": {},
   "source": [
    "As a result, we get the AttributeError exception"
   ]
  },
  {
   "cell_type": "code",
   "execution_count": 16,
   "id": "cf7f1a69-c647-4d0d-ba38-85597d9e7bc4",
   "metadata": {},
   "outputs": [
    {
     "name": "stdout",
     "output_type": "stream",
     "text": [
      "1\n",
      "2\n",
      "3\n"
     ]
    }
   ],
   "source": [
    "yourIterator= iter(yourNumbers) # we can use \"iter()\" function in the same meaning of __iter__()\n",
    "print(next(yourIterator)) # we can use the \"next\" function in the same meaning of __next__()\n",
    "print(next(yourIterator))\n",
    "print(next(yourIterator))"
   ]
  },
  {
   "cell_type": "code",
   "execution_count": 17,
   "id": "ebc2ce36-2e01-4b87-9cb1-cc283a969364",
   "metadata": {},
   "outputs": [
    {
     "name": "stdout",
     "output_type": "stream",
     "text": [
      "4\n"
     ]
    },
    {
     "ename": "StopIteration",
     "evalue": "",
     "output_type": "error",
     "traceback": [
      "\u001b[0;31m---------------------------------------------------------------------------\u001b[0m",
      "\u001b[0;31mStopIteration\u001b[0m                             Traceback (most recent call last)",
      "Cell \u001b[0;32mIn[17], line 2\u001b[0m\n\u001b[1;32m      1\u001b[0m \u001b[38;5;28mprint\u001b[39m(\u001b[38;5;28mnext\u001b[39m(yourIterator))\n\u001b[0;32m----> 2\u001b[0m \u001b[38;5;28mprint\u001b[39m(\u001b[38;5;28;43mnext\u001b[39;49m\u001b[43m(\u001b[49m\u001b[43myourIterator\u001b[49m\u001b[43m)\u001b[49m)\n",
      "\u001b[0;31mStopIteration\u001b[0m: "
     ]
    }
   ],
   "source": [
    "print(next(yourIterator))\n",
    "print(next(yourIterator))\n"
   ]
  },
  {
   "cell_type": "markdown",
   "id": "d3aace5f-ee16-4e9b-a014-3d0502601612",
   "metadata": {},
   "source": [
    "### How does the for loop iterate a list?\n",
    "In previous example, the tuple can not be iterated its elements without converting it to an iterator. But an tuple can be iterated with a for loop. The reason is, the for loop is a special structure and the \"in\" keyword in the structure converts an iteratable objects to an itertor object.\n",
    "\n",
    "### Define a custom iterable class\n"
   ]
  },
  {
   "cell_type": "code",
   "execution_count": 18,
   "id": "ff3b3b4a-3b8d-4b38-b877-d9c3927a5022",
   "metadata": {},
   "outputs": [
    {
     "name": "stdout",
     "output_type": "stream",
     "text": [
      "1\n",
      "2\n",
      "3\n",
      "4\n"
     ]
    }
   ],
   "source": [
    "class MyRange:\n",
    "    def __init__(self, start, end):\n",
    "        self.start = start\n",
    "        self.end = end\n",
    "        self.current=start\n",
    "\n",
    "    def __iter__(self):\n",
    "        self.current = self.start\n",
    "        return self\n",
    "\n",
    "    def __next__(self):\n",
    "        if self.current >= self.end:\n",
    "            raise StopIteration\n",
    "        value = self.current\n",
    "        self.current += 1\n",
    "        return value\n",
    "\n",
    "# Using the custom iterable\n",
    "for num in MyRange(1, 5):\n",
    "    print(num)\n"
   ]
  },
  {
   "cell_type": "markdown",
   "id": "4c6486c7-90a4-4c28-a61f-25ee12590ea0",
   "metadata": {},
   "source": [
    "Because the MyRange class implements both the __iter__() and the __next__() methods, it can be used as an iterator."
   ]
  },
  {
   "cell_type": "code",
   "execution_count": 19,
   "id": "eec821f8-5ad4-4463-be12-d2e2cd4637c4",
   "metadata": {},
   "outputs": [
    {
     "name": "stdout",
     "output_type": "stream",
     "text": [
      "1\n"
     ]
    }
   ],
   "source": [
    "myIterator = MyRange(1,4)\n",
    "print(next(myIterator))"
   ]
  },
  {
   "cell_type": "code",
   "execution_count": 20,
   "id": "b8f8fd8e-2e89-4311-82c8-7caa7fadb32b",
   "metadata": {},
   "outputs": [
    {
     "name": "stdout",
     "output_type": "stream",
     "text": [
      "2\n",
      "3\n"
     ]
    }
   ],
   "source": [
    "print(next(myIterator))\n",
    "print(next(myIterator))"
   ]
  },
  {
   "cell_type": "code",
   "execution_count": 21,
   "id": "f9e9389b-543d-413c-9fcf-080efcb71c1e",
   "metadata": {},
   "outputs": [
    {
     "ename": "StopIteration",
     "evalue": "",
     "output_type": "error",
     "traceback": [
      "\u001b[0;31m---------------------------------------------------------------------------\u001b[0m",
      "\u001b[0;31mStopIteration\u001b[0m                             Traceback (most recent call last)",
      "Cell \u001b[0;32mIn[21], line 2\u001b[0m\n\u001b[1;32m      1\u001b[0m \u001b[38;5;66;03m#this line give error. Because there are no numbers in the range\u001b[39;00m\n\u001b[0;32m----> 2\u001b[0m \u001b[38;5;28mprint\u001b[39m(\u001b[38;5;28;43mnext\u001b[39;49m\u001b[43m(\u001b[49m\u001b[43mmyIterator\u001b[49m\u001b[43m)\u001b[49m)\n",
      "Cell \u001b[0;32mIn[18], line 13\u001b[0m, in \u001b[0;36mMyRange.__next__\u001b[0;34m(self)\u001b[0m\n\u001b[1;32m     11\u001b[0m \u001b[38;5;28;01mdef\u001b[39;00m\u001b[38;5;250m \u001b[39m\u001b[38;5;21m__next__\u001b[39m(\u001b[38;5;28mself\u001b[39m):\n\u001b[1;32m     12\u001b[0m     \u001b[38;5;28;01mif\u001b[39;00m \u001b[38;5;28mself\u001b[39m\u001b[38;5;241m.\u001b[39mcurrent \u001b[38;5;241m>\u001b[39m\u001b[38;5;241m=\u001b[39m \u001b[38;5;28mself\u001b[39m\u001b[38;5;241m.\u001b[39mend:\n\u001b[0;32m---> 13\u001b[0m         \u001b[38;5;28;01mraise\u001b[39;00m \u001b[38;5;167;01mStopIteration\u001b[39;00m\n\u001b[1;32m     14\u001b[0m     value \u001b[38;5;241m=\u001b[39m \u001b[38;5;28mself\u001b[39m\u001b[38;5;241m.\u001b[39mcurrent\n\u001b[1;32m     15\u001b[0m     \u001b[38;5;28mself\u001b[39m\u001b[38;5;241m.\u001b[39mcurrent \u001b[38;5;241m+\u001b[39m\u001b[38;5;241m=\u001b[39m \u001b[38;5;241m1\u001b[39m\n",
      "\u001b[0;31mStopIteration\u001b[0m: "
     ]
    }
   ],
   "source": [
    "#this line give error. Because there are no numbers in the range\n",
    "print(next(myIterator))"
   ]
  },
  {
   "cell_type": "markdown",
   "id": "e9546320-9c56-4f98-8b11-6ce59a53fdcd",
   "metadata": {},
   "source": [
    "In order to convert an object to an interator, it must be an iterable object. There are some methods to do this such as define a custum function or use libray etc. Let us define a custom function and check some data types if there are iterable or not"
   ]
  },
  {
   "cell_type": "code",
   "execution_count": 22,
   "id": "726f3c41-0c58-4de2-a2a0-7b686218d35a",
   "metadata": {},
   "outputs": [
    {
     "name": "stdout",
     "output_type": "stream",
     "text": [
      "True\n",
      "True\n",
      "True\n",
      "False\n",
      "True\n",
      "False\n"
     ]
    }
   ],
   "source": [
    "def is_itreable(object):\n",
    "    try:\n",
    "        iter(object)\n",
    "        return True\n",
    "    except TypeError:\n",
    "        return False\n",
    "    \n",
    "test_data= [[1,2,3,4],\"This is a test\", (3,5,7),123,{\"name\":\"Ali\"}, 34.7]\n",
    "for data in test_data:\n",
    "    print(is_itreable(data))"
   ]
  },
  {
   "cell_type": "markdown",
   "id": "5a32fbb9-470a-4cc1-b81f-886a07b217b8",
   "metadata": {},
   "source": [
    "We can write the custom function with usung the Iterable library more efficiently"
   ]
  },
  {
   "cell_type": "code",
   "execution_count": 23,
   "id": "ffd45b63-62ef-4efe-983b-9f0787a10816",
   "metadata": {},
   "outputs": [
    {
     "name": "stdout",
     "output_type": "stream",
     "text": [
      "True\n",
      "True\n",
      "True\n",
      "False\n",
      "True\n",
      "False\n"
     ]
    }
   ],
   "source": [
    "from collections.abc import Iterable\n",
    "def is_iteable(object):\n",
    "    return (object, Iterable)\n",
    "\n",
    "for data in test_data:\n",
    "    print(is_itreable(data))"
   ]
  },
  {
   "cell_type": "markdown",
   "id": "a1d1dcd3-f382-4d92-a4d2-e9f5234dbb4a",
   "metadata": {},
   "source": [
    "As a result, we get the same result. Except integer and float numbers, rest of the data in the list are iterable."
   ]
  },
  {
   "cell_type": "markdown",
   "id": "0501ea43-241c-431f-a017-a621f73c52ef",
   "metadata": {},
   "source": [
    "## Chapter 23.3 Generators\n",
    "It is another way of creating iterators in a simple way where it uses the keyword “yield” instead of returning it in a defined function. Generators are implemented using a function. Just as iterators, generators also follow lazy evaluation. Here, the yield function returns the data without affecting or exiting the function. It will return a sequence of data in an iterable format where we need to iterate over the sequence to use the data as they won’t store the entire sequence in the memory.\n",
    "\n",
    "### Key Features of Generators\n",
    "1. Memory Efficient: Generates values on demand, avoiding memory overload.\n",
    "2. Stateful: Remembers its last execution position.\n",
    "3. Lazy Execution: Produces values only when needed.\n",
    "4. Automatic Iterators: No need to implement __iter__() and __next__() manually.\n"
   ]
  },
  {
   "cell_type": "code",
   "execution_count": 24,
   "id": "1f301c5c-a8b4-43ea-ae06-eab544fbbceb",
   "metadata": {},
   "outputs": [
    {
     "name": "stdout",
     "output_type": "stream",
     "text": [
      "['__class__', '__del__', '__delattr__', '__dir__', '__doc__', '__eq__', '__format__', '__ge__', '__getattribute__', '__getstate__', '__gt__', '__hash__', '__init__', '__init_subclass__', '__iter__', '__le__', '__lt__', '__name__', '__ne__', '__new__', '__next__', '__qualname__', '__reduce__', '__reduce_ex__', '__repr__', '__setattr__', '__sizeof__', '__str__', '__subclasshook__', 'close', 'gi_code', 'gi_frame', 'gi_running', 'gi_suspended', 'gi_yieldfrom', 'send', 'throw']\n"
     ]
    }
   ],
   "source": [
    "def gen_numbers(data):\n",
    "    for num in range(1,data):\n",
    "        yield num\n",
    "number = gen_numbers(4)\n",
    "print(dir(number))"
   ]
  },
  {
   "cell_type": "markdown",
   "id": "7fbf6444-fdf6-4550-b954-5c1f6147179b",
   "metadata": {},
   "source": [
    "As a result, the number object has the __iter__() and __next__() methods. Therefore, the number object is an iterator."
   ]
  },
  {
   "cell_type": "code",
   "execution_count": 26,
   "id": "fe04f98e-8cd6-4ae2-8647-510bf059140b",
   "metadata": {},
   "outputs": [
    {
     "name": "stdout",
     "output_type": "stream",
     "text": [
      "1\n",
      "2\n",
      "3\n"
     ]
    }
   ],
   "source": [
    "print(next(number))\n",
    "print(next(number))\n",
    "print(next(number))"
   ]
  },
  {
   "cell_type": "code",
   "execution_count": 28,
   "id": "16ead430-b4e1-4ef0-8f72-d65379b29fc6",
   "metadata": {},
   "outputs": [
    {
     "ename": "StopIteration",
     "evalue": "",
     "output_type": "error",
     "traceback": [
      "\u001b[0;31m---------------------------------------------------------------------------\u001b[0m",
      "\u001b[0;31mStopIteration\u001b[0m                             Traceback (most recent call last)",
      "Cell \u001b[0;32mIn[28], line 2\u001b[0m\n\u001b[1;32m      1\u001b[0m \u001b[38;5;66;03m# This linve gives an error. Because there are not any next numbers...\u001b[39;00m\n\u001b[0;32m----> 2\u001b[0m \u001b[38;5;28mprint\u001b[39m(\u001b[38;5;28;43mnext\u001b[39;49m\u001b[43m(\u001b[49m\u001b[43mnumber\u001b[49m\u001b[43m)\u001b[49m)\n",
      "\u001b[0;31mStopIteration\u001b[0m: "
     ]
    }
   ],
   "source": [
    "# This linve gives an error. Because there are not any next numbers...\n",
    "print(next(number))"
   ]
  },
  {
   "cell_type": "markdown",
   "id": "1d5f2859-2be8-44fc-ae41-20fa256d95b7",
   "metadata": {},
   "source": [
    "Because, an generator is an iterator, we can access its elements with a loop"
   ]
  },
  {
   "cell_type": "code",
   "execution_count": 30,
   "id": "e1987165-ad48-4cb6-b09b-42f9d2d02989",
   "metadata": {},
   "outputs": [
    {
     "name": "stdout",
     "output_type": "stream",
     "text": [
      "1\n",
      "2\n",
      "3\n",
      "4\n",
      "5\n",
      "6\n",
      "7\n",
      "8\n",
      "9\n"
     ]
    }
   ],
   "source": [
    "for i in gen_numbers(10):\n",
    "    print(i)"
   ]
  },
  {
   "cell_type": "markdown",
   "id": "880e4c7e-682c-4078-af84-ed06b1199da8",
   "metadata": {},
   "source": [
    "### Difference Among Iterator, Iterable, and Generator in Python\n",
    "\n",
    "\n",
    "\n",
    "\n",
    "|Feature|Iterable|Iterator|Generator|\n",
    "|------|------|------|---|\n",
    "|Definition     | An object that contains multiple elements and can be looped over.|An object that produces one element at a time from an iterable.|A special type of iterator that yields values lazily using yield.|\n",
    "|Required Methods    |Must implement __iter__() which returns an iterator.     |Must implement both __iter__() and __next__().   |Uses yield inside a function instead of implementing __iter__() and __next__().|\n",
    "|Creation    |Lists, tuples, dictionaries, sets, and strings are iterable objects. |Created by calling iter(iterable). |Created using a function with yield.|\n",
    "|State Retention    |Does not retain iteration state.     |Retains the current position in the sequence.    |Automatically retains state between yield calls.|\n",
    "|Memory Usage    |Stores all elements in memory.\t     |Retrieves elements one by one but still requires storage of the iterable.|More memory-efficient as it generates values on demand.|\n",
    "|How to Access Elements?    |Using loops (e.g., for loops) or by converting into an iterator with iter().\t    |Using next(iterator).\t|Using next(generator).|\n",
    "|Stop Condition    |Not applicable.\t   |Raises StopIteration when no more elements are available.|Stops automatically when function execution completes.\n",
    "|\n",
    "|Examples    |[1, 2, 3], \"hello\", {1, 2, 3}    |iter([1, 2, 3])\t    |def my_gen(): yield 1; yield 2\n",
    "|\n",
    "|Can Be Iterated Multiple Times?   |Yes, can create new iterators every time.    |No, can only be iterated once unless recreated.    |No, can only be iterated once unless recreated.|"
   ]
  },
  {
   "cell_type": "markdown",
   "id": "252f1554-3820-41f0-87e0-980d3a2d3efd",
   "metadata": {},
   "source": [
    "### Exercise\n",
    "1. Write an iterator and generator that prints all uppercase letters between A and Z\n",
    "2. Write an iterator and generator that prints all even numbers between m and n (m<n) "
   ]
  },
  {
   "cell_type": "markdown",
   "id": "5ae10a02-4e47-4852-80b7-a3bd51bb79be",
   "metadata": {},
   "source": [
    "## Chapter 23.4 Closures\n",
    "In Python, a closure is a powerful concept that allows a function to remember and access variables from its lexical scope, even when the function is executed outside that scope. Closures are closely related to nested functions and are commonly used in functional programming, event handling and callbacks.\n",
    "\n",
    "A closure is created when a function (the inner function) is defined within another function (the outer function) and the inner function references variables from the outer function. Closures are useful when you need a function to retain state across multiple calls, without using global variables.\n"
   ]
  },
  {
   "cell_type": "code",
   "execution_count": 34,
   "id": "11428e7f-7f1e-4602-ac04-d1a668bc9981",
   "metadata": {},
   "outputs": [
    {
     "name": "stdout",
     "output_type": "stream",
     "text": [
      "15\n"
     ]
    }
   ],
   "source": [
    "def fun1(x):\n",
    "  \n",
    "    # This is the outer function that takes an argument 'x'\n",
    "    def fun2(y):\n",
    "      \n",
    "        # This is the inner function that takes an argument 'y'\n",
    "        return x + y  # 'x' is captured from the outer function\n",
    "    \n",
    "    return fun2  # Returning the inner function as a closure\n",
    "\n",
    "# Create a closure by calling outer_function\n",
    "closure = fun1(10)\n",
    "\n",
    "# Now, we can use the closure, which \"remembers\" the value of 'x' as 10\n",
    "print(closure(5))"
   ]
  },
  {
   "cell_type": "code",
   "execution_count": 35,
   "id": "05827166-4df5-4c26-908b-af631df12679",
   "metadata": {},
   "outputs": [
    {
     "name": "stdout",
     "output_type": "stream",
     "text": [
      "20\n"
     ]
    }
   ],
   "source": [
    "print(closure(10))"
   ]
  },
  {
   "cell_type": "markdown",
   "id": "b379c309-d865-4562-b3f8-e86aae32e03f",
   "metadata": {},
   "source": [
    "As a result, whne the fun1 is terminated, we can call the closure with different values while the outer function is remembering its value. "
   ]
  },
  {
   "cell_type": "markdown",
   "id": "9702700a-c4a4-4726-9cef-b8d5aecc4563",
   "metadata": {},
   "source": [
    "### How Closures Work Internally?\n",
    "When a closure is created, Python internally stores a reference to the environment (variables in the enclosing scope) where the closure was defined. This allows the inner function to access those variables even after the outer function has completed.\n",
    "\n",
    "In simple terms, a closure “captures” the values from its surrounding scope and retains them for later use. This is what allows closures to remember values from their environment.\n",
    "### Use of Closures\n",
    "\n",
    "1. Encapsulation: Closures help encapsulate functionality. The inner function can access variables from the outer function, but those variables remain hidden from the outside world.\n",
    "2. State Retention: Closures can retain state across multiple function calls. This is especially useful in situations like counters, accumulators, or when you want to create a function factory that generates functions with different behaviors.\n",
    "3. Functional Programming: Closures are a core feature of functional programming. They allow you to create more flexible and modular code by generating new behavior dynamical\n",
    "\n",
    "### Pratical Example: Function Factory"
   ]
  },
  {
   "cell_type": "code",
   "execution_count": 38,
   "id": "d132385d-c39e-45ed-8a79-a6946c4d5831",
   "metadata": {},
   "outputs": [
    {
     "name": "stdout",
     "output_type": "stream",
     "text": [
      "10\n",
      "15\n"
     ]
    }
   ],
   "source": [
    "def multiplier(factor):\n",
    "    def multiply(number):\n",
    "        return number * factor  # 'factor' is remembered\n",
    "    return multiply\n",
    "\n",
    "double = multiplier(2)  # Creates a function that multiplies by 2\n",
    "triple = multiplier(3)  # Creates a function that multiplies by 3\n",
    "\n",
    "print(double(5))  # Output: 10\n",
    "print(triple(5))  # Output: 15\n"
   ]
  },
  {
   "cell_type": "markdown",
   "id": "e925b26c-b41a-417c-85de-cb050e213a22",
   "metadata": {},
   "source": [
    "### Checking Closure Variables\n",
    "You can inspect the stored variables inside a closure using the __closure__ attribute."
   ]
  },
  {
   "cell_type": "code",
   "execution_count": 39,
   "id": "88562db8-9359-42b5-b537-f73b5a807dd8",
   "metadata": {},
   "outputs": [
    {
     "name": "stdout",
     "output_type": "stream",
     "text": [
      "2\n",
      "3\n"
     ]
    }
   ],
   "source": [
    "print(double.__closure__[0].cell_contents)  # Output: 2\n",
    "print(triple.__closure__[0].cell_contents)  # Output: 3\n"
   ]
  },
  {
   "cell_type": "markdown",
   "id": "4e1a813b-367c-463d-a8e8-5f7dfe2aa9ce",
   "metadata": {},
   "source": [
    " ## Chapter 23.5 Decorators"
   ]
  },
  {
   "cell_type": "markdown",
   "id": "f03b4681-dc0e-4384-8e63-cf41ced17019",
   "metadata": {},
   "source": [
    "A decorator is a design pattern tool in Python for wrapping code around functions or classes (defined blocks). This design pattern allows a programmer to add new functionality to existing functions or classes without modifying the existing structure.\n",
    "\n",
    "Decorators are often used in scenarios such as logging, authentication and memorization, allowing us to add additional functionality to existing functions or methods in a clean, reusable way.\n",
    "### Decorator Example: 1"
   ]
  },
  {
   "cell_type": "code",
   "execution_count": 42,
   "id": "69ab73cf-1f79-44de-9dc8-759d608e54ff",
   "metadata": {},
   "outputs": [],
   "source": [
    "# A simple decorator function\n",
    "def myDecorator(myMessage):\n",
    "  \n",
    "    def message():\n",
    "        print(\"Before the message.\")\n",
    "        myMessage() # given as a parameter\n",
    "        print(\"After the message.\")\n",
    "    return message\n"
   ]
  },
  {
   "cell_type": "code",
   "execution_count": 44,
   "id": "7c7f70be-1587-44ef-b294-fd38a406dc68",
   "metadata": {},
   "outputs": [
    {
     "name": "stdout",
     "output_type": "stream",
     "text": [
      "Before the message.\n",
      "Hello, World!\n",
      "After the message.\n"
     ]
    }
   ],
   "source": [
    "\n",
    "# Applying the decorator to a function\n",
    "@myDecorator\n",
    "\n",
    "def greet():\n",
    "    print(\"Hello, World!\")\n",
    "\n",
    "greet()"
   ]
  },
  {
   "cell_type": "markdown",
   "id": "1087828f-abb0-4a38-ba78-8bbe96dc69b0",
   "metadata": {},
   "source": [
    "In this example, \"MyDecorator\"  includes an inner function, \"message()\" as a wrapper function. The inner function works as a wrapper function. This wrapper function may have common properties for a whole porject. If we need add a specific property, we can add it with a function and submit it with a fuction. In this example, \"myMessage\" is a function and submitted as a parameter. If we need, we can submit a different functtoun without changing the original \"myDecorator\" function.\n",
    "\n",
    "For example:\n"
   ]
  },
  {
   "cell_type": "code",
   "execution_count": 45,
   "id": "ac1f2803-4073-4382-a3ef-d29db4ab2d2d",
   "metadata": {},
   "outputs": [
    {
     "name": "stdout",
     "output_type": "stream",
     "text": [
      "Before the message.\n",
      "Hello, foo!\n",
      "After the message.\n"
     ]
    }
   ],
   "source": [
    "@myDecorator\n",
    "\n",
    "def foo():\n",
    "    print(\"Hello, foo!\")\n",
    "\n",
    "foo()"
   ]
  },
  {
   "cell_type": "code",
   "execution_count": 46,
   "id": "6e7c33ca-2933-4743-8301-cdb3a458aab6",
   "metadata": {},
   "outputs": [
    {
     "name": "stdout",
     "output_type": "stream",
     "text": [
      "Before the message.\n",
      "Hello, fooo!\n",
      "After the message.\n"
     ]
    }
   ],
   "source": [
    "@myDecorator\n",
    "\n",
    "def fooo():\n",
    "    print(\"Hello, fooo!\")\n",
    "\n",
    "fooo()"
   ]
  },
  {
   "cell_type": "markdown",
   "id": "2d761eec-0dda-4234-b021-0eaec08b479a",
   "metadata": {},
   "source": [
    "When we call the wrapper functions with different functions such as \"greet\", \"foo\" and \"foo\", the outer function alway have the same output except the specific message related to functions."
   ]
  },
  {
   "cell_type": "markdown",
   "id": "860485a3-a728-4ec1-91e2-24f58e9f1ea3",
   "metadata": {},
   "source": [
    "### Decorators With Parameters\n",
    "If necessary, decorators can take parameters. Let us see the following example first\n",
    "### Decorator Example: 2"
   ]
  },
  {
   "cell_type": "code",
   "execution_count": 58,
   "id": "d0036fdd-3c42-4de6-9a5b-ed0b2043a7f2",
   "metadata": {},
   "outputs": [
    {
     "name": "stdout",
     "output_type": "stream",
     "text": [
      "5\n"
     ]
    }
   ],
   "source": [
    "def decorator_calculate(calculator):\n",
    "    def my_wrapper(x,y):\n",
    "        result=calculator(x,y)\n",
    "        return result\n",
    "    return my_wrapper\n",
    "\n",
    "@decorator_calculate\n",
    "def add(x,y):\n",
    "    print(x+y)\n",
    "\n",
    "add(2,3)"
   ]
  },
  {
   "cell_type": "code",
   "execution_count": 61,
   "id": "31c3b3bd-8a4e-4d0b-8ba5-47b8dc6142a3",
   "metadata": {},
   "outputs": [
    {
     "name": "stdout",
     "output_type": "stream",
     "text": [
      "6\n"
     ]
    }
   ],
   "source": [
    "\n",
    "@decorator_calculate\n",
    "def mul(x,y):\n",
    "    print(x*y)\n",
    "\n",
    "mul(2,3)"
   ]
  },
  {
   "cell_type": "markdown",
   "id": "485e38d5-3d2b-4240-9986-85ddf9f437d8",
   "metadata": {},
   "source": [
    "### Syntax of Decorator Parameters\n",
    "    "
   ]
  },
  {
   "cell_type": "code",
   "execution_count": null,
   "id": "979cf453-c953-489f-b797-0f65efcc5253",
   "metadata": {},
   "outputs": [],
   "source": [
    "def decorator_name(func):\n",
    "    def wrapper(*args, **kwargs):\n",
    "        # Add functionality before the original function call\n",
    "        result = func(*args, **kwargs)\n",
    "        # Add functionality after the original function call\n",
    "        return result\n",
    "    return wrapper\n"
   ]
  },
  {
   "cell_type": "markdown",
   "id": "678d6ff8-680f-443a-a217-64270c4e8015",
   "metadata": {},
   "source": [
    "### Syntax of Decorator Parameters\n",
    "1. wrapper: This is a nested function inside the decorator. It wraps the original function, adding additional functionality.\n",
    "2. *args: This collects any positional arguments passed to the decorated function into a tuple.\n",
    "3. **kwargs: This collects any keyword arguments passed to the decorated function into a dictionary.\n",
    "4. The wrapper function allows the decorator to handle functions with any number and types of arguments.\n",
    "\n",
    "Let us write the 2nd example according to the syntax again.\n",
    "### Decorator Example: 3"
   ]
  },
  {
   "cell_type": "code",
   "execution_count": 75,
   "id": "21469f92-63c0-4232-89c9-62dece7b592a",
   "metadata": {},
   "outputs": [
    {
     "name": "stdout",
     "output_type": "stream",
     "text": [
      "The result of add is: 5\n",
      "The result of multiplication is:24\n",
      "\n"
     ]
    }
   ],
   "source": [
    "def decorator_calculate(calculator):\n",
    "    def my_wrapper(*args, **kwargs):\n",
    "        result=calculator(*args, **kwargs)\n",
    "        return result\n",
    "    return my_wrapper\n",
    "\n",
    "@decorator_calculate\n",
    "def add(x,y): #takes two variables\n",
    "    print(x+y)\n",
    "\n",
    "print(\"The result of add is:\",end=\" \")\n",
    "add(2,3)\n",
    "\n",
    "@decorator_calculate\n",
    "def mul(x,y,z): #takes three variables\n",
    "    print(x*y*z)\n",
    "\n",
    "print(\"The result of multiplication is:\",end = \"\")\n",
    "mul(2,3,4)\n",
    "print()\n"
   ]
  },
  {
   "cell_type": "code",
   "execution_count": 70,
   "id": "186a2c1f-6751-4f82-9b64-9a8275d50bf3",
   "metadata": {},
   "outputs": [
    {
     "name": "stdout",
     "output_type": "stream",
     "text": [
      "15\n"
     ]
    }
   ],
   "source": [
    "@decorator_calculate\n",
    "def total(*args,**y):\n",
    "    \n",
    "    print(sum(args))\n",
    "\n",
    "total(1,2,3,4,5) # submitted a tuple of numbers"
   ]
  },
  {
   "cell_type": "markdown",
   "id": "6d5db40b-c568-49e0-97b1-aaaa50c73c66",
   "metadata": {},
   "source": [
    "### Decorator Example: 4"
   ]
  },
  {
   "cell_type": "code",
   "execution_count": 76,
   "id": "96007cbd-4886-4f84-97de-eec552246035",
   "metadata": {},
   "outputs": [
    {
     "name": "stdout",
     "output_type": "stream",
     "text": [
      "I am going to divide 2 and 5\n",
      "0.4\n",
      "I am going to divide 2 and 0\n",
      "Whoops! cannot divide\n"
     ]
    }
   ],
   "source": [
    "def smart_divide(func):\n",
    "    def inner(a,b):\n",
    "        print(\"I am going to divide\", a, \"and\", b)\n",
    "        if b == 0:\n",
    "            print(\"Whoops! cannot divide\")\n",
    "            return\n",
    "\n",
    "        return func(a, b)\n",
    "    return inner\n",
    "\n",
    "@smart_divide\n",
    "def divide(a, b):\n",
    "    print(a/b)\n",
    "\n",
    "divide(2,5)\n",
    "\n",
    "divide(2,0)"
   ]
  },
  {
   "cell_type": "markdown",
   "id": "72ae1e3e-3591-417c-9428-e3382406a101",
   "metadata": {},
   "source": [
    "### Higher-Order Functions and Decorators\n",
    "higher-order functions are functions that take one or more functions as arguments, return a function as a result or do both. Essentially, a higher-order function is a function that operates on other functions. This is a powerful concept in functional programming and is a key component in understanding how decorators work.\n",
    "For example, in example three, the \"decorator_calculate\" is a higher-order function that takes the \"calculator\" function as a parameter and returns the new function, \"my_wrapper\",  as a result.  \n",
    "Decorators in Python are a type of higher-order function because they take a function as input, modify it, and return a new function that extends or changes its behavior. Understanding higher-order functions is essential for working with decorators since decorators are essentially functions that return other functions.\n",
    "\n",
    "### Types of Decorators\n",
    "#### 1. Function Decorators\n",
    "\n",
    "The most common type of decorator, which takes a function as input and returns a new function. The example above demonstrates this type. All examples from 1 to 4 that explained above are related to function decorators. \n",
    "#### 2. Method Decorators\n",
    "\n",
    "Used to decorate methods within a class. They often handle special cases, such as the self argument for instance methods.\n",
    "### Decorator Example: 5\n"
   ]
  },
  {
   "cell_type": "code",
   "execution_count": 77,
   "id": "1336b04d-28f0-45ab-a091-d48dc3a6491b",
   "metadata": {},
   "outputs": [
    {
     "name": "stdout",
     "output_type": "stream",
     "text": [
      "Before method execution\n",
      "Hello!\n",
      "After method execution\n"
     ]
    }
   ],
   "source": [
    "def method_decorator(func):\n",
    "    def wrapper(self, *args, **kwargs):\n",
    "        print(\"Before method execution\")\n",
    "        res = func(self, *args, **kwargs)\n",
    "        print(\"After method execution\")\n",
    "        return res\n",
    "    return wrapper\n",
    "\n",
    "class MyClass:\n",
    "    @method_decorator\n",
    "    def say_hello(self):\n",
    "        print(\"Hello!\")\n",
    "\n",
    "obj = MyClass()\n",
    "obj.say_hello()"
   ]
  },
  {
   "cell_type": "markdown",
   "id": "ecd9845c-0e0e-4dd0-ac7b-14291b1701b6",
   "metadata": {},
   "source": [
    "The defining procedures of the method decorator is similar to defining function decorator. The difference is, to access a method, we must create an object. \n",
    "#### 3. Class Decorators\n",
    "Class decorators are used to modify or enhance the behavior of a class. Like function decorators, class decorators are applied to the class definition. They work by taking the class as an argument and returning a modified version of the class.\n",
    "### Decorator Example: 6"
   ]
  },
  {
   "cell_type": "code",
   "execution_count": 79,
   "id": "fcfb9ea9-b042-4c8d-969e-6378932a3068",
   "metadata": {},
   "outputs": [
    {
     "name": "stdout",
     "output_type": "stream",
     "text": [
      "Person\n"
     ]
    }
   ],
   "source": [
    "def fun(cls):\n",
    "    cls.class_name = cls.__name__\n",
    "    return cls\n",
    "\n",
    "@fun\n",
    "class Person:\n",
    "    pass\n",
    "\n",
    "print(Person.class_name)"
   ]
  },
  {
   "cell_type": "markdown",
   "id": "0262a6c5-2301-48f8-99d8-aa03f1704dc4",
   "metadata": {},
   "source": [
    "#### Explanation\n",
    "1. add_class_name(cls): This decorator adds a new attribute, class_name, to the class cls. The value of class_name is set to the name of the class (cls.__name__).\n",
    "2. @add_class_name: This applies the add_class_name decorator to the Person class.\n",
    "3. Result: When the Person class is defined, the decorator automatically adds the class_name attribute to it.\n",
    "4. print(Person.class_name): Accessing the class_name attribute that was added by the decorator prints the name of the class, Person.\n",
    "\n",
    "### Common Built-in Decorators\n",
    "Python provides several built-in decorators that are commonly used in class definitions. These decorators modify the behavior of methods and attributes in a class, making it easier to manage and use them effectively. The most frequently used built-in decorators are @staticmethod, @classmethod, and @property.\n",
    "\n",
    "#### @staticmethod\n",
    "The @staticmethod decorator is used to define a method that doesn’t operate on an instance of the class (i.e., it doesn’t use self). Static methods are called on the class itself, not on an instance of the class.\n",
    "### Decorator Example: 7"
   ]
  },
  {
   "cell_type": "code",
   "execution_count": 81,
   "id": "4b59fc56-db11-4c0e-aee8-8a81bc98f142",
   "metadata": {},
   "outputs": [
    {
     "name": "stdout",
     "output_type": "stream",
     "text": [
      "8\n"
     ]
    }
   ],
   "source": [
    "class MathOperations:\n",
    "    @staticmethod\n",
    "    def add(x, y):\n",
    "        return x + y\n",
    "\n",
    "# Using the static method\n",
    "res = MathOperations.add(5, 3)\n",
    "print(res)"
   ]
  },
  {
   "cell_type": "markdown",
   "id": "3e471184-1255-41bd-b968-cc0b5fcdb5f0",
   "metadata": {},
   "source": [
    "#### @classmethod\n",
    "The @staticmethod decorator is used to define a method that doesn’t operate on an instance of the class (i.e., it doesn’t use self). Static methods are called on the class itself, not on an instance of the class.\n",
    "### Decorator Example: 7"
   ]
  },
  {
   "cell_type": "code",
   "execution_count": 82,
   "id": "7321ed16-7e0e-4245-8b7b-9e948a2435ea",
   "metadata": {},
   "outputs": [
    {
     "name": "stdout",
     "output_type": "stream",
     "text": [
      "1.1\n"
     ]
    }
   ],
   "source": [
    "class Employee:\n",
    "    raise_amount = 1.05\n",
    "\n",
    "    def __init__(self, name, salary):\n",
    "        self.name = name\n",
    "        self.salary = salary\n",
    "\n",
    "    @classmethod\n",
    "    def set_raise_amount(cls, amount):\n",
    "        cls.raise_amount = amount\n",
    "\n",
    "# Using the class method\n",
    "Employee.set_raise_amount(1.10)\n",
    "print(Employee.raise_amount)"
   ]
  },
  {
   "cell_type": "markdown",
   "id": "87012a27-d11a-43a6-97e0-b183f851e14b",
   "metadata": {},
   "source": [
    "#### Explaination\n",
    "1. set_raise_amount is a class method defined with the @classmethod decorator.\n",
    "2. It can modify the class variable raise_amount for the class Employee and all its instances.\n",
    "\n",
    "#### @property\n",
    "The @property decorator is used to define a method as a property, which allows you to access it like an attribute. This is useful for encapsulating the implementation of a method while still providing a simple interface.\n",
    "### Decorator Example: 8"
   ]
  },
  {
   "cell_type": "code",
   "execution_count": 83,
   "id": "df108fa1-67be-4f9c-a1e5-319b41fdb525",
   "metadata": {},
   "outputs": [
    {
     "name": "stdout",
     "output_type": "stream",
     "text": [
      "5\n",
      "78.53975\n",
      "314.159\n"
     ]
    }
   ],
   "source": [
    "class Circle:\n",
    "    def __init__(self, radius):\n",
    "        self._radius = radius\n",
    "\n",
    "    @property### Decorator Example: 8\n",
    "    def radius(self):\n",
    "        return self._radius\n",
    "\n",
    "    @radius.setter\n",
    "    def radius(self, value):\n",
    "        if value >= 0:\n",
    "            self._radius = value\n",
    "        else:\n",
    "            raise ValueError(\"Radius cannot be negative\")\n",
    "\n",
    "    @property\n",
    "    def area(self):\n",
    "        return 3.14159 * (self._radius ** 2)\n",
    "\n",
    "# Using the property\n",
    "c = Circle(5)\n",
    "print(c.radius) \n",
    "print(c.area)    \n",
    "c.radius = 10\n",
    "print(c.area)"
   ]
  },
  {
   "cell_type": "markdown",
   "id": "226f90e6-2e35-4cfe-9f5c-d8912ee3b6fd",
   "metadata": {},
   "source": [
    "#### Explaination\n",
    "1. radius and area are properties defined with the @property decorator.\n",
    "2. The radius property also has a setter method to allow modification with validation.\n",
    "3. These properties provide a way to access and modify private attributes while maintaining encapsulation.\n",
    "\n",
    "### Chaining Decorators\n",
    "In simpler terms chaining decorators means decorating a function with multiple decorators.\n",
    "### Decorator Example: 9"
   ]
  },
  {
   "cell_type": "code",
   "execution_count": 85,
   "id": "a5cc76ac-73ce-4358-a295-6319b790dad7",
   "metadata": {},
   "outputs": [
    {
     "name": "stdout",
     "output_type": "stream",
     "text": [
      "400\n",
      "200\n"
     ]
    }
   ],
   "source": [
    "# code for testing decorator chaining \n",
    "def decor1(func): \n",
    "    def inner(): \n",
    "        x = func() \n",
    "        return x * x \n",
    "    return inner \n",
    "\n",
    "def decor(func): \n",
    "    def inner(): \n",
    "        x = func() \n",
    "        return 2 * x \n",
    "    return inner \n",
    "\n",
    "@decor1\n",
    "@decor\n",
    "def num(): \n",
    "    return 10\n",
    "\n",
    "@decor\n",
    "@decor1\n",
    "def num2():\n",
    "    return 10\n",
    "  \n",
    "print(num()) \n",
    "print(num2())"
   ]
  },
  {
   "cell_type": "code",
   "execution_count": null,
   "id": "a747044c-5c54-48af-8be4-d3a0deeb13ed",
   "metadata": {},
   "outputs": [],
   "source": []
  }
 ],
 "metadata": {
  "kernelspec": {
   "display_name": "Python 3 (ipykernel)",
   "language": "python",
   "name": "python3"
  },
  "language_info": {
   "codemirror_mode": {
    "name": "ipython",
    "version": 3
   },
   "file_extension": ".py",
   "mimetype": "text/x-python",
   "name": "python",
   "nbconvert_exporter": "python",
   "pygments_lexer": "ipython3",
   "version": "3.12.3"
  }
 },
 "nbformat": 4,
 "nbformat_minor": 5
}
