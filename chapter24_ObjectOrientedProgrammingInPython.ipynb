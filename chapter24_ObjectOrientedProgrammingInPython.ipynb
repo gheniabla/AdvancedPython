{
  "cells": [
    {
      "cell_type": "markdown",
      "metadata": {
        "id": "view-in-github",
        "colab_type": "text"
      },
      "source": [
        "<a href=\"https://colab.research.google.com/github/gheniabla/AdvancedPython/blob/main/chapter24_ObjectOrientedProgrammingInPython.ipynb\" target=\"_parent\"><img src=\"https://colab.research.google.com/assets/colab-badge.svg\" alt=\"Open In Colab\"/></a>"
      ]
    },
    {
      "cell_type": "markdown",
      "id": "0ccba4b5-c2d1-4c3e-bd69-11315b9300a5",
      "metadata": {
        "id": "0ccba4b5-c2d1-4c3e-bd69-11315b9300a5"
      },
      "source": [
        "# Chapter 23 Iterables, Iterators, Generators, Closures and Decorators\n",
        "\n",
        "In Python, iterables, iterators, generators, closures, and decorators are core concepts that enable efficient and expressive programming. This chapter breaks each concept down with explanations and examples.\n",
        "\n",
        "## Chapter 23.1 Iterables\n",
        "\n",
        "Iterables are containers that can store multiple values and are capable of returning them one by one. Iterables can store any number of values. In Python, the values can either be the same type or different types. Python has several types of iterables. For example, strings, lists, tuples, dictionaries, sets, files and range objects, etc. If an object is iterable, its elements can be retrieved with a for loop.\n",
        "\n",
        "The following example demonstrates how to iterate over a list of elements using a for loop directly.\n"
      ]
    },
    {
      "cell_type": "code",
      "execution_count": null,
      "id": "ac1717a3-3f1e-473e-a5d9-e5c2bcc268fb",
      "metadata": {
        "colab": {
          "base_uri": "https://localhost:8080/"
        },
        "id": "ac1717a3-3f1e-473e-a5d9-e5c2bcc268fb",
        "outputId": "b15d187e-97f7-46bf-bb4b-a4e8e9dbffd2"
      },
      "outputs": [
        {
          "output_type": "stream",
          "name": "stdout",
          "text": [
            "Monday\n",
            "Tuesday\n",
            "Wednesday\n",
            "Thursday\n",
            "Friday\n",
            "Saturday\n",
            "Sunday\n"
          ]
        }
      ],
      "source": [
        "days= [\"Monday\", \"Tuesday\", \"Wednesday\", \"Thursday\", \"Friday\", \"Saturday\", \"Sunday\"]\n",
        "for day in days:\n",
        "    print(day)"
      ]
    },
    {
      "cell_type": "markdown",
      "id": "29c8237a-de61-4a10-aea7-3731d917df28",
      "metadata": {
        "id": "29c8237a-de61-4a10-aea7-3731d917df28"
      },
      "source": [
        "An iterable is an object that implements the __ iter__() method (a dunder or magic method defined by built-in classes in Python) or has an associated __ getitem__() method that allows sequential access to its elements. Typically, the dir() function is used to display the magic methods inherited by a class."
      ]
    },
    {
      "cell_type": "code",
      "execution_count": null,
      "id": "6b8c8947-cd98-44b2-90b3-2e32387e5d69",
      "metadata": {
        "colab": {
          "base_uri": "https://localhost:8080/"
        },
        "id": "6b8c8947-cd98-44b2-90b3-2e32387e5d69",
        "outputId": "9596657a-1458-495b-b88e-232b41ebcbf0"
      },
      "outputs": [
        {
          "output_type": "stream",
          "name": "stdout",
          "text": [
            "['__add__', '__class__', '__class_getitem__', '__contains__', '__delattr__', '__delitem__', '__dir__', '__doc__', '__eq__', '__format__', '__ge__', '__getattribute__', '__getitem__', '__getstate__', '__gt__', '__hash__', '__iadd__', '__imul__', '__init__', '__init_subclass__', '__iter__', '__le__', '__len__', '__lt__', '__mul__', '__ne__', '__new__', '__reduce__', '__reduce_ex__', '__repr__', '__reversed__', '__rmul__', '__setattr__', '__setitem__', '__sizeof__', '__str__', '__subclasshook__', 'append', 'clear', 'copy', 'count', 'extend', 'index', 'insert', 'pop', 'remove', 'reverse', 'sort']\n"
          ]
        }
      ],
      "source": [
        "print(dir(days))"
      ]
    },
    {
      "cell_type": "markdown",
      "id": "1e4245fb-9187-44b4-946a-bc602002c691",
      "metadata": {
        "id": "1e4245fb-9187-44b4-946a-bc602002c691"
      },
      "source": [
        "The output shows that the __ iter__() dunder method is included in the list object. That is why the for loop can iterate over all elements contained in the list. If an object is not iterable, it cannot be iterated.\n",
        "\n",
        "The following example shows iterate over a tuple of numbers."
      ]
    },
    {
      "cell_type": "code",
      "execution_count": null,
      "id": "afb7d416-58c2-48d4-9eb7-7b0b61df3d5c",
      "metadata": {
        "colab": {
          "base_uri": "https://localhost:8080/"
        },
        "id": "afb7d416-58c2-48d4-9eb7-7b0b61df3d5c",
        "outputId": "fc63cc31-3f88-4809-d969-de7276795709"
      },
      "outputs": [
        {
          "output_type": "stream",
          "name": "stdout",
          "text": [
            "1 2 3 4 5 6 "
          ]
        }
      ],
      "source": [
        "data= (1,2,3,4,5,6)\n",
        "for n in data:\n",
        "    print(n, end = ' ')"
      ]
    },
    {
      "cell_type": "markdown",
      "id": "3a118e3a-b7b5-4d56-896a-51dcd89bf1a2",
      "metadata": {
        "id": "3a118e3a-b7b5-4d56-896a-51dcd89bf1a2"
      },
      "source": [
        "In the same way, we can iterate over a string."
      ]
    },
    {
      "cell_type": "code",
      "execution_count": null,
      "id": "e22d0108-e208-43e8-b3f0-f7e6a3f929e2",
      "metadata": {
        "colab": {
          "base_uri": "https://localhost:8080/"
        },
        "id": "e22d0108-e208-43e8-b3f0-f7e6a3f929e2",
        "outputId": "80c7daf9-a8a8-4c7b-e61e-b9be7b8011e8"
      },
      "outputs": [
        {
          "output_type": "stream",
          "name": "stdout",
          "text": [
            "  H e l l o   W o r l d "
          ]
        }
      ],
      "source": [
        "text= \" Hello World\"\n",
        "for t in text:\n",
        "    print(t, end = ' ')"
      ]
    },
    {
      "cell_type": "markdown",
      "id": "e0496868-07a1-4648-af2b-16ca90051035",
      "metadata": {
        "id": "e0496868-07a1-4648-af2b-16ca90051035"
      },
      "source": [
        "A dictionary iterates on keys by default."
      ]
    },
    {
      "cell_type": "code",
      "execution_count": null,
      "id": "6b98e1b6-0284-4522-8696-a9656fdc65d8",
      "metadata": {
        "colab": {
          "base_uri": "https://localhost:8080/"
        },
        "id": "6b98e1b6-0284-4522-8696-a9656fdc65d8",
        "outputId": "7ab65d1c-c973-4564-d84e-54ae9c70cdb6"
      },
      "outputs": [
        {
          "output_type": "stream",
          "name": "stdout",
          "text": [
            "one\n",
            "two\n",
            "three\n",
            "four\n",
            "five\n"
          ]
        }
      ],
      "source": [
        "numbers= {'one':1, 'two':2, 'three':3,'four':4, 'five':5}\n",
        "for n in numbers:\n",
        "    print(n)"
      ]
    },
    {
      "cell_type": "code",
      "execution_count": null,
      "id": "e1744e32-9ac7-4276-b50f-146d5d018330",
      "metadata": {
        "colab": {
          "base_uri": "https://localhost:8080/"
        },
        "id": "e1744e32-9ac7-4276-b50f-146d5d018330",
        "outputId": "fb112f5f-6c45-4fd8-efc4-15bf5d9ed5e4"
      },
      "outputs": [
        {
          "output_type": "stream",
          "name": "stdout",
          "text": [
            "('one', 1)\n",
            "('two', 2)\n",
            "('three', 3)\n",
            "('four', 4)\n",
            "('five', 5)\n"
          ]
        }
      ],
      "source": [
        "# It is possible to iterate over all items, including both the key and the value.\n",
        "for n in numbers.items():\n",
        "    print(n)"
      ]
    },
    {
      "cell_type": "code",
      "execution_count": null,
      "id": "e72a3b2b-c656-4132-964c-83029b2d9a2f",
      "metadata": {
        "colab": {
          "base_uri": "https://localhost:8080/"
        },
        "id": "e72a3b2b-c656-4132-964c-83029b2d9a2f",
        "outputId": "13e234e3-d862-4491-bd4a-4437c3d4d25b"
      },
      "outputs": [
        {
          "output_type": "stream",
          "name": "stdout",
          "text": [
            "1\n",
            "2\n",
            "3\n",
            "4\n",
            "5\n"
          ]
        }
      ],
      "source": [
        "# Also, it is possible to iterate over only the values.\n",
        "for n in numbers.values():\n",
        "    print(n)"
      ]
    },
    {
      "cell_type": "code",
      "execution_count": null,
      "id": "d4f89d7d-2c26-4631-b67e-35cc0d245ee9",
      "metadata": {
        "colab": {
          "base_uri": "https://localhost:8080/"
        },
        "id": "d4f89d7d-2c26-4631-b67e-35cc0d245ee9",
        "outputId": "b908dccf-9e50-4954-ce93-2022765eac5c"
      },
      "outputs": [
        {
          "output_type": "stream",
          "name": "stdout",
          "text": [
            "1 2 3 4 5 6 7 8 9 "
          ]
        }
      ],
      "source": [
        "\n",
        "#Let us pirnt out a set of numbers\n",
        "mySet = {1,2,3,4,4,5,6,7,4,8,9}\n",
        "for n in mySet:\n",
        "    print(n , end = ' ')"
      ]
    },
    {
      "cell_type": "markdown",
      "id": "8fc74bf6-8e89-4dd0-867e-8de5aa447ebe",
      "metadata": {
        "id": "8fc74bf6-8e89-4dd0-867e-8de5aa447ebe"
      },
      "source": [
        "As a result, we have printed out all numbers in the set. Note: Even if we have repeated numbers such as 4, only one 4 is printed out!\n",
        "\n",
        "In Python, the file object is iterable (actually, it is an iterator). Therefore, we can read file contents using a **for** loop."
      ]
    },
    {
      "cell_type": "code",
      "source": [
        "with open('mytext.txt', 'w') as f:\n",
        "  f.write(\"My numbers\\n\")\n",
        "  f.write(\"One\\n\")\n",
        "  f.write(\"Two\\n\")\n",
        "  f.write(\"Three\\n\")\n",
        "  f.write(\"This is the end\\n\")\n"
      ],
      "metadata": {
        "id": "Mxcnod5s2ffH"
      },
      "id": "Mxcnod5s2ffH",
      "execution_count": null,
      "outputs": []
    },
    {
      "cell_type": "code",
      "execution_count": null,
      "id": "80129e59-15b7-49dd-ad88-f4ef9ba7cfc0",
      "metadata": {
        "colab": {
          "base_uri": "https://localhost:8080/"
        },
        "id": "80129e59-15b7-49dd-ad88-f4ef9ba7cfc0",
        "outputId": "f4760641-d273-413e-e71c-0914ebd5f2ec"
      },
      "outputs": [
        {
          "output_type": "stream",
          "name": "stdout",
          "text": [
            "My numbers\n",
            "\n",
            "One\n",
            "\n",
            "Two\n",
            "\n",
            "Three\n",
            "\n",
            "This is the end\n",
            "\n"
          ]
        }
      ],
      "source": [
        "\n",
        "f = open ('mytext.txt', 'r')\n",
        "for x in f:\n",
        "    print(x)"
      ]
    },
    {
      "cell_type": "code",
      "execution_count": null,
      "id": "a12bb850-dd87-4619-9e13-5c8925f342aa",
      "metadata": {
        "colab": {
          "base_uri": "https://localhost:8080/"
        },
        "id": "a12bb850-dd87-4619-9e13-5c8925f342aa",
        "outputId": "9c89090f-c4be-482c-e95a-7f6ebee764d4"
      },
      "outputs": [
        {
          "output_type": "stream",
          "name": "stdout",
          "text": [
            "['_CHUNK_SIZE', '__class__', '__del__', '__delattr__', '__dict__', '__dir__', '__doc__', '__enter__', '__eq__', '__exit__', '__format__', '__ge__', '__getattribute__', '__getstate__', '__gt__', '__hash__', '__init__', '__init_subclass__', '__iter__', '__le__', '__lt__', '__ne__', '__new__', '__next__', '__reduce__', '__reduce_ex__', '__repr__', '__setattr__', '__sizeof__', '__str__', '__subclasshook__', '_checkClosed', '_checkReadable', '_checkSeekable', '_checkWritable', '_finalizing', 'buffer', 'close', 'closed', 'detach', 'encoding', 'errors', 'fileno', 'flush', 'isatty', 'line_buffering', 'mode', 'name', 'newlines', 'read', 'readable', 'readline', 'readlines', 'reconfigure', 'seek', 'seekable', 'tell', 'truncate', 'writable', 'write', 'write_through', 'writelines']\n"
          ]
        }
      ],
      "source": [
        "print(dir(f))"
      ]
    },
    {
      "cell_type": "markdown",
      "id": "7582e0e3-a933-4e74-aec0-edfad1456e63",
      "metadata": {
        "id": "7582e0e3-a933-4e74-aec0-edfad1456e63"
      },
      "source": [
        "This result shows that the file object inherits the __ iter__() magic function and it is an iterable object.  Actually, the file object inherits a number of methods such as **read()**, **readline()**, **readlines()** that are usufull for reading files. For example:\n"
      ]
    },
    {
      "cell_type": "code",
      "execution_count": null,
      "id": "8e9117a5-a1d2-4e33-bf18-567bd2306190",
      "metadata": {
        "colab": {
          "base_uri": "https://localhost:8080/"
        },
        "id": "8e9117a5-a1d2-4e33-bf18-567bd2306190",
        "outputId": "1999d39f-8044-4ab6-9277-8e1c637b03d9"
      },
      "outputs": [
        {
          "output_type": "stream",
          "name": "stdout",
          "text": [
            "My numbers\n",
            "One\n",
            "Two\n",
            "Three\n",
            "This is the end\n",
            "\n"
          ]
        }
      ],
      "source": [
        "f = open ('mytext.txt', 'r')\n",
        "print(f.read())"
      ]
    },
    {
      "cell_type": "markdown",
      "id": "861c6e20-f2ed-4199-aea6-3e93651f9641",
      "metadata": {
        "id": "861c6e20-f2ed-4199-aea6-3e93651f9641"
      },
      "source": [
        "## Chapter 23.2 Iterators\n",
        "An iterator in Python is an object that allows traversal through a sequence of elements one at a time. It keeps track of its state (the current position) and provides the next element upon request. Iterators enable memory-efficient processing of data.\n",
        "\n",
        "### Key Characteristics of an Iterator\n",
        "* Implements dunder methods such as __ iter__() and __ next__(). The __ iter__() method is used to return the iterator object itself, while the __ next__() method returns the next element and raises a **StopIteration** exception when no elements are left.\n",
        "* Unlike iterables, an iterator remembers the last position of iteration.\n",
        "* Once an element is accessed, it cannot be revisited unless the iterator is recreated.\n",
        "An iterable object can be converted into an iterator using the iter() function.\n",
        "\n",
        "The following example demonstrates how to convert an iterable object—a list of numbers—into an iterator and access its elements one by one."
      ]
    },
    {
      "cell_type": "code",
      "execution_count": null,
      "id": "20bd1f85-0182-4ed8-8126-b1e838cece96",
      "metadata": {
        "colab": {
          "base_uri": "https://localhost:8080/"
        },
        "id": "20bd1f85-0182-4ed8-8126-b1e838cece96",
        "outputId": "70322ba4-920c-410c-caa6-e042c9266ffe"
      },
      "outputs": [
        {
          "output_type": "stream",
          "name": "stdout",
          "text": [
            "['__class__', '__delattr__', '__dir__', '__doc__', '__eq__', '__format__', '__ge__', '__getattribute__', '__getstate__', '__gt__', '__hash__', '__init__', '__init_subclass__', '__iter__', '__le__', '__length_hint__', '__lt__', '__ne__', '__new__', '__next__', '__reduce__', '__reduce_ex__', '__repr__', '__setattr__', '__setstate__', '__sizeof__', '__str__', '__subclasshook__']\n"
          ]
        }
      ],
      "source": [
        "numbers = [3,5,7] # this is a list (iterable)\n",
        "myIterator= numbers.__iter__() # convert the list to iterator\n",
        "print(dir(myIterator))"
      ]
    },
    {
      "cell_type": "markdown",
      "id": "487638a2-2dd1-415d-af50-915df95bf513",
      "metadata": {
        "id": "487638a2-2dd1-415d-af50-915df95bf513"
      },
      "source": [
        "The output shows that both the __ iter__() and __ next__() methods have been implemented. Even though we didn't explicitly implement the __ next__() method, when an iterable object is converted into an iterator using the __ iter__() function, the __ next__() function is implemented automatically. After an iterable object is converted into an iterator, its elements can be accessed using the __ next__() function."
      ]
    },
    {
      "cell_type": "code",
      "execution_count": null,
      "id": "6d9aff94-7c57-48f3-99ab-6947f7eb9661",
      "metadata": {
        "colab": {
          "base_uri": "https://localhost:8080/"
        },
        "id": "6d9aff94-7c57-48f3-99ab-6947f7eb9661",
        "outputId": "be4c230e-d5e1-4a8b-8665-d5140dd75c71"
      },
      "outputs": [
        {
          "output_type": "stream",
          "name": "stdout",
          "text": [
            "3\n"
          ]
        }
      ],
      "source": [
        "print(myIterator.__next__())"
      ]
    },
    {
      "cell_type": "code",
      "execution_count": null,
      "id": "7dc7ea88-0a4f-440d-b33e-54971a164e4a",
      "metadata": {
        "colab": {
          "base_uri": "https://localhost:8080/"
        },
        "id": "7dc7ea88-0a4f-440d-b33e-54971a164e4a",
        "outputId": "1acac39b-525c-487d-c2c6-9c3e99777ff2"
      },
      "outputs": [
        {
          "output_type": "stream",
          "name": "stdout",
          "text": [
            "5\n",
            "7\n"
          ]
        }
      ],
      "source": [
        "print(myIterator.__next__())\n",
        "print(myIterator.__next__())"
      ]
    },
    {
      "cell_type": "markdown",
      "id": "a4de285c-d7dc-4298-b2cc-967fd9245dcf",
      "metadata": {
        "id": "a4de285c-d7dc-4298-b2cc-967fd9245dcf"
      },
      "source": [
        "If we try to access one more element, we will get a **StopIterattion** exception."
      ]
    },
    {
      "cell_type": "code",
      "execution_count": null,
      "id": "2404db2c-882d-4c3e-82c8-10dbdf4a03d6",
      "metadata": {
        "colab": {
          "base_uri": "https://localhost:8080/",
          "height": 141
        },
        "id": "2404db2c-882d-4c3e-82c8-10dbdf4a03d6",
        "outputId": "fd29124b-ebf8-41cc-9498-f14f48301db3"
      },
      "outputs": [
        {
          "output_type": "error",
          "ename": "StopIteration",
          "evalue": "",
          "traceback": [
            "\u001b[0;31m---------------------------------------------------------------------------\u001b[0m",
            "\u001b[0;31mStopIteration\u001b[0m                             Traceback (most recent call last)",
            "\u001b[0;32m<ipython-input-19-1b2bd8aaeef1>\u001b[0m in \u001b[0;36m<cell line: 0>\u001b[0;34m()\u001b[0m\n\u001b[0;32m----> 1\u001b[0;31m \u001b[0mprint\u001b[0m\u001b[0;34m(\u001b[0m\u001b[0mmyIterator\u001b[0m\u001b[0;34m.\u001b[0m\u001b[0m__next__\u001b[0m\u001b[0;34m(\u001b[0m\u001b[0;34m)\u001b[0m\u001b[0;34m)\u001b[0m\u001b[0;34m\u001b[0m\u001b[0;34m\u001b[0m\u001b[0m\n\u001b[0m",
            "\u001b[0;31mStopIteration\u001b[0m: "
          ]
        }
      ],
      "source": [
        "print(myIterator.__next__())"
      ]
    },
    {
      "cell_type": "markdown",
      "id": "61683faf-20bd-4c10-8812-68fcdb2e9de2",
      "metadata": {
        "id": "61683faf-20bd-4c10-8812-68fcdb2e9de2"
      },
      "source": [
        "Without creating an iterator, the __ next__()function cannot be executed"
      ]
    },
    {
      "cell_type": "code",
      "execution_count": null,
      "id": "4c04aa7f-f741-4d28-903d-d3d5863782c3",
      "metadata": {
        "colab": {
          "base_uri": "https://localhost:8080/",
          "height": 158
        },
        "id": "4c04aa7f-f741-4d28-903d-d3d5863782c3",
        "outputId": "ac3c79b1-12a6-4d4b-afac-43946e994734"
      },
      "outputs": [
        {
          "output_type": "error",
          "ename": "AttributeError",
          "evalue": "'tuple' object has no attribute '__next__'",
          "traceback": [
            "\u001b[0;31m---------------------------------------------------------------------------\u001b[0m",
            "\u001b[0;31mAttributeError\u001b[0m                            Traceback (most recent call last)",
            "\u001b[0;32m<ipython-input-20-464fb1c46332>\u001b[0m in \u001b[0;36m<cell line: 0>\u001b[0;34m()\u001b[0m\n\u001b[1;32m      1\u001b[0m \u001b[0myourNumbers\u001b[0m\u001b[0;34m=\u001b[0m\u001b[0;34m(\u001b[0m\u001b[0;36m1\u001b[0m\u001b[0;34m,\u001b[0m\u001b[0;36m2\u001b[0m\u001b[0;34m,\u001b[0m\u001b[0;36m3\u001b[0m\u001b[0;34m,\u001b[0m\u001b[0;36m4\u001b[0m\u001b[0;34m)\u001b[0m \u001b[0;31m# tuple is iterable, but not an iterator\u001b[0m\u001b[0;34m\u001b[0m\u001b[0;34m\u001b[0m\u001b[0m\n\u001b[0;32m----> 2\u001b[0;31m \u001b[0mprint\u001b[0m\u001b[0;34m(\u001b[0m\u001b[0myourNumbers\u001b[0m\u001b[0;34m.\u001b[0m\u001b[0m__next__\u001b[0m\u001b[0;34m(\u001b[0m\u001b[0;34m)\u001b[0m\u001b[0;34m)\u001b[0m\u001b[0;34m\u001b[0m\u001b[0;34m\u001b[0m\u001b[0m\n\u001b[0m",
            "\u001b[0;31mAttributeError\u001b[0m: 'tuple' object has no attribute '__next__'"
          ]
        }
      ],
      "source": [
        "yourNumbers=(1,2,3,4) # tuple is iterable, but not an iterator\n",
        "print(yourNumbers.__next__())"
      ]
    },
    {
      "cell_type": "markdown",
      "id": "c7ef6dc8-e7c7-4e47-9a8e-c686ebd412cc",
      "metadata": {
        "id": "c7ef6dc8-e7c7-4e47-9a8e-c686ebd412cc"
      },
      "source": [
        "As a result, we get an **AttributeError** exception."
      ]
    },
    {
      "cell_type": "code",
      "execution_count": null,
      "id": "cf7f1a69-c647-4d0d-ba38-85597d9e7bc4",
      "metadata": {
        "colab": {
          "base_uri": "https://localhost:8080/"
        },
        "id": "cf7f1a69-c647-4d0d-ba38-85597d9e7bc4",
        "outputId": "543e1d01-4f61-46ad-a5f1-98f27c7660b2"
      },
      "outputs": [
        {
          "output_type": "stream",
          "name": "stdout",
          "text": [
            "1\n",
            "2\n",
            "3\n"
          ]
        }
      ],
      "source": [
        "yourIterator= iter(yourNumbers) # we can use the \"iter()\" function with the same meaning as __iter__()\n",
        "print(next(yourIterator)) # we can use the \"next()\" function with the same meaning as __next__()\n",
        "print(next(yourIterator))\n",
        "print(next(yourIterator))"
      ]
    },
    {
      "cell_type": "code",
      "execution_count": null,
      "id": "ebc2ce36-2e01-4b87-9cb1-cc283a969364",
      "metadata": {
        "colab": {
          "base_uri": "https://localhost:8080/",
          "height": 176
        },
        "id": "ebc2ce36-2e01-4b87-9cb1-cc283a969364",
        "outputId": "dc5b3d4c-1ae0-4606-c8b5-0b6d802df36c"
      },
      "outputs": [
        {
          "output_type": "stream",
          "name": "stdout",
          "text": [
            "4\n"
          ]
        },
        {
          "output_type": "error",
          "ename": "StopIteration",
          "evalue": "",
          "traceback": [
            "\u001b[0;31m---------------------------------------------------------------------------\u001b[0m",
            "\u001b[0;31mStopIteration\u001b[0m                             Traceback (most recent call last)",
            "\u001b[0;32m<ipython-input-22-d59b58f61d84>\u001b[0m in \u001b[0;36m<cell line: 0>\u001b[0;34m()\u001b[0m\n\u001b[1;32m      1\u001b[0m \u001b[0mprint\u001b[0m\u001b[0;34m(\u001b[0m\u001b[0mnext\u001b[0m\u001b[0;34m(\u001b[0m\u001b[0myourIterator\u001b[0m\u001b[0;34m)\u001b[0m\u001b[0;34m)\u001b[0m\u001b[0;34m\u001b[0m\u001b[0;34m\u001b[0m\u001b[0m\n\u001b[0;32m----> 2\u001b[0;31m \u001b[0mprint\u001b[0m\u001b[0;34m(\u001b[0m\u001b[0mnext\u001b[0m\u001b[0;34m(\u001b[0m\u001b[0myourIterator\u001b[0m\u001b[0;34m)\u001b[0m\u001b[0;34m)\u001b[0m\u001b[0;34m\u001b[0m\u001b[0;34m\u001b[0m\u001b[0m\n\u001b[0m",
            "\u001b[0;31mStopIteration\u001b[0m: "
          ]
        }
      ],
      "source": [
        "print(next(yourIterator))\n",
        "print(next(yourIterator))\n"
      ]
    },
    {
      "cell_type": "markdown",
      "id": "d3aace5f-ee16-4e9b-a014-3d0502601612",
      "metadata": {
        "id": "d3aace5f-ee16-4e9b-a014-3d0502601612"
      },
      "source": [
        "### How does the for loop iterate a list?\n",
        "In the previous example, the tuple cannot be iterated over its elements without converting it to an iterator. However, a tuple can be iterated with a **for** loop. The reason is that the **for** loop is a special structure, and the **in** keyword in the structure converts iterable objects into iterator objects.\n",
        "\n",
        "To explain the iterable, iterator, and their relationships with built-in methods such as __ iter__() and __ next__(), let us define a custom iterable class that prints numbers in a given range.\n"
      ]
    },
    {
      "cell_type": "code",
      "execution_count": null,
      "id": "ff3b3b4a-3b8d-4b38-b877-d9c3927a5022",
      "metadata": {
        "colab": {
          "base_uri": "https://localhost:8080/"
        },
        "id": "ff3b3b4a-3b8d-4b38-b877-d9c3927a5022",
        "outputId": "1bd0d1a0-f50a-4aac-9677-6128899be00c"
      },
      "outputs": [
        {
          "output_type": "stream",
          "name": "stdout",
          "text": [
            "1\n",
            "2\n",
            "3\n",
            "4\n"
          ]
        }
      ],
      "source": [
        "class MyRange:\n",
        "    def __init__(self, start, end):\n",
        "        self.start = start\n",
        "        self.end = end\n",
        "        self.current=start\n",
        "\n",
        "    def __iter__(self):\n",
        "        self.current = self.start\n",
        "        return self\n",
        "\n",
        "    def __next__(self):\n",
        "        if self.current >= self.end:\n",
        "            raise StopIteration\n",
        "        value = self.current\n",
        "        self.current += 1\n",
        "        return value\n",
        "\n",
        "# Using the custom iterable\n",
        "for num in MyRange(1, 5):\n",
        "    print(num)\n"
      ]
    },
    {
      "cell_type": "markdown",
      "id": "4c6486c7-90a4-4c28-a61f-25ee12590ea0",
      "metadata": {
        "id": "4c6486c7-90a4-4c28-a61f-25ee12590ea0"
      },
      "source": [
        "Because the MyRange class implements both the __ iter__() and the __ next__() methods, it can be used as an iterator.\n"
      ]
    },
    {
      "cell_type": "code",
      "execution_count": null,
      "id": "eec821f8-5ad4-4463-be12-d2e2cd4637c4",
      "metadata": {
        "colab": {
          "base_uri": "https://localhost:8080/"
        },
        "id": "eec821f8-5ad4-4463-be12-d2e2cd4637c4",
        "outputId": "a951c945-02fa-44f4-e00a-0049adb65c19"
      },
      "outputs": [
        {
          "output_type": "stream",
          "name": "stdout",
          "text": [
            "1\n"
          ]
        }
      ],
      "source": [
        "myIterator = MyRange(1,4)\n",
        "print(next(myIterator))"
      ]
    },
    {
      "cell_type": "code",
      "execution_count": null,
      "id": "b8f8fd8e-2e89-4311-82c8-7caa7fadb32b",
      "metadata": {
        "colab": {
          "base_uri": "https://localhost:8080/"
        },
        "id": "b8f8fd8e-2e89-4311-82c8-7caa7fadb32b",
        "outputId": "4f2f3f41-1b12-499b-997e-d3e8730d8ebd"
      },
      "outputs": [
        {
          "output_type": "stream",
          "name": "stdout",
          "text": [
            "2\n",
            "3\n"
          ]
        }
      ],
      "source": [
        "print(next(myIterator))\n",
        "print(next(myIterator))"
      ]
    },
    {
      "cell_type": "code",
      "execution_count": null,
      "id": "f9e9389b-543d-413c-9fcf-080efcb71c1e",
      "metadata": {
        "colab": {
          "base_uri": "https://localhost:8080/",
          "height": 280
        },
        "id": "f9e9389b-543d-413c-9fcf-080efcb71c1e",
        "outputId": "427d846f-ab45-4121-c9a4-3d8d12317e0d"
      },
      "outputs": [
        {
          "output_type": "error",
          "ename": "StopIteration",
          "evalue": "",
          "traceback": [
            "\u001b[0;31m---------------------------------------------------------------------------\u001b[0m",
            "\u001b[0;31mStopIteration\u001b[0m                             Traceback (most recent call last)",
            "\u001b[0;32m<ipython-input-26-ff6061c88c1a>\u001b[0m in \u001b[0;36m<cell line: 0>\u001b[0;34m()\u001b[0m\n\u001b[1;32m      1\u001b[0m \u001b[0;31m#This line is going to give an error because there are no numbers in the range.\u001b[0m\u001b[0;34m\u001b[0m\u001b[0;34m\u001b[0m\u001b[0m\n\u001b[0;32m----> 2\u001b[0;31m \u001b[0mprint\u001b[0m\u001b[0;34m(\u001b[0m\u001b[0mnext\u001b[0m\u001b[0;34m(\u001b[0m\u001b[0mmyIterator\u001b[0m\u001b[0;34m)\u001b[0m\u001b[0;34m)\u001b[0m\u001b[0;34m\u001b[0m\u001b[0;34m\u001b[0m\u001b[0m\n\u001b[0m",
            "\u001b[0;32m<ipython-input-23-adf3ec1bb083>\u001b[0m in \u001b[0;36m__next__\u001b[0;34m(self)\u001b[0m\n\u001b[1;32m     11\u001b[0m     \u001b[0;32mdef\u001b[0m \u001b[0m__next__\u001b[0m\u001b[0;34m(\u001b[0m\u001b[0mself\u001b[0m\u001b[0;34m)\u001b[0m\u001b[0;34m:\u001b[0m\u001b[0;34m\u001b[0m\u001b[0;34m\u001b[0m\u001b[0m\n\u001b[1;32m     12\u001b[0m         \u001b[0;32mif\u001b[0m \u001b[0mself\u001b[0m\u001b[0;34m.\u001b[0m\u001b[0mcurrent\u001b[0m \u001b[0;34m>=\u001b[0m \u001b[0mself\u001b[0m\u001b[0;34m.\u001b[0m\u001b[0mend\u001b[0m\u001b[0;34m:\u001b[0m\u001b[0;34m\u001b[0m\u001b[0;34m\u001b[0m\u001b[0m\n\u001b[0;32m---> 13\u001b[0;31m             \u001b[0;32mraise\u001b[0m \u001b[0mStopIteration\u001b[0m\u001b[0;34m\u001b[0m\u001b[0;34m\u001b[0m\u001b[0m\n\u001b[0m\u001b[1;32m     14\u001b[0m         \u001b[0mvalue\u001b[0m \u001b[0;34m=\u001b[0m \u001b[0mself\u001b[0m\u001b[0;34m.\u001b[0m\u001b[0mcurrent\u001b[0m\u001b[0;34m\u001b[0m\u001b[0;34m\u001b[0m\u001b[0m\n\u001b[1;32m     15\u001b[0m         \u001b[0mself\u001b[0m\u001b[0;34m.\u001b[0m\u001b[0mcurrent\u001b[0m \u001b[0;34m+=\u001b[0m \u001b[0;36m1\u001b[0m\u001b[0;34m\u001b[0m\u001b[0;34m\u001b[0m\u001b[0m\n",
            "\u001b[0;31mStopIteration\u001b[0m: "
          ]
        }
      ],
      "source": [
        "#This line is going to give an error because there are no numbers in the range.\n",
        "print(next(myIterator))"
      ]
    },
    {
      "cell_type": "markdown",
      "id": "e9546320-9c56-4f98-8b11-6ce59a53fdcd",
      "metadata": {
        "id": "e9546320-9c56-4f98-8b11-6ce59a53fdcd"
      },
      "source": [
        "In order to convert an object to an iterator, it must be an iterable object. There are several methods to do this, such as defining a custom function or using a library, etc. Let us define a custom function and check some data types to see if they are iterable or not."
      ]
    },
    {
      "cell_type": "code",
      "execution_count": null,
      "id": "726f3c41-0c58-4de2-a2a0-7b686218d35a",
      "metadata": {
        "colab": {
          "base_uri": "https://localhost:8080/"
        },
        "id": "726f3c41-0c58-4de2-a2a0-7b686218d35a",
        "outputId": "266fc6df-ee6b-4576-9e8d-d7113c00bf48"
      },
      "outputs": [
        {
          "output_type": "stream",
          "name": "stdout",
          "text": [
            "True\n",
            "True\n",
            "True\n",
            "False\n",
            "True\n",
            "False\n"
          ]
        }
      ],
      "source": [
        "def is_itreable(object):\n",
        "    try:\n",
        "        iter(object)\n",
        "        return True\n",
        "    except TypeError:\n",
        "        return False\n",
        "\n",
        "test_data= [[1,2,3,4],\"This is a test\", (3,5,7),123,{\"name\":\"Ali\"}, 34.7]\n",
        "for data in test_data:\n",
        "    print(is_itreable(data))"
      ]
    },
    {
      "cell_type": "markdown",
      "id": "5a32fbb9-470a-4cc1-b81f-886a07b217b8",
      "metadata": {
        "id": "5a32fbb9-470a-4cc1-b81f-886a07b217b8"
      },
      "source": [
        "We can write the custom function using the Iterable library more efficiently."
      ]
    },
    {
      "cell_type": "code",
      "execution_count": null,
      "id": "ffd45b63-62ef-4efe-983b-9f0787a10816",
      "metadata": {
        "colab": {
          "base_uri": "https://localhost:8080/"
        },
        "id": "ffd45b63-62ef-4efe-983b-9f0787a10816",
        "outputId": "a60596b1-2318-4ba7-fe02-7d99d297c468"
      },
      "outputs": [
        {
          "output_type": "stream",
          "name": "stdout",
          "text": [
            "True\n",
            "True\n",
            "True\n",
            "False\n",
            "True\n",
            "False\n"
          ]
        }
      ],
      "source": [
        "from collections.abc import Iterable\n",
        "def is_iteable(object):\n",
        "    return (object, Iterable)\n",
        "\n",
        "for data in test_data:\n",
        "    print(is_itreable(data))"
      ]
    },
    {
      "cell_type": "markdown",
      "id": "a1d1dcd3-f382-4d92-a4d2-e9f5234dbb4a",
      "metadata": {
        "id": "a1d1dcd3-f382-4d92-a4d2-e9f5234dbb4a"
      },
      "source": [
        "As a result, we get the same outcome. Except for integers and float numbers, the rest of the data in the list are iterable."
      ]
    },
    {
      "cell_type": "markdown",
      "id": "0501ea43-241c-431f-a017-a621f73c52ef",
      "metadata": {
        "id": "0501ea43-241c-431f-a017-a621f73c52ef"
      },
      "source": [
        "## Chapter 23.3 Generators\n",
        "**Generator** is another way of creating iterators in a simple way where it uses the keyword **yield** instead of returning it in a defined function. Generators are implemented using a function. Just as iterators, generators also follow lazy evaluation. Here, the **yield** function returns the data without affecting or exiting the function. It will return a sequence of data in an iterable format where we need to iterate over the sequence to use the data as they won’t store the entire sequence in the memory.\n",
        "\n",
        "### The yield keyword\n",
        "In Python, the yield keyword is used in a function to turn it into a **generator**. A generator is a type of iterable, like a list, but instead of storing all the items in memory at once, it generates items one at a time as you iterate through them.\n",
        "\n",
        "Here’s how it works:\n",
        "\n",
        "1. **Suspends the Function**: When a function contains **yield**, it behaves differently from a regular function. When **yield** is called, it **suspends** the function’s execution and sends the value back to the caller, but it keeps the function’s state. The next time the generator is called, execution resumes from where it left off.\n",
        "\n",
        "2. **Lazily Evaluates**: Unlike returning a list or any other collection where all elements are calculated upfront, **yield** generates items one at a time. This is especially useful for working with large data sets, as it only produces one item at a time, rather than creating a whole list in memory.\n",
        "\n",
        "3. **Creates an Iterator**: A function using **yield** automatically becomes an iterator. You can loop over the values generated by the **yield** keyword using a **for** loop or manually with **next()**.\n",
        "\n",
        "### Key Features of Generators\n",
        "* Memory Efficient: Generates values on demand, avoiding memory overload.\n",
        "* Stateful: Remembers its last execution position.\n",
        "* Lazy Execution: Produces values only when needed.\n",
        "* Automatic Iterators: No need to implement __ iter__() and __ next__() manually.\n",
        "\n",
        "The following example demonstrates how to create a generator that generates numbers between 1 and a given argument."
      ]
    },
    {
      "cell_type": "code",
      "execution_count": null,
      "id": "1f301c5c-a8b4-43ea-ae06-eab544fbbceb",
      "metadata": {
        "colab": {
          "base_uri": "https://localhost:8080/"
        },
        "id": "1f301c5c-a8b4-43ea-ae06-eab544fbbceb",
        "outputId": "e2356fa2-6c32-477a-b251-c9f2b9725161"
      },
      "outputs": [
        {
          "output_type": "stream",
          "name": "stdout",
          "text": [
            "['__class__', '__del__', '__delattr__', '__dir__', '__doc__', '__eq__', '__format__', '__ge__', '__getattribute__', '__getstate__', '__gt__', '__hash__', '__init__', '__init_subclass__', '__iter__', '__le__', '__lt__', '__name__', '__ne__', '__new__', '__next__', '__qualname__', '__reduce__', '__reduce_ex__', '__repr__', '__setattr__', '__sizeof__', '__str__', '__subclasshook__', 'close', 'gi_code', 'gi_frame', 'gi_running', 'gi_suspended', 'gi_yieldfrom', 'send', 'throw']\n"
          ]
        }
      ],
      "source": [
        "def gen_numbers(number):\n",
        "    for num in range(1,number):\n",
        "        yield num\n",
        "number = gen_numbers(4)\n",
        "print(dir(number))"
      ]
    },
    {
      "cell_type": "markdown",
      "id": "7fbf6444-fdf6-4550-b954-5c1f6147179b",
      "metadata": {
        "id": "7fbf6444-fdf6-4550-b954-5c1f6147179b"
      },
      "source": [
        "As a result, the number object has the __ iter__() and __ next__() methods. Therefore, the number object is an iterator."
      ]
    },
    {
      "cell_type": "code",
      "execution_count": null,
      "id": "fe04f98e-8cd6-4ae2-8647-510bf059140b",
      "metadata": {
        "colab": {
          "base_uri": "https://localhost:8080/"
        },
        "id": "fe04f98e-8cd6-4ae2-8647-510bf059140b",
        "outputId": "8f61fa53-ffe9-4261-90ab-81c457040538"
      },
      "outputs": [
        {
          "output_type": "stream",
          "name": "stdout",
          "text": [
            "1\n",
            "2\n",
            "3\n"
          ]
        }
      ],
      "source": [
        "print(next(number))\n",
        "print(next(number))\n",
        "print(next(number))"
      ]
    },
    {
      "cell_type": "code",
      "execution_count": null,
      "id": "16ead430-b4e1-4ef0-8f72-d65379b29fc6",
      "metadata": {
        "colab": {
          "base_uri": "https://localhost:8080/",
          "height": 158
        },
        "id": "16ead430-b4e1-4ef0-8f72-d65379b29fc6",
        "outputId": "51990859-9709-4db7-f6af-f5f70da79aee"
      },
      "outputs": [
        {
          "output_type": "error",
          "ename": "StopIteration",
          "evalue": "",
          "traceback": [
            "\u001b[0;31m---------------------------------------------------------------------------\u001b[0m",
            "\u001b[0;31mStopIteration\u001b[0m                             Traceback (most recent call last)",
            "\u001b[0;32m<ipython-input-31-d21882a965a5>\u001b[0m in \u001b[0;36m<cell line: 0>\u001b[0;34m()\u001b[0m\n\u001b[1;32m      1\u001b[0m \u001b[0;31m# This line gives an error because there are no next numbers and it raises a StopIteration error.\u001b[0m\u001b[0;34m\u001b[0m\u001b[0;34m\u001b[0m\u001b[0m\n\u001b[0;32m----> 2\u001b[0;31m \u001b[0mprint\u001b[0m\u001b[0;34m(\u001b[0m\u001b[0mnext\u001b[0m\u001b[0;34m(\u001b[0m\u001b[0mnumber\u001b[0m\u001b[0;34m)\u001b[0m\u001b[0;34m)\u001b[0m\u001b[0;34m\u001b[0m\u001b[0;34m\u001b[0m\u001b[0m\n\u001b[0m",
            "\u001b[0;31mStopIteration\u001b[0m: "
          ]
        }
      ],
      "source": [
        "# This line gives an error because there are no next numbers and it raises a StopIteration error.\n",
        "print(next(number))"
      ]
    },
    {
      "cell_type": "markdown",
      "id": "1d5f2859-2be8-44fc-ae41-20fa256d95b7",
      "metadata": {
        "id": "1d5f2859-2be8-44fc-ae41-20fa256d95b7"
      },
      "source": [
        "Because a generator is an iterator, we can access its elements with a loop."
      ]
    },
    {
      "cell_type": "code",
      "execution_count": null,
      "id": "e1987165-ad48-4cb6-b09b-42f9d2d02989",
      "metadata": {
        "colab": {
          "base_uri": "https://localhost:8080/"
        },
        "id": "e1987165-ad48-4cb6-b09b-42f9d2d02989",
        "outputId": "30514f40-7b69-46f0-e869-c91c5b84f85c"
      },
      "outputs": [
        {
          "output_type": "stream",
          "name": "stdout",
          "text": [
            "1\n",
            "2\n",
            "3\n",
            "4\n",
            "5\n",
            "6\n",
            "7\n",
            "8\n",
            "9\n"
          ]
        }
      ],
      "source": [
        "for i in gen_numbers(10):\n",
        "    print(i)"
      ]
    },
    {
      "cell_type": "markdown",
      "id": "880e4c7e-682c-4078-af84-ed06b1199da8",
      "metadata": {
        "id": "880e4c7e-682c-4078-af84-ed06b1199da8"
      },
      "source": [
        "### Difference Among Iterator, Iterable, and Generator in Python\n",
        "\n",
        "\n",
        "\n",
        "\n",
        "|Feature|Iterable|Iterator|Generator|\n",
        "|------|------|------|---|\n",
        "|Definition     | An object that contains multiple elements and can be looped over.|An object that produces one element at a time from an iterable.|A special type of iterator that yields values lazily using **yield**.|\n",
        "|Required Methods    |Must implement __ iter__() which returns an iterator.     |Must implement both __ iter__() and __ next__().   |Uses **yield** inside a function instead of implementing __ iter__() and __ next__().|\n",
        "|Creation    |Lists, tuples, dictionaries, sets, and strings are iterable objects. |Created by calling iter(iterable). |Created using a function with **yield**.|\n",
        "|State Retention    |Does not retain iteration state.     |Retains the current position in the sequence.    |Automatically retains state between **yield** calls.|\n",
        "|Memory Usage    |Stores all elements in memory.\t     |Retrieves elements one by one but still requires storage of the iterable.|More memory-efficient as it generates values on **demand**.|\n",
        "|How to Access Elements?    |Using loops (e.g., for loops) or by converting into an iterator with iter().\t    |Using next(iterator).\t|Using next(generator).|\n",
        "|Stop Condition    |Not applicable.\t   |Raises StopIteration when no more elements are available.|Stops automatically when function execution completes.\n",
        "|\n",
        "|Examples    |[1, 2, 3], \"hello\", {1, 2, 3}    |iter([1, 2, 3])\t    |def my_gen(): **yield** 1; **yield** 2\n",
        "|\n",
        "|Can Be Iterated Multiple Times?   |Yes, can create new iterators every time.    |No, can only be iterated once unless recreated.    |No, can only be iterated once unless recreated.|"
      ]
    },
    {
      "cell_type": "markdown",
      "id": "252f1554-3820-41f0-87e0-980d3a2d3efd",
      "metadata": {
        "id": "252f1554-3820-41f0-87e0-980d3a2d3efd"
      },
      "source": [
        "### Exercise\n",
        "1. Write an iterator and generator that prints all uppercase letters between A and Z\n",
        "2. Write an iterator and generator that prints all even numbers between m and n (m<n)\n",
        "3. Write a generator that reads data from a **text** file. You have to create a text file first.   "
      ]
    },
    {
      "cell_type": "markdown",
      "id": "5ae10a02-4e47-4852-80b7-a3bd51bb79be",
      "metadata": {
        "id": "5ae10a02-4e47-4852-80b7-a3bd51bb79be"
      },
      "source": [
        "## Chapter 23.4 Closures\n",
        "A closure is a powerful concept that allows a function to remember and access variables from its lexical scope, even when the function is executed outside that scope. Closures are closely related to nested functions and are commonly used in functional programming, event handling and callbacks.\n",
        "\n",
        "A closure is created when a function (the inner function) is defined within another function (the outer function) and the inner function references variables from the outer function. Closures are useful when you need a function to retain state across multiple calls, without using global variables.\n",
        "Let us see the following example to understand this topic."
      ]
    },
    {
      "cell_type": "code",
      "execution_count": null,
      "id": "11428e7f-7f1e-4602-ac04-d1a668bc9981",
      "metadata": {
        "colab": {
          "base_uri": "https://localhost:8080/"
        },
        "id": "11428e7f-7f1e-4602-ac04-d1a668bc9981",
        "outputId": "1a4da7cd-892f-4834-ed70-babfd2c2aea2"
      },
      "outputs": [
        {
          "output_type": "stream",
          "name": "stdout",
          "text": [
            "20\n"
          ]
        }
      ],
      "source": [
        "def outer_function(x):\n",
        "\n",
        "    def inner_function(y):\n",
        "\n",
        "        return x * y  # 'x' is captured from the outer function\n",
        "\n",
        "    return inner_function  # Returning the inner function as a closure\n",
        "\n",
        "# Using the closure\n",
        "my_closure = outer_function(5)\n",
        "\n",
        "# Now, we can use the closure, which \"remembers\" the value of 'x' as 5\n",
        "print(my_closure(4))"
      ]
    },
    {
      "cell_type": "code",
      "execution_count": null,
      "id": "05827166-4df5-4c26-908b-af631df12679",
      "metadata": {
        "colab": {
          "base_uri": "https://localhost:8080/"
        },
        "id": "05827166-4df5-4c26-908b-af631df12679",
        "outputId": "0e9d9950-4d66-48d7-b528-5650e6ffaa68"
      },
      "outputs": [
        {
          "output_type": "stream",
          "name": "stdout",
          "text": [
            "50\n"
          ]
        }
      ],
      "source": [
        "print(my_closure(10))"
      ]
    },
    {
      "cell_type": "markdown",
      "id": "b379c309-d865-4562-b3f8-e86aae32e03f",
      "metadata": {
        "id": "b379c309-d865-4562-b3f8-e86aae32e03f"
      },
      "source": [
        "As a result, when the **outer_function** is terminated, we can call the closure with different values while the outer function remembers its value."
      ]
    },
    {
      "cell_type": "markdown",
      "id": "9702700a-c4a4-4726-9cef-b8d5aecc4563",
      "metadata": {
        "id": "9702700a-c4a4-4726-9cef-b8d5aecc4563"
      },
      "source": [
        "### How Closures Work Internally?\n",
        "When a closure is created, Python internally stores a reference to the environment (variables in the enclosing scope) where the closure was defined. This allows the inner function to access those variables even after the outer function has completed.\n",
        "\n",
        "In simple terms, a closure “captures” the values from its surrounding scope and retains them for later use. This is what allows closures to remember values from their environment.\n",
        "### Use of Closures\n",
        "\n",
        "* **Encapsulation**: Closures help encapsulate functionality. The inner function can access variables from the outer function, but those variables remain hidden from the outside world.\n",
        "* **State Retention**: Closures can retain state across multiple function calls. This is especially useful in situations like counters, accumulators, or when you want to create a function factory that generates functions with different behaviors.\n",
        "* **Functional** Programming: Closures are a core feature of functional programming. They allow you to create more flexible and modular code by generating new behavior dynamical.\n",
        "\n",
        "### Pratical Example: Simple calculator"
      ]
    },
    {
      "cell_type": "code",
      "execution_count": null,
      "id": "d132385d-c39e-45ed-8a79-a6946c4d5831",
      "metadata": {
        "colab": {
          "base_uri": "https://localhost:8080/"
        },
        "id": "d132385d-c39e-45ed-8a79-a6946c4d5831",
        "outputId": "ab4f96f5-4664-423d-aa87-6a40e97ab9ab"
      },
      "outputs": [
        {
          "output_type": "stream",
          "name": "stdout",
          "text": [
            "60\n",
            "13\n"
          ]
        }
      ],
      "source": [
        "def calculate(x,y):\n",
        "    def my_calculate(z):\n",
        "        return x+y+x if z > x else x*y*z\n",
        "    return my_calculate\n",
        "\n",
        "\n",
        "my_closure = calculate(4,5)  # Creates a closure that takes two arguments and remembers them\n",
        "print(my_closure(3))  # Output: 60\n",
        "print(my_closure(5))  # Output: 13\n"
      ]
    },
    {
      "cell_type": "markdown",
      "id": "e925b26c-b41a-417c-85de-cb050e213a22",
      "metadata": {
        "id": "e925b26c-b41a-417c-85de-cb050e213a22"
      },
      "source": [
        "### Checking Closure Variables\n",
        "You can inspect the stored variables inside a closure using the __closure__ attribute."
      ]
    },
    {
      "cell_type": "code",
      "execution_count": null,
      "id": "88562db8-9359-42b5-b537-f73b5a807dd8",
      "metadata": {
        "colab": {
          "base_uri": "https://localhost:8080/"
        },
        "id": "88562db8-9359-42b5-b537-f73b5a807dd8",
        "outputId": "4493cb70-565a-420f-d8ac-66e20f4a4bc9"
      },
      "outputs": [
        {
          "output_type": "stream",
          "name": "stdout",
          "text": [
            "4\n",
            "5\n"
          ]
        }
      ],
      "source": [
        "print(my_closure.__closure__[0].cell_contents)  # Output: 4\n",
        "print(my_closure.__closure__[1].cell_contents)  # Output: 5\n"
      ]
    },
    {
      "cell_type": "markdown",
      "id": "4e1a813b-367c-463d-a8e8-5f7dfe2aa9ce",
      "metadata": {
        "id": "4e1a813b-367c-463d-a8e8-5f7dfe2aa9ce"
      },
      "source": [
        " ## Chapter 23.5 Decorators"
      ]
    },
    {
      "cell_type": "markdown",
      "id": "f03b4681-dc0e-4384-8e63-cf41ced17019",
      "metadata": {
        "id": "f03b4681-dc0e-4384-8e63-cf41ced17019"
      },
      "source": [
        "A decorator is a design pattern tool in Python for wrapping code around functions or classes (defined blocks). This design pattern allows a programmer to add new functionality to existing functions or classes without modifying the existing structure.\n",
        "\n",
        "Decorators are often used in scenarios such as logging, authentication and memorization, allowing us to add additional functionality to existing functions or methods in a clean, reusable way.\n",
        "\n",
        "Let us see the following example to understand decorator in detail."
      ]
    },
    {
      "cell_type": "code",
      "execution_count": null,
      "id": "69ab73cf-1f79-44de-9dc8-759d608e54ff",
      "metadata": {
        "id": "69ab73cf-1f79-44de-9dc8-759d608e54ff"
      },
      "outputs": [],
      "source": [
        "# A simple decorator function\n",
        "def myDecorator(myMessage):\n",
        "\n",
        "    def message():\n",
        "        print(\"Before the message.\")\n",
        "        myMessage() # given as a parameter\n",
        "        print(\"After the message.\")\n",
        "    return message\n"
      ]
    },
    {
      "cell_type": "code",
      "execution_count": null,
      "id": "7c7f70be-1587-44ef-b294-fd38a406dc68",
      "metadata": {
        "colab": {
          "base_uri": "https://localhost:8080/"
        },
        "id": "7c7f70be-1587-44ef-b294-fd38a406dc68",
        "outputId": "b172de9d-ecb1-47f4-a67b-e5e0b40f7d7f"
      },
      "outputs": [
        {
          "output_type": "stream",
          "name": "stdout",
          "text": [
            "Before the message.\n",
            "Hello, World!\n",
            "After the message.\n"
          ]
        }
      ],
      "source": [
        "\n",
        "# Applying the decorator to a function\n",
        "@myDecorator\n",
        "\n",
        "def greet():\n",
        "    print(\"Hello, World!\")\n",
        "\n",
        "greet()"
      ]
    },
    {
      "cell_type": "markdown",
      "id": "1087828f-abb0-4a38-ba78-8bbe96dc69b0",
      "metadata": {
        "id": "1087828f-abb0-4a38-ba78-8bbe96dc69b0"
      },
      "source": [
        "In this example, **MyDecorator** includes an inner function, **message()**, as a wrapper function. The inner function works as a wrapper function. This wrapper function may have common properties for the whole project. If we need to add a specific property, we can add it with a function and submit it with a function. In this example, **myMessage** is a function and is submitted as an argument. If needed, we can submit a different function without changing the original **MyDecorator** function.\n",
        "\n",
        "For example:"
      ]
    },
    {
      "cell_type": "code",
      "execution_count": null,
      "id": "ac1f2803-4073-4382-a3ef-d29db4ab2d2d",
      "metadata": {
        "colab": {
          "base_uri": "https://localhost:8080/"
        },
        "id": "ac1f2803-4073-4382-a3ef-d29db4ab2d2d",
        "outputId": "9cf8e693-fa19-469b-a2eb-976c0f48d8be"
      },
      "outputs": [
        {
          "output_type": "stream",
          "name": "stdout",
          "text": [
            "Before the message.\n",
            "Hello, foo!\n",
            "After the message.\n"
          ]
        }
      ],
      "source": [
        "@myDecorator\n",
        "\n",
        "def foo():\n",
        "    print(\"Hello, foo!\")\n",
        "\n",
        "foo()"
      ]
    },
    {
      "cell_type": "code",
      "execution_count": null,
      "id": "6e7c33ca-2933-4743-8301-cdb3a458aab6",
      "metadata": {
        "colab": {
          "base_uri": "https://localhost:8080/"
        },
        "id": "6e7c33ca-2933-4743-8301-cdb3a458aab6",
        "outputId": "284a8df3-5542-4503-d989-d5cc42ebbf60"
      },
      "outputs": [
        {
          "output_type": "stream",
          "name": "stdout",
          "text": [
            "Before the message.\n",
            "Hello, fooo!\n",
            "After the message.\n"
          ]
        }
      ],
      "source": [
        "@myDecorator\n",
        "\n",
        "def fooo():\n",
        "    print(\"Hello, fooo!\")\n",
        "\n",
        "fooo()"
      ]
    },
    {
      "cell_type": "markdown",
      "id": "2d761eec-0dda-4234-b021-0eaec08b479a",
      "metadata": {
        "id": "2d761eec-0dda-4234-b021-0eaec08b479a"
      },
      "source": [
        "When we call the wrapper function with different functions such as **greet**, **foo**, and **fooo**, the outer function always has the same output, except for the specific message related to each function."
      ]
    },
    {
      "cell_type": "markdown",
      "id": "860485a3-a728-4ec1-91e2-24f58e9f1ea3",
      "metadata": {
        "id": "860485a3-a728-4ec1-91e2-24f58e9f1ea3"
      },
      "source": [
        "### Decorators With Parameters\n",
        "Decorators can take parameters of simple data types and object types. For example, they can take int, float, string, list, dictionary, etc. Let us define a decorator that takestwo integer numbers."
      ]
    },
    {
      "cell_type": "code",
      "execution_count": null,
      "id": "d0036fdd-3c42-4de6-9a5b-ed0b2043a7f2",
      "metadata": {
        "colab": {
          "base_uri": "https://localhost:8080/"
        },
        "id": "d0036fdd-3c42-4de6-9a5b-ed0b2043a7f2",
        "outputId": "cad676d0-cb24-4b5e-d4de-4d5c9d77d82c"
      },
      "outputs": [
        {
          "output_type": "stream",
          "name": "stdout",
          "text": [
            "5\n"
          ]
        }
      ],
      "source": [
        "def decorator_calculate(calculator):\n",
        "    def my_wrapper(x,y):\n",
        "        result=calculator(x,y)\n",
        "        return result\n",
        "    return my_wrapper\n",
        "\n",
        "@decorator_calculate\n",
        "def add(x,y):\n",
        "    print(x+y)\n",
        "\n",
        "add(2,3)"
      ]
    },
    {
      "cell_type": "code",
      "execution_count": null,
      "id": "31c3b3bd-8a4e-4d0b-8ba5-47b8dc6142a3",
      "metadata": {
        "colab": {
          "base_uri": "https://localhost:8080/"
        },
        "id": "31c3b3bd-8a4e-4d0b-8ba5-47b8dc6142a3",
        "outputId": "2e508b1b-eab2-4374-e734-036f0fcbc064"
      },
      "outputs": [
        {
          "output_type": "stream",
          "name": "stdout",
          "text": [
            "6\n"
          ]
        }
      ],
      "source": [
        "\n",
        "@decorator_calculate\n",
        "def mul(x,y):\n",
        "    print(x*y)\n",
        "\n",
        "mul(2,3)"
      ]
    },
    {
      "cell_type": "markdown",
      "id": "6e5cb947-68f9-4a27-a8b6-a242a28a9483",
      "metadata": {
        "id": "6e5cb947-68f9-4a27-a8b6-a242a28a9483"
      },
      "source": [
        "This example shows that even though we have submitted different functions, such as **add** and **mul**, to the decorator, it works properly without changing the decorator. In general, decorators have the following syntax to get parameters.\n",
        "\n",
        "### Syntax of Decorator Parameters\n"
      ]
    },
    {
      "cell_type": "code",
      "execution_count": null,
      "id": "979cf453-c953-489f-b797-0f65efcc5253",
      "metadata": {
        "id": "979cf453-c953-489f-b797-0f65efcc5253"
      },
      "outputs": [],
      "source": [
        "def decorator_name(func):\n",
        "    def wrapper(*args, **kwargs):\n",
        "        # Add functionality before the original function call\n",
        "        result = func(*args, **kwargs)\n",
        "        # Add functionality after the original function call\n",
        "        return result\n",
        "    return wrapper\n"
      ]
    },
    {
      "cell_type": "markdown",
      "id": "678d6ff8-680f-443a-a217-64270c4e8015",
      "metadata": {
        "id": "678d6ff8-680f-443a-a217-64270c4e8015"
      },
      "source": [
        "### Syntax of Decorator Parameters\n",
        "1. wrapper: This is a nested function inside the decorator. It wraps the original function, adding additional functionality.\n",
        "2. *args: This collects any positional arguments passed to the decorated function into a tuple.\n",
        "3. **kwargs: This collects any keyword arguments passed to the decorated function into a dictionary.\n",
        "4. the wrapper function allows the decorator to handle functions with any number and types of arguments.\n",
        "\n",
        "Let us write the previous example using the star argumen."
      ]
    },
    {
      "cell_type": "code",
      "execution_count": null,
      "id": "21469f92-63c0-4232-89c9-62dece7b592a",
      "metadata": {
        "colab": {
          "base_uri": "https://localhost:8080/"
        },
        "id": "21469f92-63c0-4232-89c9-62dece7b592a",
        "outputId": "777a03fb-f7b4-4f7c-c79b-a5c20b2f02e5"
      },
      "outputs": [
        {
          "output_type": "stream",
          "name": "stdout",
          "text": [
            "The result of add is: 5\n",
            "The result of multiplication is:24\n",
            "\n"
          ]
        }
      ],
      "source": [
        "def decorator_calculate(calculator):\n",
        "    def my_wrapper(*args, **kwargs):\n",
        "        result=calculator(*args, **kwargs)\n",
        "        return result\n",
        "    return my_wrapper\n",
        "\n",
        "@decorator_calculate\n",
        "def add(x,y): #takes two variables\n",
        "    print(x+y)\n",
        "\n",
        "print(\"The result of add is:\",end=\" \")\n",
        "add(2,3)\n",
        "\n",
        "@decorator_calculate\n",
        "def mul(x,y,z): #takes three variables\n",
        "    print(x*y*z)\n",
        "\n",
        "print(\"The result of multiplication is:\",end = \"\")\n",
        "mul(2,3,4)\n",
        "print()\n"
      ]
    },
    {
      "cell_type": "code",
      "execution_count": null,
      "id": "186a2c1f-6751-4f82-9b64-9a8275d50bf3",
      "metadata": {
        "colab": {
          "base_uri": "https://localhost:8080/"
        },
        "id": "186a2c1f-6751-4f82-9b64-9a8275d50bf3",
        "outputId": "89888d38-0af6-48b9-ea51-594bec9e417e"
      },
      "outputs": [
        {
          "output_type": "stream",
          "name": "stdout",
          "text": [
            "15\n"
          ]
        }
      ],
      "source": [
        "@decorator_calculate\n",
        "def total(*args,**y):\n",
        "\n",
        "    print(sum(args))\n",
        "\n",
        "total(1,2,3,4,5) # submitted a tuple of numbers"
      ]
    },
    {
      "cell_type": "markdown",
      "id": "6d5db40b-c568-49e0-97b1-aaaa50c73c66",
      "metadata": {
        "id": "6d5db40b-c568-49e0-97b1-aaaa50c73c66"
      },
      "source": [
        "Let us see one more example and try to understand how to handle conditions in an inner function of a decorator.\n"
      ]
    },
    {
      "cell_type": "code",
      "execution_count": null,
      "id": "96007cbd-4886-4f84-97de-eec552246035",
      "metadata": {
        "colab": {
          "base_uri": "https://localhost:8080/"
        },
        "id": "96007cbd-4886-4f84-97de-eec552246035",
        "outputId": "f53972f4-d0be-449e-ea36-f601fe50fb1b"
      },
      "outputs": [
        {
          "output_type": "stream",
          "name": "stdout",
          "text": [
            "I am going to take square root of  4\n",
            "2.0\n",
            "I am going to take square root of  -4\n",
            "Negative number!, please input a positive number...\n"
          ]
        }
      ],
      "source": [
        "import math #import the math library\n",
        "\n",
        "def squareRoot(func):\n",
        "    def inner(a):\n",
        "        print(\"I am going to take square root of \", a)\n",
        "        if a < 0:\n",
        "            print(\"Negative number!, please input a positive number...\")\n",
        "            return\n",
        "\n",
        "        return func(a)\n",
        "    return inner\n",
        "\n",
        "@squareRoot\n",
        "def myRoot(a):\n",
        "    print(math.sqrt(a))\n",
        "\n",
        "myRoot(4)\n",
        "\n",
        "myRoot(-4)"
      ]
    },
    {
      "cell_type": "markdown",
      "id": "72ae1e3e-3591-417c-9428-e3382406a101",
      "metadata": {
        "id": "72ae1e3e-3591-417c-9428-e3382406a101"
      },
      "source": [
        "### Higher-Order Functions and Decorators\n",
        "Higher-order functions are functions that take one or more functions as arguments, return a function as a result or do both. Essentially, a higher-order function is a function that operates on other functions. This is a powerful concept in functional programming and is a key component in understanding how decorators work.\n",
        "For example, in example three, the \"decorator_calculate\" is a higher-order function that takes the \"calculator\" function as a parameter and returns the new function, \"my_wrapper\",  as a result.  \n",
        "Decorators in Python are a type of higher-order function because they take a function as input, modify it, and return a new function that extends or changes its behavior. Understanding higher-order functions is essential for working with decorators since decorators are essentially functions that return other functions.\n",
        "\n",
        "### Types of Decorators\n",
        "#### 1. Function Decorators\n",
        "\n",
        "The most common type of decorator, which takes a function as input and returns a new function. The example above demonstrates this type. All examples from 1 to 4 that explained above are related to function decorators.\n",
        "#### 2. Method Decorators\n",
        "\n",
        "Used to decorate methods within a class. They often handle special cases, such as the self argument for instance methods.\n",
        "\n",
        "Let us see the following example to understand the method decorator.\n"
      ]
    },
    {
      "cell_type": "code",
      "execution_count": null,
      "id": "1336b04d-28f0-45ab-a091-d48dc3a6491b",
      "metadata": {
        "colab": {
          "base_uri": "https://localhost:8080/"
        },
        "id": "1336b04d-28f0-45ab-a091-d48dc3a6491b",
        "outputId": "3c3b6d9c-2deb-4265-b4ba-dad4d45f75b2"
      },
      "outputs": [
        {
          "output_type": "stream",
          "name": "stdout",
          "text": [
            "Before method execution\n",
            "Hello!\n",
            "After method execution\n"
          ]
        }
      ],
      "source": [
        "def method_decorator(func):\n",
        "    def wrapper(self, *args, **kwargs):\n",
        "        print(\"Before method execution\")\n",
        "        res = func(self, *args, **kwargs)\n",
        "        print(\"After method execution\")\n",
        "        return res\n",
        "    return wrapper\n",
        "\n",
        "class MyClass:\n",
        "    @method_decorator\n",
        "    def say_hello(self):\n",
        "        print(\"Hello!\")\n",
        "\n",
        "obj = MyClass()\n",
        "obj.say_hello()"
      ]
    },
    {
      "cell_type": "markdown",
      "id": "ecd9845c-0e0e-4dd0-ac7b-14291b1701b6",
      "metadata": {
        "id": "ecd9845c-0e0e-4dd0-ac7b-14291b1701b6"
      },
      "source": [
        "The defining procedures of the method decorator is similar to defining function decorator. The difference is, to access a method, we must create an object.\n",
        "#### 3. Class Decorators\n",
        "Class decorators are used to modify or enhance the behavior of a class. Like function decorators, class decorators are applied to the class definition. They work by taking the class as an argument and returning a modified version of the class.\n",
        "\n",
        "Let us see the following example to understand the method decorator.\n"
      ]
    },
    {
      "cell_type": "code",
      "execution_count": null,
      "id": "fcfb9ea9-b042-4c8d-969e-6378932a3068",
      "metadata": {
        "colab": {
          "base_uri": "https://localhost:8080/"
        },
        "id": "fcfb9ea9-b042-4c8d-969e-6378932a3068",
        "outputId": "c26e920d-1d14-4027-886f-3e3ab02b86ca"
      },
      "outputs": [
        {
          "output_type": "stream",
          "name": "stdout",
          "text": [
            "Person\n"
          ]
        }
      ],
      "source": [
        "def myFunction(myClass):\n",
        "    myClass.class_name = myClass.__name__\n",
        "    return myClass\n",
        "\n",
        "@myFunction\n",
        "class Person:\n",
        "    pass\n",
        "\n",
        "print(Person.class_name)"
      ]
    },
    {
      "cell_type": "markdown",
      "id": "0262a6c5-2301-48f8-99d8-aa03f1704dc4",
      "metadata": {
        "id": "0262a6c5-2301-48f8-99d8-aa03f1704dc4"
      },
      "source": [
        "#### Explanation\n",
        "* add_class_name(MyClass): This decorator adds a new attribute, class_name, to the class MyClass. The value of class_name is set to the name of the class (myClass.__name__).\n",
        "* @add_class_name: This applies the add_class_name decorator to the Person class.\n",
        "* result: When the Person class is defined, the decorator automatically adds the class_name attribute to it.\n",
        "* print(Person.class_name): Accessing the class_name attribute that was added by the decorator prints the name of the class, Person.\n",
        "\n",
        "### Common Built-in Decorators\n",
        "Python provides several built-in decorators that are commonly used in class definitions. These decorators modify the behavior of methods and attributes in a class, making it easier to manage and use them effectively. The most frequently used built-in decorators are @staticmethod, @classmethod, and @property.\n",
        "\n",
        "#### @staticmethod\n",
        "The @staticmethod decorator is used to define a method that doesn’t operate on an instance of the class (i.e., it doesn’t use self). Static methods are called on the class itself, not on an instance of the class.\n",
        "\n",
        "Let us see the following example to understand the static method decorator.\n"
      ]
    },
    {
      "cell_type": "code",
      "execution_count": null,
      "id": "4b59fc56-db11-4c0e-aee8-8a81bc98f142",
      "metadata": {
        "colab": {
          "base_uri": "https://localhost:8080/"
        },
        "id": "4b59fc56-db11-4c0e-aee8-8a81bc98f142",
        "outputId": "ca7f5e6d-5371-43aa-f8cc-073e85306908"
      },
      "outputs": [
        {
          "output_type": "stream",
          "name": "stdout",
          "text": [
            "2\n"
          ]
        }
      ],
      "source": [
        "class TestStaticOperations:\n",
        "    @staticmethod\n",
        "    def subtract(x, y):\n",
        "        return x - y\n",
        "\n",
        "# Using the static method\n",
        "res = TestStaticOperations.subtract(5, 3)\n",
        "print(res)"
      ]
    },
    {
      "cell_type": "markdown",
      "id": "3e471184-1255-41bd-b968-cc0b5fcdb5f0",
      "metadata": {
        "id": "3e471184-1255-41bd-b968-cc0b5fcdb5f0"
      },
      "source": [
        "#### @classmethod\n",
        "The @staticmethod decorator is used to define a method that doesn’t operate on an instance of the class (i.e., it doesn’t use self). Static methods are called on the class itself, not on an instance of the class.\n",
        "\n",
        "Let us see the following example to understand the class method decorator.\n"
      ]
    },
    {
      "cell_type": "code",
      "execution_count": null,
      "id": "7321ed16-7e0e-4245-8b7b-9e948a2435ea",
      "metadata": {
        "colab": {
          "base_uri": "https://localhost:8080/"
        },
        "id": "7321ed16-7e0e-4245-8b7b-9e948a2435ea",
        "outputId": "54543bbe-6011-45bf-dab7-bcf6d19347da"
      },
      "outputs": [
        {
          "output_type": "stream",
          "name": "stdout",
          "text": [
            "2.15\n"
          ]
        }
      ],
      "source": [
        "class Book:\n",
        "    raise_amount = 1.05\n",
        "\n",
        "    def __init__(self, title, price):\n",
        "        self.title = title\n",
        "        self.price = price\n",
        "\n",
        "    @classmethod\n",
        "    def set_raise_amount(cls, amount):\n",
        "        cls.raise_amount = amount\n",
        "\n",
        "# Using the class method\n",
        "Book.set_raise_amount(2.15)\n",
        "print(Book.raise_amount)"
      ]
    },
    {
      "cell_type": "markdown",
      "id": "87012a27-d11a-43a6-97e0-b183f851e14b",
      "metadata": {
        "id": "87012a27-d11a-43a6-97e0-b183f851e14b"
      },
      "source": [
        "#### Explaination\n",
        "* set_raise_amount is a class method defined with the @classmethod decorator.\n",
        "* It can modify the class variable raise_amount for the class Employee and all its instances.\n",
        "\n",
        "#### @property\n",
        "The @property decorator is used to define a method as a property, which allows you to access it like an attribute. This is useful for encapsulating the implementation of a method while still providing a simple interface.\n",
        "\n",
        "Let us see the following example to understand the property decorator."
      ]
    },
    {
      "cell_type": "code",
      "execution_count": null,
      "id": "df108fa1-67be-4f9c-a1e5-319b41fdb525",
      "metadata": {
        "colab": {
          "base_uri": "https://localhost:8080/"
        },
        "id": "df108fa1-67be-4f9c-a1e5-319b41fdb525",
        "outputId": "54b1b9cf-307f-4cbd-db31-e62817d7a201"
      },
      "outputs": [
        {
          "output_type": "stream",
          "name": "stdout",
          "text": [
            "5\n",
            "25\n",
            "100\n"
          ]
        }
      ],
      "source": [
        "class Square:\n",
        "    def __init__(self, side):\n",
        "        self._side = side\n",
        "\n",
        "    @property\n",
        "    def side(self):\n",
        "        return self._side\n",
        "\n",
        "    @side.setter\n",
        "    def side(self, value):\n",
        "        if value >= 0:\n",
        "            self._side = value\n",
        "        else:\n",
        "            raise ValueError(\"side cannot be negative\")\n",
        "\n",
        "    @property\n",
        "    def area(self):\n",
        "        return self._side ** 2\n",
        "\n",
        "# Using the property\n",
        "s = Square(5)\n",
        "print(s.side)\n",
        "print(s.area)\n",
        "s.side = 10\n",
        "print(s.area)"
      ]
    },
    {
      "cell_type": "markdown",
      "id": "226f90e6-2e35-4cfe-9f5c-d8912ee3b6fd",
      "metadata": {
        "id": "226f90e6-2e35-4cfe-9f5c-d8912ee3b6fd"
      },
      "source": [
        "#### Explaination\n",
        "* **side** and **area** are properties defined with the @property decorator.\n",
        "* The **side** property also has a setter method to allow modification with validation.\n",
        "* These properties provide a way to access and modify private attributes while maintaining encapsulation.\n",
        "\n",
        "### Chaining Decorators\n",
        " Chaining decorators means applying more than one decorator inside a function. Python allows us to implement more than one decorator to a function. It makes decorators useful for reusable building blocks as it accumulates several effects together. It is also known as nested decorators in Python. In chaining decorators, firstly the inner decorator will work and then the outer decorator.\n",
        "\n",
        "Let us see the following example to understand the chaining decorator."
      ]
    },
    {
      "cell_type": "code",
      "execution_count": null,
      "id": "a5cc76ac-73ce-4358-a295-6319b790dad7",
      "metadata": {
        "colab": {
          "base_uri": "https://localhost:8080/"
        },
        "id": "a5cc76ac-73ce-4358-a295-6319b790dad7",
        "outputId": "a1398382-d24a-4af1-b352-739c7951bc02"
      },
      "outputs": [
        {
          "output_type": "stream",
          "name": "stdout",
          "text": [
            "60\n",
            "150\n"
          ]
        }
      ],
      "source": [
        "\n",
        "def decoratorOne(func):\n",
        "    def inner():\n",
        "        x = func()\n",
        "        return x+10\n",
        "    return inner\n",
        "\n",
        "def decoratorTwo(func):\n",
        "    def inner():\n",
        "        x = func()\n",
        "        return x*10\n",
        "    return inner\n",
        "\n",
        "@decoratorOne\n",
        "@decoratorTwo\n",
        "def myFunction():\n",
        "    return 5\n",
        "\n",
        "@decoratorTwo\n",
        "@decoratorOne\n",
        "def yourFunction():\n",
        "    return 5\n",
        "\n",
        "print(myFunction())\n",
        "print(yourFunction())"
      ]
    },
    {
      "cell_type": "markdown",
      "id": "52ad2f41-8ed8-4d9c-91e0-751c3c47f9b9",
      "metadata": {
        "id": "52ad2f41-8ed8-4d9c-91e0-751c3c47f9b9"
      },
      "source": [
        "In this example, the **myFunction** function is decorated by **decoratorOne** and **decoratorTwo**. When we execute **myFunction()**, **decoratorTwo** will be executed first. The **func()** inside **decoratorTwo** holds 5 as a result, which is assigned to x. Then, the inner function returns 50. After that, **decoratorOne** will be executed. This time, **func()** holds 50, which is assigned to x. Therefore, the final result is 60."
      ]
    },
    {
      "cell_type": "markdown",
      "id": "1fbc12ae-91e0-4589-a22b-0060014511b3",
      "metadata": {
        "id": "1fbc12ae-91e0-4589-a22b-0060014511b3"
      },
      "source": [
        "## Chapter 23.5 Summary"
      ]
    },
    {
      "cell_type": "markdown",
      "id": "5a27e472-6f67-46b0-a475-f118347c6ef9",
      "metadata": {
        "id": "5a27e472-6f67-46b0-a475-f118347c6ef9"
      },
      "source": [
        "In this chapter, you've learned about iterables, iterators, generators, closures, and decorators that enable efficient and expressive programming. These skills are important for developing high-quality applications that demonstrate the best performance."
      ]
    }
  ],
  "metadata": {
    "kernelspec": {
      "display_name": "Python 3 (ipykernel)",
      "language": "python",
      "name": "python3"
    },
    "language_info": {
      "codemirror_mode": {
        "name": "ipython",
        "version": 3
      },
      "file_extension": ".py",
      "mimetype": "text/x-python",
      "name": "python",
      "nbconvert_exporter": "python",
      "pygments_lexer": "ipython3",
      "version": "3.12.3"
    },
    "colab": {
      "provenance": [],
      "name": "chapter24_IterablesIteratorsGeneratorsClosuresDecorators.ipynb",
      "include_colab_link": true
    }
  },
  "nbformat": 4,
  "nbformat_minor": 5
}