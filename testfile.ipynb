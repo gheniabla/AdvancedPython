{
 "cells": [
  {
   "cell_type": "code",
   "execution_count": 57,
   "id": "14e03478-fa11-4bc1-9fe3-11eab12708b9",
   "metadata": {},
   "outputs": [],
   "source": [
    "def my_range(start,end):\n",
    "    current = start\n",
    "    while current < end:\n",
    "        yield current\n",
    "        current += 1\n",
    "        "
   ]
  },
  {
   "cell_type": "code",
   "execution_count": 58,
   "id": "d09753e6-1645-4430-bae8-e82809f95b29",
   "metadata": {},
   "outputs": [],
   "source": [
    "t = my_range(4,8)"
   ]
  },
  {
   "cell_type": "code",
   "execution_count": 59,
   "id": "4470ac83-5091-4243-aa18-5d1cb1f49066",
   "metadata": {},
   "outputs": [
    {
     "name": "stdout",
     "output_type": "stream",
     "text": [
      "4\n",
      "5\n",
      "6\n"
     ]
    }
   ],
   "source": [
    "print(next(t))\n",
    "print(next(t))\n",
    "print(next(t))"
   ]
  },
  {
   "cell_type": "code",
   "execution_count": 60,
   "id": "51d11b70-de8f-4564-88ad-ea7cdabf378f",
   "metadata": {},
   "outputs": [
    {
     "name": "stdout",
     "output_type": "stream",
     "text": [
      "7\n"
     ]
    }
   ],
   "source": [
    "for z in t:\n",
    "    print(z)"
   ]
  },
  {
   "cell_type": "code",
   "execution_count": 61,
   "id": "9e2840b0-edae-47f0-8850-e346f7e13993",
   "metadata": {},
   "outputs": [
    {
     "name": "stdout",
     "output_type": "stream",
     "text": [
      "This is a test\n"
     ]
    }
   ],
   "source": [
    "my_sentence = \"This is a test\"\n",
    "print(my_sentence)"
   ]
  },
  {
   "cell_type": "code",
   "execution_count": 62,
   "id": "96895f6a-86b9-4abf-8b8d-a0e4293625cc",
   "metadata": {},
   "outputs": [
    {
     "name": "stdout",
     "output_type": "stream",
     "text": [
      "T\n",
      "h\n",
      "i\n",
      "s\n",
      " \n",
      "i\n",
      "s\n",
      " \n",
      "a\n",
      " \n",
      "t\n",
      "e\n",
      "s\n",
      "t\n"
     ]
    }
   ],
   "source": [
    "for i in my_sentence:\n",
    "    print(i)"
   ]
  },
  {
   "cell_type": "code",
   "execution_count": 63,
   "id": "661d6540-42e9-43f4-a311-f75b04d4e791",
   "metadata": {},
   "outputs": [],
   "source": [
    "def my_gen(text):\n",
    "    for word in text.split():\n",
    "        yield word"
   ]
  },
  {
   "cell_type": "code",
   "execution_count": 64,
   "id": "39b8e3b4-4f78-473a-b889-f2992a7dd724",
   "metadata": {},
   "outputs": [
    {
     "name": "stdout",
     "output_type": "stream",
     "text": [
      "<generator object my_gen at 0x75e24b7e1000>\n"
     ]
    }
   ],
   "source": [
    "mytext = my_gen(\"This is a test\")\n",
    "print(mytext)"
   ]
  },
  {
   "cell_type": "code",
   "execution_count": 65,
   "id": "7bd6157d-f474-46c2-a2df-3775cef29086",
   "metadata": {},
   "outputs": [
    {
     "name": "stdout",
     "output_type": "stream",
     "text": [
      "This\n",
      "is\n",
      "a\n",
      "test\n"
     ]
    }
   ],
   "source": [
    "for i in mytext:\n",
    "    print(i)"
   ]
  },
  {
   "cell_type": "code",
   "execution_count": 66,
   "id": "e245fe18-a68e-497c-96b3-5f22d78b9b65",
   "metadata": {},
   "outputs": [
    {
     "name": "stdout",
     "output_type": "stream",
     "text": [
      "[10, 20, 30, 40]\n"
     ]
    }
   ],
   "source": [
    "my_list =[10,20,30,40]\n",
    "print(my_list)"
   ]
  },
  {
   "cell_type": "code",
   "execution_count": 67,
   "id": "392bf25b-a3db-4d5f-8647-7a756c3c1508",
   "metadata": {},
   "outputs": [],
   "source": [
    "my_iterator = iter(my_list)\n"
   ]
  },
  {
   "cell_type": "code",
   "execution_count": 68,
   "id": "959a5995-a915-4a53-b777-50e3a41e941f",
   "metadata": {},
   "outputs": [
    {
     "name": "stdout",
     "output_type": "stream",
     "text": [
      "10\n",
      "20\n",
      "30\n",
      "40\n"
     ]
    }
   ],
   "source": [
    "while True:\n",
    "    try:\n",
    "        print(next(my_iterator))\n",
    "    except StopIteration:\n",
    "        break"
   ]
  },
  {
   "cell_type": "code",
   "execution_count": 5,
   "id": "713b6928-56b0-4616-bddb-786ac3bb365f",
   "metadata": {},
   "outputs": [],
   "source": [
    "numbers = [10,20,30,40,50]"
   ]
  },
  {
   "cell_type": "code",
   "execution_count": 6,
   "id": "2cef6b1a-5ee4-42b5-8ac7-1ee76def0a73",
   "metadata": {},
   "outputs": [
    {
     "name": "stdout",
     "output_type": "stream",
     "text": [
      "[10, 20, 30, 40, 50]\n"
     ]
    }
   ],
   "source": [
    "print(numbers)"
   ]
  },
  {
   "cell_type": "code",
   "execution_count": 7,
   "id": "1e7ad13c-8675-4f1e-9080-891a9bb7ef2d",
   "metadata": {},
   "outputs": [
    {
     "ename": "TypeError",
     "evalue": "'list' object is not an iterator",
     "output_type": "error",
     "traceback": [
      "\u001b[0;31m---------------------------------------------------------------------------\u001b[0m",
      "\u001b[0;31mTypeError\u001b[0m                                 Traceback (most recent call last)",
      "Cell \u001b[0;32mIn[7], line 1\u001b[0m\n\u001b[0;32m----> 1\u001b[0m \u001b[38;5;28mprint\u001b[39m(\u001b[38;5;28;43mnext\u001b[39;49m\u001b[43m(\u001b[49m\u001b[43mnumbers\u001b[49m\u001b[43m)\u001b[49m)\n",
      "\u001b[0;31mTypeError\u001b[0m: 'list' object is not an iterator"
     ]
    }
   ],
   "source": [
    "print(next(numbers))"
   ]
  },
  {
   "cell_type": "code",
   "execution_count": 15,
   "id": "0453561d-560a-4355-aafc-452434b86c52",
   "metadata": {},
   "outputs": [],
   "source": [
    "my_iterator= iter(numbers)"
   ]
  },
  {
   "cell_type": "code",
   "execution_count": null,
   "id": "f17f9260-42d3-434a-92e5-e2361bb92dc7",
   "metadata": {},
   "outputs": [],
   "source": []
  },
  {
   "cell_type": "code",
   "execution_count": 9,
   "id": "8cc1d379-a071-430f-b714-87e7849de8ab",
   "metadata": {},
   "outputs": [
    {
     "name": "stdout",
     "output_type": "stream",
     "text": [
      "10\n"
     ]
    }
   ],
   "source": [
    "print(next(my_iterator))"
   ]
  },
  {
   "cell_type": "code",
   "execution_count": 10,
   "id": "a59c073a-103f-4a74-a073-d841304baddc",
   "metadata": {},
   "outputs": [
    {
     "name": "stdout",
     "output_type": "stream",
     "text": [
      "20\n"
     ]
    }
   ],
   "source": [
    "print(next(my_iterator))"
   ]
  },
  {
   "cell_type": "code",
   "execution_count": 11,
   "id": "25ad2e9b-bb31-4a8e-b1f7-4a1d890d6ce8",
   "metadata": {},
   "outputs": [
    {
     "name": "stdout",
     "output_type": "stream",
     "text": [
      "30\n"
     ]
    }
   ],
   "source": [
    "print(next(my_iterator))"
   ]
  },
  {
   "cell_type": "code",
   "execution_count": 12,
   "id": "60375832-518a-4900-83b8-f0e2b33b26e3",
   "metadata": {},
   "outputs": [
    {
     "name": "stdout",
     "output_type": "stream",
     "text": [
      "40\n"
     ]
    }
   ],
   "source": [
    "\n",
    "print(next(my_iterator))"
   ]
  },
  {
   "cell_type": "code",
   "execution_count": 13,
   "id": "2e5c0d55-a56c-4ccf-980e-49347f11f0da",
   "metadata": {},
   "outputs": [
    {
     "name": "stdout",
     "output_type": "stream",
     "text": [
      "50\n"
     ]
    }
   ],
   "source": [
    "print(next(my_iterator))"
   ]
  },
  {
   "cell_type": "code",
   "execution_count": 14,
   "id": "cce3348d-724f-4e58-b2e3-02e545edbec0",
   "metadata": {},
   "outputs": [
    {
     "ename": "StopIteration",
     "evalue": "",
     "output_type": "error",
     "traceback": [
      "\u001b[0;31m---------------------------------------------------------------------------\u001b[0m",
      "\u001b[0;31mStopIteration\u001b[0m                             Traceback (most recent call last)",
      "Cell \u001b[0;32mIn[14], line 1\u001b[0m\n\u001b[0;32m----> 1\u001b[0m \u001b[38;5;28mprint\u001b[39m(\u001b[38;5;28;43mnext\u001b[39;49m\u001b[43m(\u001b[49m\u001b[43mmy_iterator\u001b[49m\u001b[43m)\u001b[49m)\n",
      "\u001b[0;31mStopIteration\u001b[0m: "
     ]
    }
   ],
   "source": [
    "print(next(my_iterator))"
   ]
  },
  {
   "cell_type": "code",
   "execution_count": 17,
   "id": "7bd784d8-3e0b-490e-b21d-b3f3732033b9",
   "metadata": {},
   "outputs": [
    {
     "name": "stdout",
     "output_type": "stream",
     "text": [
      "20\n"
     ]
    }
   ],
   "source": [
    "print(next(my_iterator))"
   ]
  },
  {
   "cell_type": "code",
   "execution_count": 31,
   "id": "dea44f03-008e-414d-9119-45a3f423c2bd",
   "metadata": {},
   "outputs": [
    {
     "name": "stdout",
     "output_type": "stream",
     "text": [
      "0\n",
      "0\n",
      "1\n",
      "1\n",
      "2\n",
      "2\n",
      "3\n",
      "3\n",
      "4\n",
      "4\n",
      "5\n",
      "5\n",
      "6\n",
      "6\n",
      "7\n",
      "7\n",
      "8\n",
      "8\n",
      "9\n",
      "9\n"
     ]
    }
   ],
   "source": [
    "my_data= [*range(10)]\n",
    "it=iter(my_data)  #create iterable object\n",
    "myit=my_data.__iter__() # the same thing\n",
    "while True:\n",
    "    try:\n",
    "        print(next(it))\n",
    "        print(myit.__next__())\n",
    "    except StopIteration:\n",
    "        break\n"
   ]
  },
  {
   "cell_type": "code",
   "execution_count": 28,
   "id": "2c4c98bc-46b0-4ac8-9639-fbf3ff757f67",
   "metadata": {},
   "outputs": [
    {
     "data": {
      "text/plain": [
       "[0, 1, 2, 3, 4, 5, 6, 7, 8, 9]"
      ]
     },
     "execution_count": 28,
     "metadata": {},
     "output_type": "execute_result"
    }
   ],
   "source": [
    "my_data= [*range(10)]\n",
    "my_data"
   ]
  },
  {
   "cell_type": "code",
   "execution_count": 23,
   "id": "fc83ec13-507f-4681-98c4-163094fc8416",
   "metadata": {},
   "outputs": [],
   "source": [
    "import itertools\n",
    "import operator\n",
    "l1 = [*range(1,5)]\n",
    "l2 = [*range(5,10)]\n",
    "l3 = [*range(10,15)]"
   ]
  },
  {
   "cell_type": "code",
   "execution_count": 24,
   "id": "3b2d8559-1594-445c-9a83-bbf36b91e7d0",
   "metadata": {},
   "outputs": [
    {
     "name": "stdout",
     "output_type": "stream",
     "text": [
      "[1, 3, 6, 10]\n"
     ]
    }
   ],
   "source": [
    "print(list(itertools.accumulate(l1)))"
   ]
  },
  {
   "cell_type": "code",
   "execution_count": 26,
   "id": "6f420952-a9a2-4718-a9a6-c7a746c0ac27",
   "metadata": {},
   "outputs": [
    {
     "name": "stdout",
     "output_type": "stream",
     "text": [
      "[1, 2, 6, 24]\n"
     ]
    }
   ],
   "source": [
    "print(list(itertools.accumulate(l1,operator.mul)))"
   ]
  },
  {
   "cell_type": "code",
   "execution_count": 27,
   "id": "0686c088-c17a-45f8-b01f-cf79dba5999f",
   "metadata": {},
   "outputs": [
    {
     "name": "stdout",
     "output_type": "stream",
     "text": [
      "[1, 2, 3, 4, 5, 6, 7, 8, 9, 10, 11, 12, 13, 14]\n"
     ]
    }
   ],
   "source": [
    "print(list(itertools.chain(l1,l2,l3)))"
   ]
  },
  {
   "cell_type": "code",
   "execution_count": 55,
   "id": "0d05d50b-1d67-4e6c-a9de-bb4340bf9bd8",
   "metadata": {},
   "outputs": [],
   "source": [
    "#define a Counter class as an example\n",
    "class Counter:\n",
    "    def __init__(self,start,end):\n",
    "        self.num = start\n",
    "        self.end = end\n",
    "\n",
    "    def __iter__(self):\n",
    "        return self\n",
    "\n",
    "\n",
    "    def __next__(self):\n",
    "        if self.num > self.end:\n",
    "            raise StopIteration\n",
    "        current = self.num\n",
    "        self.num += 1\n",
    "        return current\n"
   ]
  },
  {
   "cell_type": "code",
   "execution_count": 56,
   "id": "96150282-1269-49f8-a9d1-6018a6240ced",
   "metadata": {},
   "outputs": [],
   "source": [
    "c1 = Counter(2,5)"
   ]
  },
  {
   "cell_type": "code",
   "execution_count": 57,
   "id": "7fb804bd-45c7-4c0c-be0b-763e28628f23",
   "metadata": {},
   "outputs": [
    {
     "name": "stdout",
     "output_type": "stream",
     "text": [
      "2\n",
      "3\n",
      "4\n",
      "5\n"
     ]
    }
   ],
   "source": [
    "for i in c1:\n",
    "    print(i)"
   ]
  },
  {
   "cell_type": "code",
   "execution_count": 58,
   "id": "449de2a9-c505-44aa-9a72-a570f67b5fa5",
   "metadata": {},
   "outputs": [
    {
     "name": "stdout",
     "output_type": "stream",
     "text": [
      "5\n",
      "6\n",
      "7\n",
      "8\n",
      "9\n",
      "10\n",
      "end of counting\n"
     ]
    }
   ],
   "source": [
    "#Print with iter()\n",
    "c2 = Counter(5,10)\n",
    "myiter = iter(c2)\n",
    "try:\n",
    "    while True:\n",
    "        print(next(myiter))\n",
    "except:\n",
    "    print(\"end of counting\")"
   ]
  },
  {
   "cell_type": "code",
   "execution_count": 59,
   "id": "25aead42-f19e-4de0-8511-4ffb25905411",
   "metadata": {},
   "outputs": [
    {
     "data": {
      "text/plain": [
       "'\\nevery iterator is iterable but opposite is not true\\nfor example: list is iterable but it is not an iterator\\n'"
      ]
     },
     "execution_count": 59,
     "metadata": {},
     "output_type": "execute_result"
    }
   ],
   "source": [
    "#Difference between \"iterator\" and \"iterable\"\n",
    "\"\"\"\n",
    "every iterator is iterable but opposite is not true\n",
    "for example: list is iterable but it is not an iterator\n",
    "\"\"\""
   ]
  },
  {
   "cell_type": "code",
   "execution_count": 60,
   "id": "1dbd0b85-5745-4fff-a1d6-578376d801ba",
   "metadata": {},
   "outputs": [],
   "source": [
    "#define a generator function\n",
    "def myPower():\n",
    "    i = 1\n",
    "    while True:\n",
    "        yield i*i\n",
    "        i += 1\n"
   ]
  },
  {
   "cell_type": "code",
   "execution_count": 61,
   "id": "44bd54b1-2360-401f-822d-ab232d5da318",
   "metadata": {},
   "outputs": [
    {
     "name": "stdout",
     "output_type": "stream",
     "text": [
      "1\n",
      "4\n",
      "9\n",
      "16\n",
      "25\n",
      "36\n",
      "49\n",
      "64\n",
      "81\n",
      "100\n",
      "121\n",
      "144\n",
      "169\n",
      "196\n"
     ]
    }
   ],
   "source": [
    "for num in myPower():\n",
    "    if num > 200:\n",
    "        break\n",
    "    print(num)"
   ]
  },
  {
   "cell_type": "code",
   "execution_count": null,
   "id": "7656a767-19c7-4863-bce9-3693cd9ecc2a",
   "metadata": {},
   "outputs": [],
   "source": [
    "# Closures"
   ]
  },
  {
   "cell_type": "code",
   "execution_count": 72,
   "id": "6006acd7-4646-4c64-83fa-7ff959cba406",
   "metadata": {},
   "outputs": [],
   "source": [
    "def fun1(x):\n",
    "    def fun2(y,z):\n",
    "        return x+y+z\n",
    "    return fun2 # a closure"
   ]
  },
  {
   "cell_type": "code",
   "execution_count": 73,
   "id": "dff1d837-22ff-4ab6-b422-36d30e76b6e5",
   "metadata": {},
   "outputs": [
    {
     "name": "stdout",
     "output_type": "stream",
     "text": [
      "35\n"
     ]
    }
   ],
   "source": [
    "closure = fun1(10)\n",
    "print(closure(5,20))"
   ]
  },
  {
   "cell_type": "code",
   "execution_count": 74,
   "id": "1757196c-9dd5-423f-a1d8-8127fa5e076a",
   "metadata": {},
   "outputs": [],
   "source": [
    "#Decorators\n",
    "def decorator(func):\n",
    "    def wrapper():\n",
    "        print(\"Before calling the function\")\n",
    "        func()\n",
    "        print(\"After calling the function\")\n",
    "    return wrapper\n"
   ]
  },
  {
   "cell_type": "code",
   "execution_count": 76,
   "id": "457beb4d-7f39-4744-80fd-2ccfa0d1ba5e",
   "metadata": {},
   "outputs": [],
   "source": [
    "@decorator\n",
    "def greet():\n",
    "    print(\"Hello, Virginia\")\n",
    "    "
   ]
  },
  {
   "cell_type": "code",
   "execution_count": 77,
   "id": "32dd1a83-d429-40e8-85b4-db8f6f2b05c4",
   "metadata": {},
   "outputs": [
    {
     "name": "stdout",
     "output_type": "stream",
     "text": [
      "Before calling the function\n",
      "Hello, Virginia\n",
      "After calling the function\n"
     ]
    }
   ],
   "source": [
    "greet()"
   ]
  },
  {
   "cell_type": "code",
   "execution_count": 93,
   "id": "26c8b7f0-fa7d-4c15-b560-2899a86c61d6",
   "metadata": {},
   "outputs": [],
   "source": [
    "#higher order functions"
   ]
  },
  {
   "cell_type": "code",
   "execution_count": 95,
   "id": "9b9fb41d-2a23-4431-8d86-55961f4e6ee8",
   "metadata": {},
   "outputs": [
    {
     "data": {
      "text/plain": [
       "25"
      ]
     },
     "execution_count": 95,
     "metadata": {},
     "output_type": "execute_result"
    }
   ],
   "source": [
    "def fun(f,x):\n",
    "    return f(x)\n",
    "def square(x):\n",
    "    return x*x\n",
    "\n",
    "result = fun(square,5)\n",
    "result"
   ]
  },
  {
   "cell_type": "code",
   "execution_count": 119,
   "id": "b73f5298-5fac-499e-bac6-8ab3c45d629f",
   "metadata": {},
   "outputs": [],
   "source": [
    "\n",
    "def decorator(func):\n",
    "    def wrapper(*args):\n",
    "        print(\"before...\")\n",
    "        func(*args)\n",
    "        print(\"after...\")\n",
    "    return wrapper\n",
    "    \n",
    "\n",
    "def cal(x,y):\n",
    "    print(x+y)\n"
   ]
  },
  {
   "cell_type": "code",
   "execution_count": 113,
   "id": "9c2507da-414b-453c-a63a-b474b8980659",
   "metadata": {},
   "outputs": [
    {
     "name": "stdout",
     "output_type": "stream",
     "text": [
      "7\n"
     ]
    }
   ],
   "source": [
    "cal(2,5)"
   ]
  },
  {
   "cell_type": "code",
   "execution_count": 120,
   "id": "9b1db069-65bd-4888-9180-006cfbe785d3",
   "metadata": {},
   "outputs": [
    {
     "name": "stdout",
     "output_type": "stream",
     "text": [
      "before...\n",
      "5\n",
      "after...\n"
     ]
    }
   ],
   "source": [
    "@decorator\n",
    "def cal(x,y):\n",
    "    print(x+y)\n",
    "cal(2,3)"
   ]
  },
  {
   "cell_type": "code",
   "execution_count": 121,
   "id": "d282f7e5-5045-4cbd-b103-213e8ec37c0b",
   "metadata": {},
   "outputs": [
    {
     "name": "stdout",
     "output_type": "stream",
     "text": [
      "before...\n",
      "10\n",
      "after...\n"
     ]
    }
   ],
   "source": [
    "@decorator\n",
    "def cal(x,y,z):\n",
    "    print(x*y+z)\n",
    "cal(2,3,4)"
   ]
  },
  {
   "cell_type": "code",
   "execution_count": 156,
   "id": "620e0f55-ee4c-44b3-b40d-6cda6592b8c5",
   "metadata": {},
   "outputs": [],
   "source": [
    "def my_decorator(func):\n",
    "    def wrapper(*args,**kwargs):\n",
    "        print(\"before...\")\n",
    "        result=func(*args,**kwargs)\n",
    "        print(f\"after...{result}\")\n",
    "        \n",
    "    return wrapper\n"
   ]
  },
  {
   "cell_type": "code",
   "execution_count": 159,
   "id": "219a4653-5606-46ad-8399-cfb3885c3796",
   "metadata": {},
   "outputs": [
    {
     "name": "stdout",
     "output_type": "stream",
     "text": [
      "before...\n",
      "after...7\n"
     ]
    }
   ],
   "source": [
    "@my_decorator\n",
    "def add(m,n):\n",
    "    \n",
    "    return m + n\n",
    "   \n",
    "add(2,5)"
   ]
  },
  {
   "cell_type": "code",
   "execution_count": null,
   "id": "1934a7de-d134-4bda-a3d6-88f9170b7fe0",
   "metadata": {},
   "outputs": [],
   "source": []
  }
 ],
 "metadata": {
  "kernelspec": {
   "display_name": "Python 3 (ipykernel)",
   "language": "python",
   "name": "python3"
  },
  "language_info": {
   "codemirror_mode": {
    "name": "ipython",
    "version": 3
   },
   "file_extension": ".py",
   "mimetype": "text/x-python",
   "name": "python",
   "nbconvert_exporter": "python",
   "pygments_lexer": "ipython3",
   "version": "3.12.3"
  }
 },
 "nbformat": 4,
 "nbformat_minor": 5
}
