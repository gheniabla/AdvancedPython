{
 "cells": [
  {
   "cell_type": "code",
   "execution_count": 1,
   "id": "2268bb4e-149e-420c-9c36-62323d78ecf4",
   "metadata": {},
   "outputs": [
    {
     "name": "stdout",
     "output_type": "stream",
     "text": [
      "test file\n"
     ]
    }
   ],
   "source": [
    "print(\"test file\")"
   ]
  },
  {
   "cell_type": "code",
   "execution_count": null,
   "id": "14e03478-fa11-4bc1-9fe3-11eab12708b9",
   "metadata": {},
   "outputs": [],
   "source": []
  }
 ],
 "metadata": {
  "kernelspec": {
   "display_name": "Python 3 (ipykernel)",
   "language": "python",
   "name": "python3"
  },
  "language_info": {
   "codemirror_mode": {
    "name": "ipython",
    "version": 3
   },
   "file_extension": ".py",
   "mimetype": "text/x-python",
   "name": "python",
   "nbconvert_exporter": "python",
   "pygments_lexer": "ipython3",
   "version": "3.12.3"
  }
 },
 "nbformat": 4,
 "nbformat_minor": 5
}
