{
 "cells": [
  {
   "cell_type": "code",
   "execution_count": 57,
   "id": "14e03478-fa11-4bc1-9fe3-11eab12708b9",
   "metadata": {},
   "outputs": [],
   "source": [
    "def my_range(start,end):\n",
    "    current = start\n",
    "    while current < end:\n",
    "        yield current\n",
    "        current += 1\n",
    "        "
   ]
  },
  {
   "cell_type": "code",
   "execution_count": 58,
   "id": "d09753e6-1645-4430-bae8-e82809f95b29",
   "metadata": {},
   "outputs": [],
   "source": [
    "t = my_range(4,8)"
   ]
  },
  {
   "cell_type": "code",
   "execution_count": 59,
   "id": "4470ac83-5091-4243-aa18-5d1cb1f49066",
   "metadata": {},
   "outputs": [
    {
     "name": "stdout",
     "output_type": "stream",
     "text": [
      "4\n",
      "5\n",
      "6\n"
     ]
    }
   ],
   "source": [
    "print(next(t))\n",
    "print(next(t))\n",
    "print(next(t))"
   ]
  },
  {
   "cell_type": "code",
   "execution_count": 60,
   "id": "51d11b70-de8f-4564-88ad-ea7cdabf378f",
   "metadata": {},
   "outputs": [
    {
     "name": "stdout",
     "output_type": "stream",
     "text": [
      "7\n"
     ]
    }
   ],
   "source": [
    "for z in t:\n",
    "    print(z)"
   ]
  },
  {
   "cell_type": "code",
   "execution_count": 61,
   "id": "9e2840b0-edae-47f0-8850-e346f7e13993",
   "metadata": {},
   "outputs": [
    {
     "name": "stdout",
     "output_type": "stream",
     "text": [
      "This is a test\n"
     ]
    }
   ],
   "source": [
    "my_sentence = \"This is a test\"\n",
    "print(my_sentence)"
   ]
  },
  {
   "cell_type": "code",
   "execution_count": 62,
   "id": "96895f6a-86b9-4abf-8b8d-a0e4293625cc",
   "metadata": {},
   "outputs": [
    {
     "name": "stdout",
     "output_type": "stream",
     "text": [
      "T\n",
      "h\n",
      "i\n",
      "s\n",
      " \n",
      "i\n",
      "s\n",
      " \n",
      "a\n",
      " \n",
      "t\n",
      "e\n",
      "s\n",
      "t\n"
     ]
    }
   ],
   "source": [
    "for i in my_sentence:\n",
    "    print(i)"
   ]
  },
  {
   "cell_type": "code",
   "execution_count": 63,
   "id": "661d6540-42e9-43f4-a311-f75b04d4e791",
   "metadata": {},
   "outputs": [],
   "source": [
    "def my_gen(text):\n",
    "    for word in text.split():\n",
    "        yield word"
   ]
  },
  {
   "cell_type": "code",
   "execution_count": 64,
   "id": "39b8e3b4-4f78-473a-b889-f2992a7dd724",
   "metadata": {},
   "outputs": [
    {
     "name": "stdout",
     "output_type": "stream",
     "text": [
      "<generator object my_gen at 0x75e24b7e1000>\n"
     ]
    }
   ],
   "source": [
    "mytext = my_gen(\"This is a test\")\n",
    "print(mytext)"
   ]
  },
  {
   "cell_type": "code",
   "execution_count": 65,
   "id": "7bd6157d-f474-46c2-a2df-3775cef29086",
   "metadata": {},
   "outputs": [
    {
     "name": "stdout",
     "output_type": "stream",
     "text": [
      "This\n",
      "is\n",
      "a\n",
      "test\n"
     ]
    }
   ],
   "source": [
    "for i in mytext:\n",
    "    print(i)"
   ]
  },
  {
   "cell_type": "code",
   "execution_count": 66,
   "id": "e245fe18-a68e-497c-96b3-5f22d78b9b65",
   "metadata": {},
   "outputs": [
    {
     "name": "stdout",
     "output_type": "stream",
     "text": [
      "[10, 20, 30, 40]\n"
     ]
    }
   ],
   "source": [
    "my_list =[10,20,30,40]\n",
    "print(my_list)"
   ]
  },
  {
   "cell_type": "code",
   "execution_count": 67,
   "id": "392bf25b-a3db-4d5f-8647-7a756c3c1508",
   "metadata": {},
   "outputs": [],
   "source": [
    "my_iterator = iter(my_list)\n"
   ]
  },
  {
   "cell_type": "code",
   "execution_count": 68,
   "id": "959a5995-a915-4a53-b777-50e3a41e941f",
   "metadata": {},
   "outputs": [
    {
     "name": "stdout",
     "output_type": "stream",
     "text": [
      "10\n",
      "20\n",
      "30\n",
      "40\n"
     ]
    }
   ],
   "source": [
    "while True:\n",
    "    try:\n",
    "        print(next(my_iterator))\n",
    "    except StopIteration:\n",
    "        break"
   ]
  },
  {
   "cell_type": "code",
   "execution_count": null,
   "id": "713b6928-56b0-4616-bddb-786ac3bb365f",
   "metadata": {},
   "outputs": [],
   "source": []
  }
 ],
 "metadata": {
  "kernelspec": {
   "display_name": "Python 3 (ipykernel)",
   "language": "python",
   "name": "python3"
  },
  "language_info": {
   "codemirror_mode": {
    "name": "ipython",
    "version": 3
   },
   "file_extension": ".py",
   "mimetype": "text/x-python",
   "name": "python",
   "nbconvert_exporter": "python",
   "pygments_lexer": "ipython3",
   "version": "3.12.3"
  }
 },
 "nbformat": 4,
 "nbformat_minor": 5
}
